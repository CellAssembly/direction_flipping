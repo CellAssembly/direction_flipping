{
 "cells": [
  {
   "cell_type": "code",
   "execution_count": 1,
   "metadata": {
    "collapsed": true
   },
   "outputs": [],
   "source": [
    "import numpy as np\n",
    "import pandas as pd\n",
    "import os\n",
    "import sys\n",
    "import h5py\n",
    "\n",
    "import matplotlib.pyplot as plt\n",
    "%matplotlib inline"
   ]
  },
  {
   "cell_type": "code",
   "execution_count": 2,
   "metadata": {
    "collapsed": true
   },
   "outputs": [],
   "source": [
    "sys.path.append(r'/Users/saskiad/aibs/Analysis')"
   ]
  },
  {
   "cell_type": "code",
   "execution_count": 3,
   "metadata": {
    "collapsed": true
   },
   "outputs": [],
   "source": [
    "from CreateStimTable import get_sync, get_sync_table"
   ]
  },
  {
   "cell_type": "code",
   "execution_count": 4,
   "metadata": {
    "collapsed": true
   },
   "outputs": [],
   "source": [
    "logpath = r'/Volumes/Brain2017/TargetedSFTF/682731703/681698752_373112_20180411_stim.pkl'\n",
    "syncpath = r'/Volumes/Brain2017/TargetedSFTF/682731703/681698752_373112_20180411_sync.h5'"
   ]
  },
  {
   "cell_type": "code",
   "execution_count": 5,
   "metadata": {},
   "outputs": [
    {
     "name": "stdout",
     "output_type": "stream",
     "text": [
      "Dropped frames: 6 at [  600.28825  1200.26275  1802.23868  2403.21384  3004.18881  3607.16554]\n",
      "Long frames(>0.1 s): 0 at []\n",
      "Photodiode events before stimulus start.  Deleted.\n",
      "Delay: 0.0046\n",
      "Delay std: 0.0\n",
      "Loading stimulus log from: /Volumes/Brain2017/TargetedSFTF/682731703/681698752_373112_20180411_stim.pkl\n",
      "drifting_gratings_SFTF\n"
     ]
    }
   ],
   "source": [
    "twop_frames, acquisition_rate = get_sync(syncpath)\n",
    "sync_dict = get_sync_table(logpath, twop_frames)  \n",
    "stim_table = sync_dict['0']"
   ]
  },
  {
   "cell_type": "code",
   "execution_count": 6,
   "metadata": {
    "collapsed": true
   },
   "outputs": [],
   "source": [
    "stim_table = sync_dict['0']"
   ]
  },
  {
   "cell_type": "code",
   "execution_count": null,
   "metadata": {
    "collapsed": true
   },
   "outputs": [],
   "source": []
  },
  {
   "cell_type": "code",
   "execution_count": null,
   "metadata": {
    "collapsed": true
   },
   "outputs": [],
   "source": []
  },
  {
   "cell_type": "code",
   "execution_count": null,
   "metadata": {
    "collapsed": true
   },
   "outputs": [],
   "source": []
  }
 ],
 "metadata": {
  "kernelspec": {
   "display_name": "Python [default]",
   "language": "python",
   "name": "python2"
  },
  "language_info": {
   "codemirror_mode": {
    "name": "ipython",
    "version": 2
   },
   "file_extension": ".py",
   "mimetype": "text/x-python",
   "name": "python",
   "nbconvert_exporter": "python",
   "pygments_lexer": "ipython2",
   "version": "2.7.14"
  }
 },
 "nbformat": 4,
 "nbformat_minor": 2
}
