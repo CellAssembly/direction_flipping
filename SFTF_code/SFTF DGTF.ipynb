{
 "cells": [
  {
   "cell_type": "code",
   "execution_count": 1,
   "metadata": {
    "collapsed": true
   },
   "outputs": [],
   "source": [
    "import numpy as np\n",
    "import pandas as pd\n",
    "import os\n",
    "import sys\n",
    "import h5py\n",
    "\n",
    "import matplotlib.pyplot as plt\n",
    "%matplotlib inline"
   ]
  },
  {
   "cell_type": "code",
   "execution_count": 2,
   "metadata": {
    "collapsed": true
   },
   "outputs": [],
   "source": [
    "sys.path.append(r'/Users/saskiad/aibs/Analysis')"
   ]
  },
  {
   "cell_type": "code",
   "execution_count": 3,
   "metadata": {
    "collapsed": true
   },
   "outputs": [],
   "source": [
    "from CreateStimTable import get_sync, get_sync_table"
   ]
  },
  {
   "cell_type": "code",
   "execution_count": 4,
   "metadata": {
    "collapsed": true
   },
   "outputs": [],
   "source": [
    "logpath = r'/Volumes/Brain2017/TargetedSFTF/682731703/681698752_373112_20180411_stim.pkl'\n",
    "syncpath = r'/Volumes/Brain2017/TargetedSFTF/682731703/681698752_373112_20180411_sync.h5'"
   ]
  },
  {
   "cell_type": "code",
   "execution_count": 5,
   "metadata": {},
   "outputs": [
    {
     "name": "stdout",
     "output_type": "stream",
     "text": [
      "Dropped frames: 6 at [  600.28825  1200.26275  1802.23868  2403.21384  3004.18881  3607.16554]\n",
      "Long frames(>0.1 s): 0 at []\n",
      "Photodiode events before stimulus start.  Deleted.\n",
      "Delay: 0.0046\n",
      "Delay std: 0.0\n",
      "Loading stimulus log from: /Volumes/Brain2017/TargetedSFTF/682731703/681698752_373112_20180411_stim.pkl\n",
      "drifting_gratings_SFTF\n"
     ]
    }
   ],
   "source": [
    "twop_frames, acquisition_rate = get_sync(syncpath)\n",
    "sync_dict = get_sync_table(logpath, twop_frames)  \n",
    "stim_table = sync_dict['0']"
   ]
  },
  {
   "cell_type": "code",
   "execution_count": 6,
   "metadata": {
    "collapsed": true
   },
   "outputs": [],
   "source": [
    "stim_table = sync_dict['0']"
   ]
  },
  {
   "cell_type": "code",
   "execution_count": 7,
   "metadata": {},
   "outputs": [
    {
     "data": {
      "text/html": [
       "<div>\n",
       "<style>\n",
       "    .dataframe thead tr:only-child th {\n",
       "        text-align: right;\n",
       "    }\n",
       "\n",
       "    .dataframe thead th {\n",
       "        text-align: left;\n",
       "    }\n",
       "\n",
       "    .dataframe tbody tr th {\n",
       "        vertical-align: top;\n",
       "    }\n",
       "</style>\n",
       "<table border=\"1\" class=\"dataframe\">\n",
       "  <thead>\n",
       "    <tr style=\"text-align: right;\">\n",
       "      <th></th>\n",
       "      <th>Start</th>\n",
       "      <th>End</th>\n",
       "      <th>sweep_number</th>\n",
       "      <th>TF</th>\n",
       "      <th>SF</th>\n",
       "      <th>Ori</th>\n",
       "      <th>Contrast</th>\n",
       "    </tr>\n",
       "  </thead>\n",
       "  <tbody>\n",
       "    <tr>\n",
       "      <th>0</th>\n",
       "      <td>435.0</td>\n",
       "      <td>495.0</td>\n",
       "      <td>91</td>\n",
       "      <td>8.0</td>\n",
       "      <td>0.08</td>\n",
       "      <td>270.0</td>\n",
       "      <td>0.8</td>\n",
       "    </tr>\n",
       "    <tr>\n",
       "      <th>1</th>\n",
       "      <td>526.0</td>\n",
       "      <td>585.0</td>\n",
       "      <td>38</td>\n",
       "      <td>1.0</td>\n",
       "      <td>0.32</td>\n",
       "      <td>180.0</td>\n",
       "      <td>0.8</td>\n",
       "    </tr>\n",
       "    <tr>\n",
       "      <th>2</th>\n",
       "      <td>616.0</td>\n",
       "      <td>676.0</td>\n",
       "      <td>30</td>\n",
       "      <td>1.0</td>\n",
       "      <td>0.08</td>\n",
       "      <td>180.0</td>\n",
       "      <td>0.8</td>\n",
       "    </tr>\n",
       "    <tr>\n",
       "      <th>3</th>\n",
       "      <td>707.0</td>\n",
       "      <td>766.0</td>\n",
       "      <td>45</td>\n",
       "      <td>2.0</td>\n",
       "      <td>0.04</td>\n",
       "      <td>90.0</td>\n",
       "      <td>0.8</td>\n",
       "    </tr>\n",
       "    <tr>\n",
       "      <th>4</th>\n",
       "      <td>797.0</td>\n",
       "      <td>857.0</td>\n",
       "      <td>16</td>\n",
       "      <td>0.5</td>\n",
       "      <td>0.32</td>\n",
       "      <td>0.0</td>\n",
       "      <td>0.8</td>\n",
       "    </tr>\n",
       "  </tbody>\n",
       "</table>\n",
       "</div>"
      ],
      "text/plain": [
       "   Start    End  sweep_number   TF    SF    Ori  Contrast\n",
       "0  435.0  495.0            91  8.0  0.08  270.0       0.8\n",
       "1  526.0  585.0            38  1.0  0.32  180.0       0.8\n",
       "2  616.0  676.0            30  1.0  0.08  180.0       0.8\n",
       "3  707.0  766.0            45  2.0  0.04   90.0       0.8\n",
       "4  797.0  857.0            16  0.5  0.32    0.0       0.8"
      ]
     },
     "execution_count": 7,
     "metadata": {},
     "output_type": "execute_result"
    }
   ],
   "source": [
    "stim_table.head()"
   ]
  },
  {
   "cell_type": "code",
   "execution_count": 8,
   "metadata": {
    "collapsed": true
   },
   "outputs": [],
   "source": [
    "stim_table.to_csv(r'/Volumes/Brain2017/TargetedSFTF/682731703/stim_table.csv')"
   ]
  },
  {
   "cell_type": "code",
   "execution_count": 16,
   "metadata": {},
   "outputs": [
    {
     "data": {
      "text/plain": [
       "array([ 0.5,  1. ,  2. ,  4. ,  8. ])"
      ]
     },
     "execution_count": 16,
     "metadata": {},
     "output_type": "execute_result"
    }
   ],
   "source": [
    "np.sort(stim_table.TF.dropna().unique())"
   ]
  },
  {
   "cell_type": "code",
   "execution_count": 19,
   "metadata": {},
   "outputs": [
    {
     "data": {
      "text/plain": [
       "array([ 0.02,  0.04,  0.08,  0.16,  0.32,   nan])"
      ]
     },
     "execution_count": 19,
     "metadata": {},
     "output_type": "execute_result"
    }
   ],
   "source": [
    "np.sort(stim_table.SF.unique())"
   ]
  },
  {
   "cell_type": "code",
   "execution_count": 18,
   "metadata": {},
   "outputs": [
    {
     "data": {
      "text/plain": [
       "array([   0.,   90.,  180.,  270.,   nan])"
      ]
     },
     "execution_count": 18,
     "metadata": {},
     "output_type": "execute_result"
    }
   ],
   "source": [
    "np.sort(stim_table.Ori.unique())"
   ]
  },
  {
   "cell_type": "code",
   "execution_count": null,
   "metadata": {
    "collapsed": true
   },
   "outputs": [],
   "source": []
  },
  {
   "cell_type": "markdown",
   "metadata": {},
   "source": [
    "## Make stim tables for all SFxTF experiments"
   ]
  },
  {
   "cell_type": "code",
   "execution_count": 20,
   "metadata": {
    "collapsed": true
   },
   "outputs": [],
   "source": [
    "targeted_expts = pd.read_csv(r'/Volumes/programs/braintv/workgroups/nc-ophys/VisualCoding/targeted_manifest.csv')"
   ]
  },
  {
   "cell_type": "code",
   "execution_count": 21,
   "metadata": {},
   "outputs": [
    {
     "data": {
      "text/plain": [
       "array([nan, 'VisCodingTargetedContrast',\n",
       "       'VisCodingTargetedRunningDecoding', 'VisCodingTargetedTFxSF',\n",
       "       'VisCodingTargetedMovieClips', 'targeted_exp_natural_scenes'], dtype=object)"
      ]
     },
     "execution_count": 21,
     "metadata": {},
     "output_type": "execute_result"
    }
   ],
   "source": [
    "sftf.ophys_session_id"
   ]
  },
  {
   "cell_type": "code",
   "execution_count": 22,
   "metadata": {
    "collapsed": true
   },
   "outputs": [],
   "source": [
    "sftf = targeted_expts[targeted_expts.stimulus_name=='VisCodingTargetedTFxSF']"
   ]
  },
  {
   "cell_type": "code",
   "execution_count": 29,
   "metadata": {},
   "outputs": [
    {
     "name": "stdout",
     "output_type": "stream",
     "text": [
      "Stimulus log: 693163510_377629_20180502_stim.pkl\n",
      "Sync file: 693163510_377629_20180502_sync.h5\n",
      "Dropped frames: 0 at []\n",
      "Long frames(>0.1 s): 0 at []\n",
      "Photodiode events before stimulus start.  Deleted.\n",
      "Photodiode error detected. Number of frames: 4\n",
      "Photodiode error detected. Number of frames: 2\n",
      "Delay: 0.0231\n",
      "Delay std: 0.0001\n",
      "Loading stimulus log from: /Volumes/programs/braintv/production/neuralcoding/prod49/specimen_664744816/ophys_session_693163510/693163510_377629_20180502_stim.pkl\n",
      "drifting_gratings_SFTF\n",
      "saved to  /Volumes/programs/braintv/workgroups/nc-ophys/VisualCoding/stimulus_tables/693163510_stim_table.csv\n",
      "Stimulus log: 687293842_377321_20180420_stim.pkl\n",
      "Sync file: 687293842_377321_20180420_sync.h5\n",
      "Dropped frames: 0 at []\n",
      "Long frames(>0.1 s): 0 at []\n",
      "Photodiode events before stimulus start.  Deleted.\n",
      "Photodiode error detected. Number of frames: 7\n",
      "Photodiode error detected. Number of frames: 5\n",
      "Photodiode error detected. Number of frames: 4\n",
      "Photodiode error detected. Number of frames: 2\n",
      "Delay: 0.0231\n",
      "Delay std: 0.0001\n",
      "Loading stimulus log from: /Volumes/programs/braintv/production/neuralcoding/prod48/specimen_664605504/ophys_session_687293842/687293842_377321_20180420_stim.pkl\n",
      "drifting_gratings_SFTF\n",
      "saved to  /Volumes/programs/braintv/workgroups/nc-ophys/VisualCoding/stimulus_tables/687293842_stim_table.csv\n",
      "Stimulus log: 686708257_377321_20180419_stim.pkl\n",
      "Sync file: 686708257_377321_20180419_sync.h5\n",
      "Dropped frames: 0 at []\n",
      "Long frames(>0.1 s): 0 at []\n",
      "Photodiode events before stimulus start.  Deleted.\n",
      "Photodiode error detected. Number of frames: 8\n",
      "Photodiode error detected. Number of frames: 6\n",
      "Photodiode error detected. Number of frames: 4\n",
      "Photodiode error detected. Number of frames: 2\n",
      "Delay: 0.0231\n",
      "Delay std: 0.0001\n",
      "Loading stimulus log from: /Volumes/programs/braintv/production/neuralcoding/prod48/specimen_664605504/ophys_session_686708257/686708257_377321_20180419_stim.pkl\n",
      "drifting_gratings_SFTF\n",
      "saved to  /Volumes/programs/braintv/workgroups/nc-ophys/VisualCoding/stimulus_tables/686708257_stim_table.csv\n",
      "Stimulus log: 691741646_377321_20180427_stim.pkl\n",
      "Sync file: 691741646_377321_20180427_sync.h5\n",
      "Dropped frames: 0 at []\n",
      "Long frames(>0.1 s): 0 at []\n",
      "Photodiode events before stimulus start.  Deleted.\n",
      "negative dimensions are not allowed\n",
      "Process without photodiode signal\n",
      "Assumed delay: 0.0351\n",
      "Loading stimulus log from: /Volumes/programs/braintv/production/neuralcoding/prod48/specimen_664605504/ophys_session_691741646/691741646_377321_20180427_stim.pkl\n",
      "drifting_gratings_SFTF\n",
      "saved to  /Volumes/programs/braintv/workgroups/nc-ophys/VisualCoding/stimulus_tables/691741646_stim_table.csv\n",
      "Stimulus log: 681698752_373112_20180411_stim.pkl\n",
      "Sync file: 681698752_373112_20180411_sync.h5\n",
      "Dropped frames: 6 at [  600.28825  1200.26275  1802.23868  2403.21384  3004.18881  3607.16554]\n",
      "Long frames(>0.1 s): 0 at []\n",
      "Photodiode events before stimulus start.  Deleted.\n",
      "Delay: 0.0046\n",
      "Delay std: 0.0\n",
      "Loading stimulus log from: /Volumes/programs/braintv/production/neuralcoding/prod48/specimen_661968859/ophys_session_681698752/681698752_373112_20180411_stim.pkl\n",
      "drifting_gratings_SFTF\n",
      "saved to  /Volumes/programs/braintv/workgroups/nc-ophys/VisualCoding/stimulus_tables/681698752_stim_table.csv\n",
      "Stimulus log: 692308988_377151_20180430_stim.pkl\n",
      "Sync file: 692308988_377151_20180430_sync.h5\n",
      "Dropped frames: 7 at [   15.86651   618.84316  1219.81827  1824.79663  2426.77243  3026.74668\n",
      "  3629.72324]\n",
      "Long frames(>0.1 s): 1 at [ 2426.77243]\n",
      "Photodiode events before stimulus start.  Deleted.\n",
      "Delay: 0.0045\n",
      "Delay std: 0.0\n",
      "Loading stimulus log from: /Volumes/programs/braintv/production/neuralcoding/prod49/specimen_666839638/ophys_session_692308988/692308988_377151_20180430_stim.pkl\n",
      "drifting_gratings_SFTF\n",
      "saved to  /Volumes/programs/braintv/workgroups/nc-ophys/VisualCoding/stimulus_tables/692308988_stim_table.csv\n",
      "Stimulus log: 689705421_377629_20180425_stim.pkl\n",
      "Sync file: 689705421_377629_20180425_sync.h5\n",
      "Dropped frames: 0 at []\n",
      "Long frames(>0.1 s): 0 at []\n",
      "Photodiode events before stimulus start.  Deleted.\n",
      "Photodiode error detected. Number of frames: 8\n",
      "Photodiode error detected. Number of frames: 6\n",
      "Photodiode error detected. Number of frames: 4\n",
      "Photodiode error detected. Number of frames: 2\n",
      "Delay: 0.023\n",
      "Delay std: 0.0001\n",
      "Loading stimulus log from: /Volumes/programs/braintv/production/neuralcoding/prod49/specimen_664744816/ophys_session_689705421/689705421_377629_20180425_stim.pkl\n",
      "drifting_gratings_SFTF\n",
      "saved to  /Volumes/programs/braintv/workgroups/nc-ophys/VisualCoding/stimulus_tables/689705421_stim_table.csv\n",
      "Sync file: 692124629_377629_20180430_sync.h5\n",
      "Stimulus log: 692124629_377629_20180430_stim.pkl\n",
      "Dropped frames: 0 at []\n",
      "Long frames(>0.1 s): 0 at []\n",
      "Photodiode events before stimulus start.  Deleted.\n",
      "Photodiode error detected. Number of frames: 6\n",
      "Photodiode error detected. Number of frames: 4\n",
      "Photodiode error detected. Number of frames: 2\n",
      "Delay: 0.0232\n",
      "Delay std: 0.0001\n",
      "Loading stimulus log from: /Volumes/programs/braintv/production/neuralcoding/prod49/specimen_664744816/ophys_session_692124629/692124629_377629_20180430_stim.pkl\n",
      "drifting_gratings_SFTF\n",
      "saved to  /Volumes/programs/braintv/workgroups/nc-ophys/VisualCoding/stimulus_tables/692124629_stim_table.csv\n",
      "Stimulus log: 692310299_377321_20180430_stim.pkl\n",
      "Sync file: 692310299_377321_20180430_sync.h5\n",
      "Dropped frames: 2 at [ 3125.53787  3125.58791]\n",
      "Long frames(>0.1 s): 0 at []\n",
      "Photodiode events before stimulus start.  Deleted.\n",
      "Photodiode error detected. Number of frames: 8\n",
      "Photodiode error detected. Number of frames: 6\n",
      "Photodiode error detected. Number of frames: 4\n",
      "Photodiode error detected. Number of frames: 2\n",
      "Delay: 0.0232\n",
      "Delay std: 0.0001\n",
      "Loading stimulus log from: /Volumes/programs/braintv/production/neuralcoding/prod48/specimen_664605504/ophys_session_692310299/692310299_377321_20180430_stim.pkl\n",
      "drifting_gratings_SFTF\n",
      "saved to  /Volumes/programs/braintv/workgroups/nc-ophys/VisualCoding/stimulus_tables/692310299_stim_table.csv\n",
      "Sync file: 692799916_377321_20180501_sync.h5\n",
      "Stimulus log: 692799916_377321_20180501_stim.pkl\n",
      "Dropped frames: 0 at []\n",
      "Long frames(>0.1 s): 0 at []\n",
      "Photodiode events before stimulus start.  Deleted.\n",
      "Photodiode error detected. Number of frames: 4\n",
      "Photodiode error detected. Number of frames: 2\n",
      "Delay: 0.0232\n",
      "Delay std: 0.0001\n",
      "Loading stimulus log from: /Volumes/programs/braintv/production/neuralcoding/prod48/specimen_664605504/ophys_session_692799916/692799916_377321_20180501_stim.pkl\n",
      "drifting_gratings_SFTF\n",
      "saved to  /Volumes/programs/braintv/workgroups/nc-ophys/VisualCoding/stimulus_tables/692799916_stim_table.csv\n",
      "Stimulus log: 690759629_377629_20180426_stim.pkl\n",
      "Sync file: 690759629_377629_20180426_sync.h5\n",
      "Dropped frames: 0 at []\n",
      "Long frames(>0.1 s): 0 at []\n",
      "Photodiode events before stimulus start.  Deleted.\n",
      "Photodiode error detected. Number of frames: 12\n",
      "Photodiode error detected. Number of frames: 10\n",
      "Photodiode error detected. Number of frames: 8\n",
      "Photodiode error detected. Number of frames: 6\n",
      "Photodiode error detected. Number of frames: 4\n",
      "Photodiode error detected. Number of frames: 2\n",
      "Delay: 0.023\n",
      "Delay std: 0.0001\n",
      "Loading stimulus log from: /Volumes/programs/braintv/production/neuralcoding/prod49/specimen_664744816/ophys_session_690759629/690759629_377629_20180426_stim.pkl\n",
      "drifting_gratings_SFTF\n",
      "saved to  /Volumes/programs/braintv/workgroups/nc-ophys/VisualCoding/stimulus_tables/690759629_stim_table.csv\n",
      "Sync file: 696247907_381627_20180510_sync.h5\n",
      "Stimulus log: 696247907_381627_20180510_stim.pkl\n",
      "Dropped frames: 6 at [  512.1297   1113.10494  1714.08029  2314.05495  2915.03022  3517.02292]\n",
      "Long frames(>0.1 s): 1 at [ 3517.02292]\n",
      "Photodiode events before stimulus start.  Deleted.\n",
      "Delay: 0.0046\n",
      "Delay std: 0.0\n",
      "Loading stimulus log from: /Volumes/programs/braintv/production/neuralcoding/prod51/specimen_673580710/ophys_session_696247907/696247907_381627_20180510_stim.pkl\n",
      "drifting_gratings_SFTF\n",
      "saved to  /Volumes/programs/braintv/workgroups/nc-ophys/VisualCoding/stimulus_tables/696247907_stim_table.csv\n",
      "Sync file: 693424346_377129_20180503_sync.h5\n",
      "Stimulus log: 693424346_377129_20180503_stim.pkl\n",
      "Dropped frames: 0 at []\n",
      "Long frames(>0.1 s): 0 at []\n",
      "Photodiode events before stimulus start.  Deleted.\n",
      "negative dimensions are not allowed\n",
      "Process without photodiode signal\n",
      "Assumed delay: 0.0351\n"
     ]
    },
    {
     "name": "stdout",
     "output_type": "stream",
     "text": [
      "Loading stimulus log from: /Volumes/programs/braintv/production/neuralcoding/prod49/specimen_666788991/ophys_session_693424346/693424346_377129_20180503_stim.pkl\n",
      "drifting_gratings_SFTF\n",
      "saved to  /Volumes/programs/braintv/workgroups/nc-ophys/VisualCoding/stimulus_tables/693424346_stim_table.csv\n",
      "Stimulus log: 692413859_377129_20180501_stim.pkl\n",
      "Sync file: 692413859_377129_20180501_sync.h5\n",
      "Dropped frames: 0 at []\n",
      "Long frames(>0.1 s): 0 at []\n",
      "Photodiode events before stimulus start.  Deleted.\n",
      "Photodiode error detected. Number of frames: 8\n",
      "Photodiode error detected. Number of frames: 6\n",
      "Photodiode error detected. Number of frames: 4\n",
      "Photodiode error detected. Number of frames: 2\n",
      "Delay: 0.0231\n",
      "Delay std: 0.0001\n",
      "Loading stimulus log from: /Volumes/programs/braintv/production/neuralcoding/prod49/specimen_666788991/ophys_session_692413859/692413859_377129_20180501_stim.pkl\n",
      "drifting_gratings_SFTF\n",
      "saved to  /Volumes/programs/braintv/workgroups/nc-ophys/VisualCoding/stimulus_tables/692413859_stim_table.csv\n",
      "Stimulus log: 692708565_377629_20180501_stim.pkl\n",
      "Sync file: 692708565_377629_20180501_sync.h5\n",
      "Dropped frames: 0 at []\n",
      "Long frames(>0.1 s): 0 at []\n",
      "Photodiode events before stimulus start.  Deleted.\n",
      "Photodiode error detected. Number of frames: 6\n",
      "Photodiode error detected. Number of frames: 4\n",
      "Photodiode error detected. Number of frames: 2\n",
      "Delay: 0.0232\n",
      "Delay std: 0.0001\n",
      "Loading stimulus log from: /Volumes/programs/braintv/production/neuralcoding/prod49/specimen_664744816/ophys_session_692708565/692708565_377629_20180501_stim.pkl\n",
      "drifting_gratings_SFTF\n",
      "saved to  /Volumes/programs/braintv/workgroups/nc-ophys/VisualCoding/stimulus_tables/692708565_stim_table.csv\n",
      "Sync file: 693163207_378346_20180502_sync.h5\n",
      "Stimulus log: 693163207_378346_20180502_stim.pkl\n",
      "Dropped frames: 6 at [  121.28096   722.25611  1322.2306   1922.20512  2527.18333  3133.16262]\n",
      "Long frames(>0.1 s): 1 at [ 2527.18333]\n",
      "Photodiode events before stimulus start.  Deleted.\n",
      "Photodiode error detected. Number of frames: 2\n",
      "Delay: 0.0045\n",
      "Delay std: 0.0001\n",
      "Loading stimulus log from: /Volumes/programs/braintv/production/neuralcoding/prod50/specimen_671540231/ophys_session_693163207/693163207_378346_20180502_stim.pkl\n",
      "drifting_gratings_SFTF\n",
      "saved to  /Volumes/programs/braintv/workgroups/nc-ophys/VisualCoding/stimulus_tables/693163207_stim_table.csv\n",
      "Stimulus log: 694754690_377629_20180507_stim.pkl\n",
      "Sync file: 694754690_377629_20180507_sync.h5\n",
      "Dropped frames: 0 at []\n",
      "Long frames(>0.1 s): 0 at []\n",
      "Photodiode events before stimulus start.  Deleted.\n",
      "negative dimensions are not allowed\n",
      "Process without photodiode signal\n",
      "Assumed delay: 0.0351\n",
      "Loading stimulus log from: /Volumes/programs/braintv/production/neuralcoding/prod49/specimen_664744816/ophys_session_694754690/694754690_377629_20180507_stim.pkl\n",
      "drifting_gratings_SFTF\n",
      "saved to  /Volumes/programs/braintv/workgroups/nc-ophys/VisualCoding/stimulus_tables/694754690_stim_table.csv\n",
      "Sync file: 693710061_377629_20180503_sync.h5\n",
      "Stimulus log: 693710061_377629_20180503_stim.pkl\n",
      "Dropped frames: 0 at []\n",
      "Long frames(>0.1 s): 0 at []\n",
      "Photodiode events before stimulus start.  Deleted.\n",
      "Photodiode error detected. Number of frames: 6\n",
      "Photodiode error detected. Number of frames: 4\n",
      "Photodiode error detected. Number of frames: 2\n",
      "Delay: 0.0231\n",
      "Delay std: 0.0001\n",
      "Loading stimulus log from: /Volumes/programs/braintv/production/neuralcoding/prod49/specimen_664744816/ophys_session_693710061/693710061_377629_20180503_stim.pkl\n",
      "drifting_gratings_SFTF\n",
      "saved to  /Volumes/programs/braintv/workgroups/nc-ophys/VisualCoding/stimulus_tables/693710061_stim_table.csv\n",
      "Sync file: 695123997_383647_20180508_sync.h5\n",
      "Stimulus log: 695123997_383647_20180508_stim.pkl\n",
      "Dropped frames: 0 at []\n",
      "Long frames(>0.1 s): 0 at []\n",
      "Photodiode events before stimulus start.  Deleted.\n",
      "Photodiode error detected. Number of frames: 6\n",
      "Photodiode error detected. Number of frames: 4\n",
      "Photodiode error detected. Number of frames: 2\n",
      "Delay: 0.0231\n",
      "Delay std: 0.0001\n",
      "Loading stimulus log from: /Volumes/programs/braintv/production/neuralcoding/prod51/specimen_675881553/ophys_session_695123997/695123997_383647_20180508_stim.pkl\n",
      "drifting_gratings_SFTF\n",
      "saved to  /Volumes/programs/braintv/workgroups/nc-ophys/VisualCoding/stimulus_tables/695123997_stim_table.csv\n",
      "Sync file: 695169813_377129_20180508_sync.h5\n",
      "Stimulus log: 695169813_377129_20180508_stim.pkl\n",
      "Dropped frames: 0 at []\n",
      "Long frames(>0.1 s): 0 at []\n",
      "Photodiode events before stimulus start.  Deleted.\n",
      "Photodiode error detected. Number of frames: 4\n",
      "Photodiode error detected. Number of frames: 2\n",
      "Delay: 0.0232\n",
      "Delay std: 0.0001\n",
      "Loading stimulus log from: /Volumes/programs/braintv/production/neuralcoding/prod49/specimen_666788991/ophys_session_695169813/695169813_377129_20180508_stim.pkl\n",
      "drifting_gratings_SFTF\n",
      "saved to  /Volumes/programs/braintv/workgroups/nc-ophys/VisualCoding/stimulus_tables/695169813_stim_table.csv\n",
      "Sync file: 694862252_381627_20180509_sync.h5\n",
      "Stimulus log: 694862252_381627_20180509_stim.pkl\n",
      "Dropped frames: 7 at [  443.47626  1048.43775  1651.41466  2252.40642  2858.38554  2904.37196\n",
      "  3504.36309]\n",
      "Long frames(>0.1 s): 1 at [ 2904.37196]\n",
      "Photodiode events before stimulus start.  Deleted.\n",
      "Photodiode error detected. Number of frames: 2\n",
      "Delay: 0.0045\n",
      "Delay std: 0.0\n",
      "Loading stimulus log from: /Volumes/programs/braintv/production/neuralcoding/prod51/specimen_673580710/ophys_session_694862252/694862252_381627_20180509_stim.pkl\n",
      "drifting_gratings_SFTF\n",
      "saved to  /Volumes/programs/braintv/workgroups/nc-ophys/VisualCoding/stimulus_tables/694862252_stim_table.csv\n",
      "Sync file: 697392152_379669_20180514_sync.h5\n",
      "Stimulus log: 697392152_379669_20180514_stim.pkl\n",
      "Dropped frames: 0 at []\n",
      "Long frames(>0.1 s): 0 at []\n",
      "Photodiode events before stimulus start.  Deleted.\n",
      "Photodiode error detected. Number of frames: 2\n",
      "Delay: 0.0232\n",
      "Delay std: 0.0001\n",
      "Loading stimulus log from: /Volumes/programs/braintv/production/neuralcoding/prod51/specimen_673728456/ophys_session_697392152/697392152_379669_20180514_stim.pkl\n",
      "drifting_gratings_SFTF\n",
      "saved to  /Volumes/programs/braintv/workgroups/nc-ophys/VisualCoding/stimulus_tables/697392152_stim_table.csv\n",
      "Sync file: 697606136_377629_20180514_sync.h5\n",
      "Stimulus log: 697606136_377629_20180514_stim.pkl\n",
      "Dropped frames: 0 at []\n",
      "Long frames(>0.1 s): 0 at []\n",
      "Photodiode events before stimulus start.  Deleted.\n",
      "Photodiode error detected. Number of frames: 4\n",
      "Photodiode error detected. Number of frames: 2\n",
      "Delay: 0.0231\n",
      "Delay std: 0.0001\n",
      "Loading stimulus log from: /Volumes/programs/braintv/production/neuralcoding/prod49/specimen_664744816/ophys_session_697606136/697606136_377629_20180514_stim.pkl\n",
      "drifting_gratings_SFTF\n",
      "saved to  /Volumes/programs/braintv/workgroups/nc-ophys/VisualCoding/stimulus_tables/697606136_stim_table.csv\n",
      "Stimulus log: 698783733_379669_20180517_stim.pkl\n",
      "Sync file: 698783733_379669_20180517_sync.h5\n",
      "Dropped frames: 0 at []\n",
      "Long frames(>0.1 s): 0 at []\n",
      "Photodiode events before stimulus start.  Deleted.\n",
      "Photodiode error detected. Number of frames: 6\n",
      "Photodiode error detected. Number of frames: 4\n",
      "Photodiode error detected. Number of frames: 2\n",
      "Delay: 0.0232\n",
      "Delay std: 0.0001\n",
      "Loading stimulus log from: /Volumes/programs/braintv/production/neuralcoding/prod51/specimen_673728456/ophys_session_698783733/698783733_379669_20180517_stim.pkl\n",
      "drifting_gratings_SFTF\n",
      "saved to  /Volumes/programs/braintv/workgroups/nc-ophys/VisualCoding/stimulus_tables/698783733_stim_table.csv\n",
      "Sync file: 695633877_383647_20180509_sync.h5\n",
      "Stimulus log: 695633877_383647_20180509_stim.pkl\n",
      "Dropped frames: 0 at []\n",
      "Long frames(>0.1 s): 0 at []\n",
      "Photodiode events before stimulus start.  Deleted.\n",
      "Photodiode error detected. Number of frames: 4\n",
      "Photodiode error detected. Number of frames: 2\n",
      "Delay: 0.0231\n",
      "Delay std: 0.0001\n",
      "Loading stimulus log from: /Volumes/programs/braintv/production/neuralcoding/prod51/specimen_675881553/ophys_session_695633877/695633877_383647_20180509_stim.pkl\n",
      "drifting_gratings_SFTF\n",
      "saved to  /Volumes/programs/braintv/workgroups/nc-ophys/VisualCoding/stimulus_tables/695633877_stim_table.csv\n",
      "Sync file: 696130311_377321_20180509_sync.h5\n",
      "Stimulus log: 696130311_377321_20180509_stim.pkl\n",
      "Dropped frames: 2 at [ 767.82861  773.13277]\n",
      "Long frames(>0.1 s): 0 at []\n",
      "Photodiode events before stimulus start.  Deleted.\n",
      "Photodiode error detected. Number of frames: 8\n",
      "Photodiode error detected. Number of frames: 6\n",
      "Photodiode error detected. Number of frames: 4\n",
      "Photodiode error detected. Number of frames: 2\n",
      "Delay: 0.0232\n",
      "Delay std: 0.0001\n"
     ]
    },
    {
     "name": "stdout",
     "output_type": "stream",
     "text": [
      "Loading stimulus log from: /Volumes/programs/braintv/production/neuralcoding/prod48/specimen_664605504/ophys_session_696130311/696130311_377321_20180509_stim.pkl\n",
      "drifting_gratings_SFTF\n",
      "saved to  /Volumes/programs/braintv/workgroups/nc-ophys/VisualCoding/stimulus_tables/696130311_stim_table.csv\n",
      "Sync file: 695746063_377129_20180509_sync.h5\n",
      "Stimulus log: 695746063_377129_20180509_stim.pkl\n",
      "Dropped frames: 0 at []\n",
      "Long frames(>0.1 s): 0 at []\n",
      "Photodiode events before stimulus start.  Deleted.\n",
      "Photodiode error detected. Number of frames: 4\n",
      "Photodiode error detected. Number of frames: 2\n",
      "Delay: 0.0232\n",
      "Delay std: 0.0001\n",
      "Loading stimulus log from: /Volumes/programs/braintv/production/neuralcoding/prod49/specimen_666788991/ophys_session_695746063/695746063_377129_20180509_stim.pkl\n",
      "drifting_gratings_SFTF\n",
      "saved to  /Volumes/programs/braintv/workgroups/nc-ophys/VisualCoding/stimulus_tables/695746063_stim_table.csv\n",
      "Sync file: 697608599_382481_20180514_sync.h5\n",
      "Stimulus log: 697608599_382481_20180514_stim.pkl\n",
      "Dropped frames: 6 at [  487.77526  1088.75038  1692.72798  2292.70238  2899.68232  3500.65727]\n",
      "Long frames(>0.1 s): 0 at []\n",
      "Photodiode events before stimulus start.  Deleted.\n",
      "Photodiode error detected. Number of frames: 2\n",
      "Delay: 0.0045\n",
      "Delay std: 0.0\n",
      "Loading stimulus log from: /Volumes/programs/braintv/production/neuralcoding/prod51/specimen_675861517/ophys_session_697608599/697608599_382481_20180514_stim.pkl\n",
      "drifting_gratings_SFTF\n",
      "saved to  /Volumes/programs/braintv/workgroups/nc-ophys/VisualCoding/stimulus_tables/697608599_stim_table.csv\n",
      "Stimulus log: 700599622_383647_20180522_stim.pkl\n",
      "Sync file: 700599622_383647_20180522_sync.h5\n",
      "Dropped frames: 0 at []\n",
      "Long frames(>0.1 s): 0 at []\n",
      "Photodiode error detected. Number of frames: 2\n",
      "Delay: 0.0232\n",
      "Delay std: 0.0001\n",
      "Loading stimulus log from: /Volumes/programs/braintv/production/neuralcoding/prod51/specimen_675881553/ophys_session_700599622/700599622_383647_20180522_stim.pkl\n",
      "drifting_gratings_SFTF\n",
      "saved to  /Volumes/programs/braintv/workgroups/nc-ophys/VisualCoding/stimulus_tables/700599622_stim_table.csv\n",
      "Sync file: 698999602_377629_20180517_sync.h5\n",
      "Stimulus log: 698999602_377629_20180517_stim.pkl\n",
      "Dropped frames: 0 at []\n",
      "Long frames(>0.1 s): 0 at []\n",
      "Photodiode events before stimulus start.  Deleted.\n",
      "Photodiode error detected. Number of frames: 6\n",
      "Photodiode error detected. Number of frames: 4\n",
      "Photodiode error detected. Number of frames: 2\n",
      "Delay: 0.0232\n",
      "Delay std: 0.0001\n",
      "Loading stimulus log from: /Volumes/programs/braintv/production/neuralcoding/prod49/specimen_664744816/ophys_session_698999602/698999602_377629_20180517_stim.pkl\n",
      "drifting_gratings_SFTF\n",
      "saved to  /Volumes/programs/braintv/workgroups/nc-ophys/VisualCoding/stimulus_tables/698999602_stim_table.csv\n",
      "Sync file: 718830277_390319_20180712_sync.h5\n",
      "Stimulus log: 718830277_390319_20180712_stim.pkl\n",
      "Dropped frames: 0 at []\n",
      "Long frames(>0.1 s): 0 at []\n",
      "Photodiode events before stimulus start.  Deleted.\n",
      "Photodiode error detected. Number of frames: 8\n",
      "Photodiode error detected. Number of frames: 6\n",
      "Photodiode error detected. Number of frames: 4\n",
      "Photodiode error detected. Number of frames: 2\n",
      "Delay: 0.0208\n",
      "Delay std: 0.0001\n",
      "Loading stimulus log from: /Volumes/programs/braintv/production/neuralcoding/prod54/specimen_699590236/ophys_session_718830277/718830277_390319_20180712_stim.pkl\n",
      "drifting_gratings_SFTF\n",
      "saved to  /Volumes/programs/braintv/workgroups/nc-ophys/VisualCoding/stimulus_tables/718830277_stim_table.csv\n",
      "Stimulus log: 718204062_390319_20180709_stim.pkl\n",
      "Sync file: 718204062_390319_20180709_sync.h5\n",
      "Dropped frames: 0 at []\n",
      "Long frames(>0.1 s): 0 at []\n",
      "Photodiode events before stimulus start.  Deleted.\n",
      "Photodiode error detected. Number of frames: 2\n",
      "Delay: 0.0207\n",
      "Delay std: 0.0001\n",
      "Loading stimulus log from: /Volumes/programs/braintv/production/neuralcoding/prod54/specimen_699590236/ophys_session_718204062/718204062_390319_20180709_stim.pkl\n",
      "drifting_gratings_SFTF\n",
      "saved to  /Volumes/programs/braintv/workgroups/nc-ophys/VisualCoding/stimulus_tables/718204062_stim_table.csv\n",
      "Sync file: 717728964_390319_20180706_sync.h5\n",
      "Stimulus log: 717728964_390319_20180706_stim.pkl\n",
      "Dropped frames: 0 at []\n",
      "Long frames(>0.1 s): 0 at []\n",
      "Photodiode events before stimulus start.  Deleted.\n",
      "Photodiode error detected. Number of frames: 6\n",
      "Photodiode error detected. Number of frames: 4\n",
      "Photodiode error detected. Number of frames: 2\n",
      "Delay: 0.0209\n",
      "Delay std: 0.0001\n",
      "Loading stimulus log from: /Volumes/programs/braintv/production/neuralcoding/prod54/specimen_699590236/ophys_session_717728964/717728964_390319_20180706_stim.pkl\n",
      "drifting_gratings_SFTF\n",
      "saved to  /Volumes/programs/braintv/workgroups/nc-ophys/VisualCoding/stimulus_tables/717728964_stim_table.csv\n",
      "Sync file: 718651940_390319_20180710_sync.h5\n",
      "Stimulus log: 718651940_390319_20180710_stim.pkl\n",
      "Dropped frames: 0 at []\n",
      "Long frames(>0.1 s): 0 at []\n",
      "Photodiode events before stimulus start.  Deleted.\n",
      "Photodiode error detected. Number of frames: 2\n",
      "Delay: 0.0208\n",
      "Delay std: 0.0001\n",
      "Loading stimulus log from: /Volumes/programs/braintv/production/neuralcoding/prod54/specimen_699590236/ophys_session_718651940/718651940_390319_20180710_stim.pkl\n",
      "drifting_gratings_SFTF\n",
      "saved to  /Volumes/programs/braintv/workgroups/nc-ophys/VisualCoding/stimulus_tables/718651940_stim_table.csv\n",
      "Stimulus log: 719893937_390319_20180713_stim.pkl\n",
      "Sync file: 719893937_390319_20180713_sync.h5\n",
      "Dropped frames: 0 at []\n",
      "Long frames(>0.1 s): 0 at []\n",
      "Photodiode events before stimulus start.  Deleted.\n",
      "Photodiode error detected. Number of frames: 6\n",
      "Photodiode error detected. Number of frames: 4\n",
      "Photodiode error detected. Number of frames: 2\n",
      "Delay: 0.0208\n",
      "Delay std: 0.0001\n",
      "Loading stimulus log from: /Volumes/programs/braintv/production/neuralcoding/prod54/specimen_699590236/ophys_session_719893937/719893937_390319_20180713_stim.pkl\n",
      "drifting_gratings_SFTF\n",
      "saved to  /Volumes/programs/braintv/workgroups/nc-ophys/VisualCoding/stimulus_tables/719893937_stim_table.csv\n",
      "Stimulus log: 720757419_390319_20180717_stim.pkl\n",
      "Sync file: 720757419_390319_20180717_sync.h5\n",
      "Dropped frames: 2 at [ 3603.69686  3604.04712]\n",
      "Long frames(>0.1 s): 0 at []\n",
      "Photodiode events before stimulus start.  Deleted.\n",
      "Photodiode error detected. Number of frames: 2\n",
      "Delay: 0.0208\n",
      "Delay std: 0.0003\n",
      "Loading stimulus log from: /Volumes/programs/braintv/production/neuralcoding/prod54/specimen_699590236/ophys_session_720757419/720757419_390319_20180717_stim.pkl\n",
      "drifting_gratings_SFTF\n",
      "saved to  /Volumes/programs/braintv/workgroups/nc-ophys/VisualCoding/stimulus_tables/720757419_stim_table.csv\n"
     ]
    }
   ],
   "source": [
    "for index, row in sftf.iterrows():\n",
    "    exp_path_head = row.storage_directory\n",
    "    #format path for mac\n",
    "    temp = exp_path_head.split('/')\n",
    "    temp[1] = 'Volumes'\n",
    "    exp_path_head = '/'.join(temp)\n",
    "\n",
    "    exp_path_files = os.listdir(exp_path_head)\n",
    "    exp_folder_list = [i for i in exp_path_files if 'ophys_experiment' in i]\n",
    "    if len(exp_folder_list) > 1:\n",
    "        raise Exception('Multiple experiment folders in '+exp_path_head)\n",
    "    else:\n",
    "        exp_folder = exp_folder_list[0]\n",
    "    for f in os.listdir(exp_path_head):\n",
    "        if f.endswith('.pkl'):\n",
    "            logpath = os.path.join(exp_path_head, f)\n",
    "            print \"Stimulus log:\", f\n",
    "        if f.endswith('sync.h5'):\n",
    "            syncpath = os.path.join(exp_path_head, f)\n",
    "            print \"Sync file:\", f\n",
    "    twop_frames, acquisition_rate = get_sync(syncpath)\n",
    "    sync_dict = get_sync_table(logpath, twop_frames)  \n",
    "    stim_table = sync_dict['0']\n",
    "    savepath = '/Volumes/programs/braintv/workgroups/nc-ophys/VisualCoding/stimulus_tables/'+str(row.ophys_session_id)+'_stim_table.csv'\n",
    "    stim_table.to_csv(savepath)\n",
    "    print \"saved to \", savepath"
   ]
  },
  {
   "cell_type": "code",
   "execution_count": 27,
   "metadata": {},
   "outputs": [
    {
     "data": {
      "text/plain": [
       "'/Volumes/programs/braintv/production/neuralcoding/prod49/specimen_664744816/ophys_session_693163510/ophys_experiment_693285206'"
      ]
     },
     "execution_count": 27,
     "metadata": {},
     "output_type": "execute_result"
    }
   ],
   "source": [
    "datapath"
   ]
  },
  {
   "cell_type": "code",
   "execution_count": null,
   "metadata": {
    "collapsed": true
   },
   "outputs": [],
   "source": []
  },
  {
   "cell_type": "markdown",
   "metadata": {},
   "source": [
    "## Analyze experiment"
   ]
  },
  {
   "cell_type": "code",
   "execution_count": 369,
   "metadata": {
    "collapsed": true
   },
   "outputs": [],
   "source": [
    "session_id = 692308988#681698752#"
   ]
  },
  {
   "cell_type": "code",
   "execution_count": 31,
   "metadata": {
    "collapsed": true
   },
   "outputs": [],
   "source": [
    "basepath = r'/Users/saskiad/Documents/Data/CAM/Targeted Experiments'"
   ]
  },
  {
   "cell_type": "code",
   "execution_count": 370,
   "metadata": {
    "collapsed": true
   },
   "outputs": [],
   "source": [
    "eventpath = os.path.join(basepath, 'events')\n",
    "for f in os.listdir(eventpath):\n",
    "    if f.startswith(str(session_id)):\n",
    "        events = np.load(os.path.join(eventpath, f))['ev']"
   ]
  },
  {
   "cell_type": "code",
   "execution_count": 371,
   "metadata": {},
   "outputs": [
    {
     "data": {
      "text/plain": [
       "(374, 110392)"
      ]
     },
     "execution_count": 371,
     "metadata": {},
     "output_type": "execute_result"
    }
   ],
   "source": [
    "events.shape"
   ]
  },
  {
   "cell_type": "code",
   "execution_count": 372,
   "metadata": {
    "collapsed": true
   },
   "outputs": [],
   "source": [
    "numbercells = events.shape[0]"
   ]
  },
  {
   "cell_type": "code",
   "execution_count": 373,
   "metadata": {
    "collapsed": true
   },
   "outputs": [],
   "source": [
    "stimpath = os.path.join(basepath, 'stimulus_tables')\n",
    "for f in os.listdir(stimpath):\n",
    "    if f.startswith(str(session_id)):\n",
    "        stim_table = pd.read_csv(os.path.join(stimpath, f))"
   ]
  },
  {
   "cell_type": "code",
   "execution_count": 374,
   "metadata": {},
   "outputs": [
    {
     "data": {
      "text/html": [
       "<div>\n",
       "<style>\n",
       "    .dataframe thead tr:only-child th {\n",
       "        text-align: right;\n",
       "    }\n",
       "\n",
       "    .dataframe thead th {\n",
       "        text-align: left;\n",
       "    }\n",
       "\n",
       "    .dataframe tbody tr th {\n",
       "        vertical-align: top;\n",
       "    }\n",
       "</style>\n",
       "<table border=\"1\" class=\"dataframe\">\n",
       "  <thead>\n",
       "    <tr style=\"text-align: right;\">\n",
       "      <th></th>\n",
       "      <th>Unnamed: 0</th>\n",
       "      <th>Start</th>\n",
       "      <th>End</th>\n",
       "      <th>sweep_number</th>\n",
       "      <th>TF</th>\n",
       "      <th>SF</th>\n",
       "      <th>Ori</th>\n",
       "      <th>Contrast</th>\n",
       "    </tr>\n",
       "  </thead>\n",
       "  <tbody>\n",
       "    <tr>\n",
       "      <th>0</th>\n",
       "      <td>0</td>\n",
       "      <td>440.0</td>\n",
       "      <td>500.0</td>\n",
       "      <td>98</td>\n",
       "      <td>8.0</td>\n",
       "      <td>0.32</td>\n",
       "      <td>180.0</td>\n",
       "      <td>0.8</td>\n",
       "    </tr>\n",
       "    <tr>\n",
       "      <th>1</th>\n",
       "      <td>1</td>\n",
       "      <td>530.0</td>\n",
       "      <td>590.0</td>\n",
       "      <td>53</td>\n",
       "      <td>2.0</td>\n",
       "      <td>0.16</td>\n",
       "      <td>90.0</td>\n",
       "      <td>0.8</td>\n",
       "    </tr>\n",
       "    <tr>\n",
       "      <th>2</th>\n",
       "      <td>2</td>\n",
       "      <td>621.0</td>\n",
       "      <td>681.0</td>\n",
       "      <td>74</td>\n",
       "      <td>4.0</td>\n",
       "      <td>0.16</td>\n",
       "      <td>180.0</td>\n",
       "      <td>0.8</td>\n",
       "    </tr>\n",
       "    <tr>\n",
       "      <th>3</th>\n",
       "      <td>3</td>\n",
       "      <td>711.0</td>\n",
       "      <td>771.0</td>\n",
       "      <td>40</td>\n",
       "      <td>2.0</td>\n",
       "      <td>0.02</td>\n",
       "      <td>0.0</td>\n",
       "      <td>0.8</td>\n",
       "    </tr>\n",
       "    <tr>\n",
       "      <th>4</th>\n",
       "      <td>4</td>\n",
       "      <td>802.0</td>\n",
       "      <td>862.0</td>\n",
       "      <td>13</td>\n",
       "      <td>0.5</td>\n",
       "      <td>0.16</td>\n",
       "      <td>90.0</td>\n",
       "      <td>0.8</td>\n",
       "    </tr>\n",
       "  </tbody>\n",
       "</table>\n",
       "</div>"
      ],
      "text/plain": [
       "   Unnamed: 0  Start    End  sweep_number   TF    SF    Ori  Contrast\n",
       "0           0  440.0  500.0            98  8.0  0.32  180.0       0.8\n",
       "1           1  530.0  590.0            53  2.0  0.16   90.0       0.8\n",
       "2           2  621.0  681.0            74  4.0  0.16  180.0       0.8\n",
       "3           3  711.0  771.0            40  2.0  0.02    0.0       0.8\n",
       "4           4  802.0  862.0            13  0.5  0.16   90.0       0.8"
      ]
     },
     "execution_count": 374,
     "metadata": {},
     "output_type": "execute_result"
    }
   ],
   "source": [
    "stim_table.head()"
   ]
  },
  {
   "cell_type": "code",
   "execution_count": 44,
   "metadata": {
    "collapsed": true
   },
   "outputs": [],
   "source": [
    "def do_sweep_mean(x):\n",
    "    return x[30:].mean()"
   ]
  },
  {
   "cell_type": "code",
   "execution_count": 375,
   "metadata": {
    "collapsed": true
   },
   "outputs": [],
   "source": [
    "sweep_events = pd.DataFrame(index=stim_table.index.values, columns=np.array(range(numbercells)).astype(str))\n",
    "for ind,row_stim in stim_table.iterrows():\n",
    "    for nc in range(numbercells):\n",
    "        sweep_events[str(nc)][ind] = events[nc, int(row_stim.Start)-30:int(row_stim.Start)+60]\n",
    "mean_sweep_events = sweep_events.applymap(do_sweep_mean)"
   ]
  },
  {
   "cell_type": "code",
   "execution_count": 376,
   "metadata": {
    "collapsed": true
   },
   "outputs": [],
   "source": [
    "shuffled_responses = np.empty((numbercells, 10000, 60))\n",
    "idx = np.random.choice(range(int(stim_table.Start.min()), int(stim_table.End.max())), 10000)\n",
    "for i in range(60):\n",
    "    shuffled_responses[:,:,i] = events[:,idx+i]\n",
    "shuffled_mean = shuffled_responses.mean(axis=2)\n",
    "sweep_p_vals = pd.DataFrame(index = stim_table.index.values, columns=np.array(range(numbercells)).astype(str))\n",
    "for nc in range(numbercells):\n",
    "    subset = mean_sweep_events[str(nc)].values\n",
    "    null_dist_mat = np.tile(shuffled_mean[nc,:], reps=(len(subset),1))\n",
    "    actual_is_less = subset.reshape(len(subset),1) <= null_dist_mat\n",
    "    p_values = np.mean(actual_is_less, axis=1)\n",
    "    sweep_p_vals[str(nc)] = p_values"
   ]
  },
  {
   "cell_type": "code",
   "execution_count": 224,
   "metadata": {
    "collapsed": true
   },
   "outputs": [],
   "source": [
    "# import scipy.stats as st"
   ]
  },
  {
   "cell_type": "code",
   "execution_count": 276,
   "metadata": {
    "collapsed": true
   },
   "outputs": [],
   "source": [
    "# def do_pval(x):\n",
    "#     r,p = st.ks_2samp(x[:30],x[30:])\n",
    "#     return p\n",
    "\n",
    "# sweep_p_vals = sweep_events.applymap(do_pval)"
   ]
  },
  {
   "cell_type": "code",
   "execution_count": 377,
   "metadata": {
    "collapsed": true
   },
   "outputs": [],
   "source": [
    "orivals = np.sort(stim_table.Ori.dropna().unique())\n",
    "sfvals = np.sort(stim_table.SF.dropna().unique())\n",
    "tfvals = np.sort(stim_table.TF.dropna().unique())\n",
    "contrastvals = np.sort(stim_table.Contrast.dropna().unique())"
   ]
  },
  {
   "cell_type": "code",
   "execution_count": 378,
   "metadata": {
    "collapsed": true
   },
   "outputs": [],
   "source": [
    "response_events = np.empty((len(orivals)+1,len(sfvals), len(tfvals),len(contrastvals),numbercells,3))"
   ]
  },
  {
   "cell_type": "code",
   "execution_count": 379,
   "metadata": {
    "collapsed": true
   },
   "outputs": [],
   "source": [
    "response_events[:] = np.NaN\n",
    "blank = mean_sweep_events[np.isnan(stim_table.Ori)]\n",
    "response_events[0,0,0,0,:,0] = blank.mean(axis=0)\n",
    "response_events[0,0,0,0,:,1] = blank.std(axis=0)/np.sqrt(len(blank))"
   ]
  },
  {
   "cell_type": "code",
   "execution_count": 380,
   "metadata": {
    "collapsed": true
   },
   "outputs": [],
   "source": [
    "for oi, ori in enumerate(orivals):\n",
    "    oi+=1\n",
    "    for ti, tf in enumerate(tfvals):\n",
    "        for si, sf in enumerate(sfvals):\n",
    "            for ci, con in enumerate(contrastvals):\n",
    "                subset = mean_sweep_events[(stim_table.Ori==ori)&(stim_table.TF==tf)&(stim_table.SF==sf)&(stim_table.Contrast==con)]\n",
    "                subset_pval = sweep_p_vals[(stim_table.Ori==ori)&(stim_table.TF==tf)&(stim_table.SF==sf)&(stim_table.Contrast==con)]\n",
    "                response_events[oi,si,ti,ci,:,0] = subset.mean(axis=0)\n",
    "                response_events[oi,si,ti,ci,:,1] = subset.std(axis=0)/np.sqrt(len(subset))\n",
    "                response_events[oi,si,ti,ci,:,2] = subset_pval[subset_pval<0.05].count()"
   ]
  },
  {
   "cell_type": "code",
   "execution_count": 381,
   "metadata": {},
   "outputs": [
    {
     "name": "stdout",
     "output_type": "stream",
     "text": [
      "Saving data to:  /Users/saskiad/Documents/Data/CAM/Targeted Experiments/sftf_analysis/692308988_sftf_analysis.h5\n"
     ]
    }
   ],
   "source": [
    "save_path = r'/Users/saskiad/Documents/Data/CAM/Targeted Experiments/sftf_analysis/'\n",
    "save_file = os.path.join(save_path, str(session_id)+\"_sftf_analysis.h5\")\n",
    "print \"Saving data to: \", save_file\n",
    "store = pd.HDFStore(save_file)\n",
    "store['sweep_events'] = sweep_events\n",
    "store['mean_sweep_events'] = mean_sweep_events\n",
    "store['sweep_p_values'] = sweep_p_vals\n",
    "store.close()\n",
    "f = h5py.File(save_file, 'r+')\n",
    "dset = f.create_dataset('response_events', data=response_events)\n",
    "f.close()"
   ]
  },
  {
   "cell_type": "code",
   "execution_count": 282,
   "metadata": {},
   "outputs": [
    {
     "data": {
      "text/plain": [
       "[<matplotlib.lines.Line2D at 0x1b2e81450>]"
      ]
     },
     "execution_count": 282,
     "metadata": {},
     "output_type": "execute_result"
    },
    {
     "data": {
      "image/png": "[encoded data removed]",
      "text/plain": [
       "<matplotlib.figure.Figure at 0x135f66cd0>"
      ]
     },
     "metadata": {},
     "output_type": "display_data"
    }
   ],
   "source": [
    "plt.plot(events[25,:])"
   ]
  },
  {
   "cell_type": "code",
   "execution_count": 57,
   "metadata": {},
   "outputs": [
    {
     "data": {
      "text/plain": [
       "array([ 0.5,  1. ,  2. ,  4. ,  8. ])"
      ]
     },
     "execution_count": 57,
     "metadata": {},
     "output_type": "execute_result"
    }
   ],
   "source": [
    "tfvals"
   ]
  },
  {
   "cell_type": "code",
   "execution_count": null,
   "metadata": {
    "collapsed": true
   },
   "outputs": [],
   "source": [
    "(response[pref_ori, pref_tf, i, 0]-response[null_ori, pref_tf, i, 0])/(response[pref_ori, pref_tf, i, 1]+response[null_ori, pref_tf, i, 1])"
   ]
  },
  {
   "cell_type": "code",
   "execution_count": 173,
   "metadata": {},
   "outputs": [
    {
     "name": "stderr",
     "output_type": "stream",
     "text": [
      "/Users/saskiad/anaconda2/lib/python2.7/site-packages/ipykernel/__main__.py:23: RuntimeWarning: invalid value encountered in divide\n",
      "/Users/saskiad/anaconda2/lib/python2.7/site-packages/ipykernel/__main__.py:24: RuntimeWarning: invalid value encountered in divide\n"
     ]
    }
   ],
   "source": [
    "for nc in range(numbercells):\n",
    "    peak = np.where(response_events[1:,:,:,0,nc,0]==response_events[1:,:,:,0,nc,0].max())\n",
    "    peak_ori = peak[0][0]\n",
    "    peak_sf = peak[1][0]\n",
    "    peak_tf = peak[2][0]\n",
    "    null_ori_ind = np.mod(peak_ori+2,4)\n",
    "    plt.figure(figsize=(12,12))\n",
    "    plt.subplot(221)\n",
    "    vmax = response_events[1:,:,:,0,nc,0].max()\n",
    "    plt.imshow(response_events[peak_ori+1,:,:,0,nc,0], origin='lower', vmax=vmax)\n",
    "    plt.title(\"Pref Ori = \" + str(orivals[peak_ori]))\n",
    "    plt.xticks(range(5), tfvals)\n",
    "    plt.yticks(range(5), sfvals)\n",
    "    plt.xlabel(\"TF\")\n",
    "    plt.ylabel(\"SF\")\n",
    "    plt.subplot(222)\n",
    "    plt.imshow(response_events[null_ori_ind+1,:,:,0,nc,0], origin='lower',vmax=vmax)\n",
    "    plt.title(\"Null Ori = \" +str(orivals[null_ori_ind]))\n",
    "    plt.xlabel(\"TF\")\n",
    "    plt.ylabel(\"SF\")\n",
    "    plt.xticks(range(5), tfvals)\n",
    "    plt.yticks(range(5), sfvals)\n",
    "    dsi_sftf = (response_events[peak_ori+1,:,:,0,nc,0] - response_events[null_ori_ind+1,:,:,0,nc,0]) / (response_events[peak_ori+1,:,:,0,nc,0] + response_events[null_ori_ind+1,:,:,0,nc,0]) \n",
    "    reliability = np.abs((response_events[peak_ori+1,:,:,0,nc,0] - response_events[null_ori_ind+1,:,:,0,nc,0])) / (response_events[peak_ori+1,:,:,0,nc,1] + response_events[null_ori_ind+1,:,:,0,nc,1])\n",
    "#     reliability = np.where(reliability>1, reliability, np.NaN)\n",
    "    plt.subplot(223)\n",
    "    plt.imshow(dsi_sftf, vmin=-1, vmax=1, cmap='RdBu', origin='lower')\n",
    "    plt.title(\"DSI\")\n",
    "    plt.xlabel(\"TF\")\n",
    "    plt.ylabel(\"SF\")\n",
    "    plt.xticks(range(5), tfvals)\n",
    "    plt.yticks(range(5), sfvals)\n",
    "    plt.colorbar()\n",
    "    plt.subplot(224)\n",
    "    plt.imshow(reliability, origin='lower', vmin=0, vmax=2, cmap='RdBu')\n",
    "    plt.title(\"Reliability\")\n",
    "    plt.xlabel(\"TF\")\n",
    "    plt.ylabel(\"SF\")\n",
    "    plt.xticks(range(5), tfvals)\n",
    "    plt.yticks(range(5), sfvals)\n",
    "    plt.colorbar()\n",
    "    plt.savefig(os.path.join(r'/Users/saskiad/Documents/Data/CAM/Targeted Experiments/sftf_plots',str(session_id), str(nc)+'.png'))\n",
    "    plt.close()"
   ]
  },
  {
   "cell_type": "code",
   "execution_count": 382,
   "metadata": {},
   "outputs": [
    {
     "name": "stderr",
     "output_type": "stream",
     "text": [
      "/Users/saskiad/anaconda2/lib/python2.7/site-packages/ipykernel/__main__.py:29: RuntimeWarning: invalid value encountered in divide\n",
      "/Users/saskiad/anaconda2/lib/python2.7/site-packages/ipykernel/__main__.py:30: RuntimeWarning: invalid value encountered in divide\n"
     ]
    }
   ],
   "source": [
    "dgtf = pd.DataFrame(columns=('cell_index','pref_dir','null_dir','pref_tf','pref_sf','pref_null_tf','pref_null_sf',\n",
    "                             'pref_response','null_response','DSI_pref_sftf','DSI_null_sftf','DSI_tuning','sftf_tuning_pref',\n",
    "                             'sftf_tuning_null', 'sftf_sem_pref','sftf_sem_null','num_trials_pref','num_trials_null', \n",
    "                             'reliability_pref','reliability_null'), index=range(numbercells))\n",
    "\n",
    "for i in range(numbercells):\n",
    "    dgtf.cell_index.loc[i] = i\n",
    "    peak = np.where(response_events[1:,:,:,0,i,0]==response_events[1:,:,:,0,i,0].max())\n",
    "    pref_ori = peak[0][0]\n",
    "    pref_sf = peak[1][0]\n",
    "    pref_tf = peak[2][0]\n",
    "    null_ori_ind = np.mod(pref_ori+2,4)\n",
    "    null = np.where(response_events[null_ori_ind+1,:,:,0,i,0]==response_events[null_ori_ind+1,:,:,0,i,0].max())\n",
    "    null_sf = null[0][0]\n",
    "    null_tf = null[1][0]\n",
    "    \n",
    "    dgtf.pref_dir.loc[i] = orivals[pref_ori]\n",
    "    dgtf.null_dir.loc[i] = orivals[null_ori_ind]\n",
    "    dgtf.pref_tf.loc[i] = tfvals[pref_tf]\n",
    "    dgtf.pref_sf.loc[i] = sfvals[pref_sf]\n",
    "    dgtf.pref_null_tf.loc[i] = tfvals[null_tf]\n",
    "    dgtf.pref_null_sf.loc[i] = sfvals[null_sf]\n",
    "    dgtf.pref_response.loc[i] = response_events[pref_ori+1, pref_sf, pref_tf, 0, i, 0]\n",
    "    dgtf.null_response.loc[i] = response_events[null_ori_ind+1, null_sf, null_tf, 0, i, 0]\n",
    "    dgtf.sftf_tuning_pref.loc[i] = response_events[pref_ori+1,:,:,0,i,0]\n",
    "    dgtf.sftf_tuning_null.loc[i] = response_events[null_ori_ind+1,:,:,0,i,0]\n",
    "    dgtf.sftf_sem_pref.loc[i] = response_events[pref_ori+1,:,:,0,i,1]\n",
    "    dgtf.sftf_sem_null.loc[i] = response_events[pref_ori+1,:,:,0,i,1]\n",
    "    dsi_sftf = (response_events[peak_ori+1,:,:,0,i,0] - response_events[null_ori_ind+1,:,:,0,i,0]) / (response_events[peak_ori+1,:,:,0,i,0] + response_events[null_ori_ind+1,:,:,0,i,0]) \n",
    "    reliability = np.abs((response_events[peak_ori+1,:,:,0,i,0] - response_events[null_ori_ind+1,:,:,0,i,0])) / (response_events[peak_ori+1,:,:,0,i,1] + response_events[null_ori_ind+1,:,:,0,i,1])\n",
    "    dgtf.DSI_pref_sftf.loc[i] = dsi_sftf[pref_sf, pref_tf]\n",
    "    dgtf.DSI_null_sftf.loc[i] = dsi_sftf[null_sf, null_tf]\n",
    "    dgtf.num_trials_pref.loc[i] = response_events[pref_ori+1,pref_sf,pref_tf,0, i, 2]\n",
    "    dgtf.num_trials_null.loc[i] = response_events[null_ori_ind+1, null_sf, null_tf, 0, i, 2]\n",
    "    dgtf.reliability_pref.loc[i] = reliability[pref_sf, pref_tf]\n",
    "    dgtf.reliability_null.loc[i] = reliability[null_sf, null_tf]\n",
    "    dgtf.DSI_tuning.loc[i] = dsi_sftf\n",
    "#     dgtf.DSI_pref_tf.loc[i] = (response[pref_ori,pref_tf,i,0] - response[null_ori,pref_tf,i,0])/(response[pref_ori,pref_tf,i,0] + response[null_ori,pref_tf,i,0])\n",
    "#     dgtf.DSI_null_tf.loc[i] = (response[pref_ori,null_tf+1,i,0] - response[null_ori,null_tf+1,i,0])/(response[pref_ori,null_tf+1,i,0] + response[null_ori,null_tf+1,i,0])"
   ]
  },
  {
   "cell_type": "code",
   "execution_count": 383,
   "metadata": {
    "collapsed": true
   },
   "outputs": [],
   "source": [
    "dgtf['DSI_ratio'] = dgtf.DSI_null_sftf/dgtf.DSI_pref_sftf"
   ]
  },
  {
   "cell_type": "code",
   "execution_count": 384,
   "metadata": {},
   "outputs": [
    {
     "data": {
      "text/html": [
       "<div>\n",
       "<style>\n",
       "    .dataframe thead tr:only-child th {\n",
       "        text-align: right;\n",
       "    }\n",
       "\n",
       "    .dataframe thead th {\n",
       "        text-align: left;\n",
       "    }\n",
       "\n",
       "    .dataframe tbody tr th {\n",
       "        vertical-align: top;\n",
       "    }\n",
       "</style>\n",
       "<table border=\"1\" class=\"dataframe\">\n",
       "  <thead>\n",
       "    <tr style=\"text-align: right;\">\n",
       "      <th></th>\n",
       "      <th>cell_index</th>\n",
       "      <th>pref_dir</th>\n",
       "      <th>null_dir</th>\n",
       "      <th>pref_tf</th>\n",
       "      <th>pref_sf</th>\n",
       "      <th>pref_null_tf</th>\n",
       "      <th>pref_null_sf</th>\n",
       "      <th>pref_response</th>\n",
       "      <th>null_response</th>\n",
       "      <th>DSI_pref_sftf</th>\n",
       "      <th>...</th>\n",
       "      <th>DSI_tuning</th>\n",
       "      <th>sftf_tuning_pref</th>\n",
       "      <th>sftf_tuning_null</th>\n",
       "      <th>sftf_sem_pref</th>\n",
       "      <th>sftf_sem_null</th>\n",
       "      <th>num_trials_pref</th>\n",
       "      <th>num_trials_null</th>\n",
       "      <th>reliability_pref</th>\n",
       "      <th>reliability_null</th>\n",
       "      <th>DSI_ratio</th>\n",
       "    </tr>\n",
       "  </thead>\n",
       "  <tbody>\n",
       "    <tr>\n",
       "      <th>0</th>\n",
       "      <td>0</td>\n",
       "      <td>270</td>\n",
       "      <td>90</td>\n",
       "      <td>0.5</td>\n",
       "      <td>0.16</td>\n",
       "      <td>0.5</td>\n",
       "      <td>0.16</td>\n",
       "      <td>0.00533447</td>\n",
       "      <td>0.0037561</td>\n",
       "      <td>-1</td>\n",
       "      <td>...</td>\n",
       "      <td>[[-0.406765339376, 0.474935305714, 1.0, nan, 1...</td>\n",
       "      <td>[[0.000312102868676, 0.000255976410639, 0.0, 0...</td>\n",
       "      <td>[[0.000775750151986, 7.89525575572e-05, 0.0, 0...</td>\n",
       "      <td>[[0.00016524412316, 0.000133861690494, 0.0, 0....</td>\n",
       "      <td>[[0.00016524412316, 0.000133861690494, 0.0, 0....</td>\n",
       "      <td>5</td>\n",
       "      <td>6</td>\n",
       "      <td>1.99413</td>\n",
       "      <td>1.99413</td>\n",
       "      <td>1</td>\n",
       "    </tr>\n",
       "    <tr>\n",
       "      <th>1</th>\n",
       "      <td>1</td>\n",
       "      <td>180</td>\n",
       "      <td>0</td>\n",
       "      <td>2</td>\n",
       "      <td>0.04</td>\n",
       "      <td>8</td>\n",
       "      <td>0.04</td>\n",
       "      <td>0.0441576</td>\n",
       "      <td>0.00460845</td>\n",
       "      <td>0</td>\n",
       "      <td>...</td>\n",
       "      <td>[[0.0, 0.0, 0.0, 0.0, 0.0], [0.0, 0.0, 0.0, 0....</td>\n",
       "      <td>[[0.00485430191518, 0.00381624952242, 0.002241...</td>\n",
       "      <td>[[0.000298298460322, 0.000624221030153, 0.0002...</td>\n",
       "      <td>[[0.00146846051831, 0.0012789815992, 0.0008486...</td>\n",
       "      <td>[[0.00146846051831, 0.0012789815992, 0.0008486...</td>\n",
       "      <td>10</td>\n",
       "      <td>1</td>\n",
       "      <td>0</td>\n",
       "      <td>0</td>\n",
       "      <td>NaN</td>\n",
       "    </tr>\n",
       "    <tr>\n",
       "      <th>2</th>\n",
       "      <td>2</td>\n",
       "      <td>90</td>\n",
       "      <td>270</td>\n",
       "      <td>8</td>\n",
       "      <td>0.32</td>\n",
       "      <td>4</td>\n",
       "      <td>0.32</td>\n",
       "      <td>0.00514544</td>\n",
       "      <td>0.00301726</td>\n",
       "      <td>-0.271913</td>\n",
       "      <td>...</td>\n",
       "      <td>[[0.814179256219, 0.760657195184, 0.2722598084...</td>\n",
       "      <td>[[0.000279336867183, 0.0, 9.10371699159e-05, 8...</td>\n",
       "      <td>[[7.57784748385e-05, 9.78514536615e-05, 0.0002...</td>\n",
       "      <td>[[0.000149077060403, 0.0, 9.10371699159e-05, 8...</td>\n",
       "      <td>[[0.000149077060403, 0.0, 9.10371699159e-05, 8...</td>\n",
       "      <td>1</td>\n",
       "      <td>3</td>\n",
       "      <td>0.388826</td>\n",
       "      <td>1.48416</td>\n",
       "      <td>3.47954</td>\n",
       "    </tr>\n",
       "    <tr>\n",
       "      <th>3</th>\n",
       "      <td>3</td>\n",
       "      <td>0</td>\n",
       "      <td>180</td>\n",
       "      <td>8</td>\n",
       "      <td>0.02</td>\n",
       "      <td>0.5</td>\n",
       "      <td>0.02</td>\n",
       "      <td>0.00995485</td>\n",
       "      <td>0.00345618</td>\n",
       "      <td>0.733795</td>\n",
       "      <td>...</td>\n",
       "      <td>[[-0.746849487195, 0.0275570114157, 0.84580025...</td>\n",
       "      <td>[[0.000500863308226, 0.000896753369894, 0.0012...</td>\n",
       "      <td>[[0.00345617634124, 0.000848655127993, 0.00010...</td>\n",
       "      <td>[[0.000186967514661, 0.000243710343175, 0.0006...</td>\n",
       "      <td>[[0.000186967514661, 0.000243710343175, 0.0006...</td>\n",
       "      <td>8</td>\n",
       "      <td>7</td>\n",
       "      <td>1.72206</td>\n",
       "      <td>2.06557</td>\n",
       "      <td>-1.01779</td>\n",
       "    </tr>\n",
       "    <tr>\n",
       "      <th>4</th>\n",
       "      <td>4</td>\n",
       "      <td>270</td>\n",
       "      <td>90</td>\n",
       "      <td>0.5</td>\n",
       "      <td>0.08</td>\n",
       "      <td>0.5</td>\n",
       "      <td>0.08</td>\n",
       "      <td>0.0120729</td>\n",
       "      <td>0.00713968</td>\n",
       "      <td>-0.904347</td>\n",
       "      <td>...</td>\n",
       "      <td>[[0.198217129433, 0.474815650326, 1.0, nan, na...</td>\n",
       "      <td>[[0.000105771264174, 0.0, 8.33668677938e-05, 0...</td>\n",
       "      <td>[[0.000237253744352, 0.000236181107781, 0.0, 0...</td>\n",
       "      <td>[[0.000105771264174, 0.0, 8.33668677938e-05, 0...</td>\n",
       "      <td>[[0.000105771264174, 0.0, 8.33668677938e-05, 0...</td>\n",
       "      <td>8</td>\n",
       "      <td>6</td>\n",
       "      <td>2.03794</td>\n",
       "      <td>2.03794</td>\n",
       "      <td>1</td>\n",
       "    </tr>\n",
       "  </tbody>\n",
       "</table>\n",
       "<p>5 rows × 21 columns</p>\n",
       "</div>"
      ],
      "text/plain": [
       "  cell_index pref_dir null_dir pref_tf pref_sf pref_null_tf pref_null_sf  \\\n",
       "0          0      270       90     0.5    0.16          0.5         0.16   \n",
       "1          1      180        0       2    0.04            8         0.04   \n",
       "2          2       90      270       8    0.32            4         0.32   \n",
       "3          3        0      180       8    0.02          0.5         0.02   \n",
       "4          4      270       90     0.5    0.08          0.5         0.08   \n",
       "\n",
       "  pref_response null_response DSI_pref_sftf    ...     \\\n",
       "0    0.00533447     0.0037561            -1    ...      \n",
       "1     0.0441576    0.00460845             0    ...      \n",
       "2    0.00514544    0.00301726     -0.271913    ...      \n",
       "3    0.00995485    0.00345618      0.733795    ...      \n",
       "4     0.0120729    0.00713968     -0.904347    ...      \n",
       "\n",
       "                                          DSI_tuning  \\\n",
       "0  [[-0.406765339376, 0.474935305714, 1.0, nan, 1...   \n",
       "1  [[0.0, 0.0, 0.0, 0.0, 0.0], [0.0, 0.0, 0.0, 0....   \n",
       "2  [[0.814179256219, 0.760657195184, 0.2722598084...   \n",
       "3  [[-0.746849487195, 0.0275570114157, 0.84580025...   \n",
       "4  [[0.198217129433, 0.474815650326, 1.0, nan, na...   \n",
       "\n",
       "                                    sftf_tuning_pref  \\\n",
       "0  [[0.000312102868676, 0.000255976410639, 0.0, 0...   \n",
       "1  [[0.00485430191518, 0.00381624952242, 0.002241...   \n",
       "2  [[0.000279336867183, 0.0, 9.10371699159e-05, 8...   \n",
       "3  [[0.000500863308226, 0.000896753369894, 0.0012...   \n",
       "4  [[0.000105771264174, 0.0, 8.33668677938e-05, 0...   \n",
       "\n",
       "                                    sftf_tuning_null  \\\n",
       "0  [[0.000775750151986, 7.89525575572e-05, 0.0, 0...   \n",
       "1  [[0.000298298460322, 0.000624221030153, 0.0002...   \n",
       "2  [[7.57784748385e-05, 9.78514536615e-05, 0.0002...   \n",
       "3  [[0.00345617634124, 0.000848655127993, 0.00010...   \n",
       "4  [[0.000237253744352, 0.000236181107781, 0.0, 0...   \n",
       "\n",
       "                                       sftf_sem_pref  \\\n",
       "0  [[0.00016524412316, 0.000133861690494, 0.0, 0....   \n",
       "1  [[0.00146846051831, 0.0012789815992, 0.0008486...   \n",
       "2  [[0.000149077060403, 0.0, 9.10371699159e-05, 8...   \n",
       "3  [[0.000186967514661, 0.000243710343175, 0.0006...   \n",
       "4  [[0.000105771264174, 0.0, 8.33668677938e-05, 0...   \n",
       "\n",
       "                                       sftf_sem_null num_trials_pref  \\\n",
       "0  [[0.00016524412316, 0.000133861690494, 0.0, 0....               5   \n",
       "1  [[0.00146846051831, 0.0012789815992, 0.0008486...              10   \n",
       "2  [[0.000149077060403, 0.0, 9.10371699159e-05, 8...               1   \n",
       "3  [[0.000186967514661, 0.000243710343175, 0.0006...               8   \n",
       "4  [[0.000105771264174, 0.0, 8.33668677938e-05, 0...               8   \n",
       "\n",
       "  num_trials_null reliability_pref reliability_null DSI_ratio  \n",
       "0               6          1.99413          1.99413         1  \n",
       "1               1                0                0       NaN  \n",
       "2               3         0.388826          1.48416   3.47954  \n",
       "3               7          1.72206          2.06557  -1.01779  \n",
       "4               6          2.03794          2.03794         1  \n",
       "\n",
       "[5 rows x 21 columns]"
      ]
     },
     "execution_count": 384,
     "metadata": {},
     "output_type": "execute_result"
    }
   ],
   "source": [
    "dgtf.head()"
   ]
  },
  {
   "cell_type": "code",
   "execution_count": 385,
   "metadata": {},
   "outputs": [],
   "source": [
    "dgtf.to_csv(r'/Users/saskiad/Documents/Data/CAM/Targeted Experiments/sftf_analysis/'+str(session_id)+'_dgtf.csv')"
   ]
  },
  {
   "cell_type": "code",
   "execution_count": 356,
   "metadata": {
    "collapsed": true
   },
   "outputs": [],
   "source": [
    "subset = dgtf[(dgtf.DSI_ratio<0)&(dgtf.reliability_pref>1)&(dgtf.reliability_null>1)&(dgtf.DSI_pref_sftf>0.4)]"
   ]
  },
  {
   "cell_type": "code",
   "execution_count": 386,
   "metadata": {
    "collapsed": true
   },
   "outputs": [],
   "source": [
    "subset = dgtf[(dgtf.num_trials_pref>2)&(dgtf.num_trials_null>2)&(dgtf.DSI_ratio<0)&(dgtf.reliability_pref>1)&(dgtf.reliability_null>1)&(dgtf.DSI_pref_sftf>0.4)]"
   ]
  },
  {
   "cell_type": "code",
   "execution_count": 396,
   "metadata": {},
   "outputs": [
    {
     "name": "stdout",
     "output_type": "stream",
     "text": [
      "16\n",
      "374\n",
      "88\n"
     ]
    }
   ],
   "source": [
    "print len(subset)\n",
    "print len(dgtf)\n",
    "print len(dgtf[(dgtf.DSI_pref_sftf>0.4)&(dgtf.num_trials_pref>2)])"
   ]
  },
  {
   "cell_type": "code",
   "execution_count": 289,
   "metadata": {},
   "outputs": [
    {
     "data": {
      "text/plain": [
       "0.3157894736842105"
      ]
     },
     "execution_count": 289,
     "metadata": {},
     "output_type": "execute_result"
    }
   ],
   "source": [
    "6/19."
   ]
  },
  {
   "cell_type": "code",
   "execution_count": 397,
   "metadata": {},
   "outputs": [
    {
     "data": {
      "text/plain": [
       "0.18181818181818182"
      ]
     },
     "execution_count": 397,
     "metadata": {},
     "output_type": "execute_result"
    }
   ],
   "source": [
    "16/88."
   ]
  },
  {
   "cell_type": "code",
   "execution_count": 389,
   "metadata": {},
   "outputs": [
    {
     "data": {
      "text/html": [
       "<div>\n",
       "<style>\n",
       "    .dataframe thead tr:only-child th {\n",
       "        text-align: right;\n",
       "    }\n",
       "\n",
       "    .dataframe thead th {\n",
       "        text-align: left;\n",
       "    }\n",
       "\n",
       "    .dataframe tbody tr th {\n",
       "        vertical-align: top;\n",
       "    }\n",
       "</style>\n",
       "<table border=\"1\" class=\"dataframe\">\n",
       "  <thead>\n",
       "    <tr style=\"text-align: right;\">\n",
       "      <th></th>\n",
       "      <th>cell_index</th>\n",
       "      <th>pref_dir</th>\n",
       "      <th>null_dir</th>\n",
       "      <th>pref_tf</th>\n",
       "      <th>pref_sf</th>\n",
       "      <th>pref_null_tf</th>\n",
       "      <th>pref_null_sf</th>\n",
       "      <th>pref_response</th>\n",
       "      <th>null_response</th>\n",
       "      <th>DSI_pref_sftf</th>\n",
       "      <th>...</th>\n",
       "      <th>DSI_tuning</th>\n",
       "      <th>sftf_tuning_pref</th>\n",
       "      <th>sftf_tuning_null</th>\n",
       "      <th>sftf_sem_pref</th>\n",
       "      <th>sftf_sem_null</th>\n",
       "      <th>num_trials_pref</th>\n",
       "      <th>num_trials_null</th>\n",
       "      <th>reliability_pref</th>\n",
       "      <th>reliability_null</th>\n",
       "      <th>DSI_ratio</th>\n",
       "    </tr>\n",
       "  </thead>\n",
       "  <tbody>\n",
       "    <tr>\n",
       "      <th>3</th>\n",
       "      <td>3</td>\n",
       "      <td>0</td>\n",
       "      <td>180</td>\n",
       "      <td>8</td>\n",
       "      <td>0.02</td>\n",
       "      <td>0.5</td>\n",
       "      <td>0.02</td>\n",
       "      <td>0.00995485</td>\n",
       "      <td>0.00345618</td>\n",
       "      <td>0.733795</td>\n",
       "      <td>...</td>\n",
       "      <td>[[-0.746849487195, 0.0275570114157, 0.84580025...</td>\n",
       "      <td>[[0.000500863308226, 0.000896753369894, 0.0012...</td>\n",
       "      <td>[[0.00345617634124, 0.000848655127993, 0.00010...</td>\n",
       "      <td>[[0.000186967514661, 0.000243710343175, 0.0006...</td>\n",
       "      <td>[[0.000186967514661, 0.000243710343175, 0.0006...</td>\n",
       "      <td>8</td>\n",
       "      <td>7</td>\n",
       "      <td>1.72206</td>\n",
       "      <td>2.06557</td>\n",
       "      <td>-1.01779</td>\n",
       "    </tr>\n",
       "    <tr>\n",
       "      <th>25</th>\n",
       "      <td>25</td>\n",
       "      <td>0</td>\n",
       "      <td>180</td>\n",
       "      <td>0.5</td>\n",
       "      <td>0.04</td>\n",
       "      <td>0.5</td>\n",
       "      <td>0.02</td>\n",
       "      <td>0.00418239</td>\n",
       "      <td>0.0023003</td>\n",
       "      <td>0.661106</td>\n",
       "      <td>...</td>\n",
       "      <td>[[-0.412677020141, -0.485594986259, -0.2905851...</td>\n",
       "      <td>[[0.00095635355146, 0.00034517709215, 0.000403...</td>\n",
       "      <td>[[0.00230029937804, 0.000996866950692, 0.00073...</td>\n",
       "      <td>[[0.000311262154463, 0.000188031084097, 0.0001...</td>\n",
       "      <td>[[0.000311262154463, 0.000188031084097, 0.0001...</td>\n",
       "      <td>6</td>\n",
       "      <td>8</td>\n",
       "      <td>1.43789</td>\n",
       "      <td>1.52862</td>\n",
       "      <td>-0.624223</td>\n",
       "    </tr>\n",
       "    <tr>\n",
       "      <th>45</th>\n",
       "      <td>45</td>\n",
       "      <td>0</td>\n",
       "      <td>180</td>\n",
       "      <td>0.5</td>\n",
       "      <td>0.04</td>\n",
       "      <td>0.5</td>\n",
       "      <td>0.02</td>\n",
       "      <td>0.0030573</td>\n",
       "      <td>0.00252427</td>\n",
       "      <td>0.681614</td>\n",
       "      <td>...</td>\n",
       "      <td>[[-0.408281193703, -0.084144811666, -0.5508697...</td>\n",
       "      <td>[[0.00106062337695, 0.00102579650454, 0.000315...</td>\n",
       "      <td>[[0.00252426649191, 0.00121428799268, 0.001090...</td>\n",
       "      <td>[[0.000543975084346, 0.0006056172248, 0.000167...</td>\n",
       "      <td>[[0.000543975084346, 0.0006056172248, 0.000167...</td>\n",
       "      <td>7</td>\n",
       "      <td>5</td>\n",
       "      <td>2.01738</td>\n",
       "      <td>1.13314</td>\n",
       "      <td>-0.598992</td>\n",
       "    </tr>\n",
       "    <tr>\n",
       "      <th>54</th>\n",
       "      <td>54</td>\n",
       "      <td>0</td>\n",
       "      <td>180</td>\n",
       "      <td>1</td>\n",
       "      <td>0.02</td>\n",
       "      <td>4</td>\n",
       "      <td>0.02</td>\n",
       "      <td>0.0145704</td>\n",
       "      <td>0.00391717</td>\n",
       "      <td>0.932853</td>\n",
       "      <td>...</td>\n",
       "      <td>[[0.909109750978, 0.932853451472, 0.8323030602...</td>\n",
       "      <td>[[0.00866741056904, 0.0145703761438, 0.0069728...</td>\n",
       "      <td>[[0.000412644220474, 0.000506168984547, 0.0006...</td>\n",
       "      <td>[[0.00440404146164, 0.00506359653814, 0.003072...</td>\n",
       "      <td>[[0.00440404146164, 0.00506359653814, 0.003072...</td>\n",
       "      <td>11</td>\n",
       "      <td>3</td>\n",
       "      <td>2.5251</td>\n",
       "      <td>1.39266</td>\n",
       "      <td>-0.781948</td>\n",
       "    </tr>\n",
       "    <tr>\n",
       "      <th>55</th>\n",
       "      <td>55</td>\n",
       "      <td>0</td>\n",
       "      <td>180</td>\n",
       "      <td>8</td>\n",
       "      <td>0.02</td>\n",
       "      <td>8</td>\n",
       "      <td>0.04</td>\n",
       "      <td>0.0192465</td>\n",
       "      <td>0.00748789</td>\n",
       "      <td>0.562933</td>\n",
       "      <td>...</td>\n",
       "      <td>[[0.076340040888, 0.940431449578, 0.8130516738...</td>\n",
       "      <td>[[0.000856413952631, 0.00435558633703, 0.00242...</td>\n",
       "      <td>[[0.000734930641266, 0.000133710451039, 0.0002...</td>\n",
       "      <td>[[0.000433504155711, 0.00158712719161, 0.00220...</td>\n",
       "      <td>[[0.000433504155711, 0.00158712719161, 0.00220...</td>\n",
       "      <td>7</td>\n",
       "      <td>3</td>\n",
       "      <td>1.69886</td>\n",
       "      <td>1.15544</td>\n",
       "      <td>-1.04885</td>\n",
       "    </tr>\n",
       "  </tbody>\n",
       "</table>\n",
       "<p>5 rows × 21 columns</p>\n",
       "</div>"
      ],
      "text/plain": [
       "   cell_index pref_dir null_dir pref_tf pref_sf pref_null_tf pref_null_sf  \\\n",
       "3           3        0      180       8    0.02          0.5         0.02   \n",
       "25         25        0      180     0.5    0.04          0.5         0.02   \n",
       "45         45        0      180     0.5    0.04          0.5         0.02   \n",
       "54         54        0      180       1    0.02            4         0.02   \n",
       "55         55        0      180       8    0.02            8         0.04   \n",
       "\n",
       "   pref_response null_response DSI_pref_sftf    ...     \\\n",
       "3     0.00995485    0.00345618      0.733795    ...      \n",
       "25    0.00418239     0.0023003      0.661106    ...      \n",
       "45     0.0030573    0.00252427      0.681614    ...      \n",
       "54     0.0145704    0.00391717      0.932853    ...      \n",
       "55     0.0192465    0.00748789      0.562933    ...      \n",
       "\n",
       "                                           DSI_tuning  \\\n",
       "3   [[-0.746849487195, 0.0275570114157, 0.84580025...   \n",
       "25  [[-0.412677020141, -0.485594986259, -0.2905851...   \n",
       "45  [[-0.408281193703, -0.084144811666, -0.5508697...   \n",
       "54  [[0.909109750978, 0.932853451472, 0.8323030602...   \n",
       "55  [[0.076340040888, 0.940431449578, 0.8130516738...   \n",
       "\n",
       "                                     sftf_tuning_pref  \\\n",
       "3   [[0.000500863308226, 0.000896753369894, 0.0012...   \n",
       "25  [[0.00095635355146, 0.00034517709215, 0.000403...   \n",
       "45  [[0.00106062337695, 0.00102579650454, 0.000315...   \n",
       "54  [[0.00866741056904, 0.0145703761438, 0.0069728...   \n",
       "55  [[0.000856413952631, 0.00435558633703, 0.00242...   \n",
       "\n",
       "                                     sftf_tuning_null  \\\n",
       "3   [[0.00345617634124, 0.000848655127993, 0.00010...   \n",
       "25  [[0.00230029937804, 0.000996866950692, 0.00073...   \n",
       "45  [[0.00252426649191, 0.00121428799268, 0.001090...   \n",
       "54  [[0.000412644220474, 0.000506168984547, 0.0006...   \n",
       "55  [[0.000734930641266, 0.000133710451039, 0.0002...   \n",
       "\n",
       "                                        sftf_sem_pref  \\\n",
       "3   [[0.000186967514661, 0.000243710343175, 0.0006...   \n",
       "25  [[0.000311262154463, 0.000188031084097, 0.0001...   \n",
       "45  [[0.000543975084346, 0.0006056172248, 0.000167...   \n",
       "54  [[0.00440404146164, 0.00506359653814, 0.003072...   \n",
       "55  [[0.000433504155711, 0.00158712719161, 0.00220...   \n",
       "\n",
       "                                        sftf_sem_null num_trials_pref  \\\n",
       "3   [[0.000186967514661, 0.000243710343175, 0.0006...               8   \n",
       "25  [[0.000311262154463, 0.000188031084097, 0.0001...               6   \n",
       "45  [[0.000543975084346, 0.0006056172248, 0.000167...               7   \n",
       "54  [[0.00440404146164, 0.00506359653814, 0.003072...              11   \n",
       "55  [[0.000433504155711, 0.00158712719161, 0.00220...               7   \n",
       "\n",
       "   num_trials_null reliability_pref reliability_null DSI_ratio  \n",
       "3                7          1.72206          2.06557  -1.01779  \n",
       "25               8          1.43789          1.52862 -0.624223  \n",
       "45               5          2.01738          1.13314 -0.598992  \n",
       "54               3           2.5251          1.39266 -0.781948  \n",
       "55               3          1.69886          1.15544  -1.04885  \n",
       "\n",
       "[5 rows x 21 columns]"
      ]
     },
     "execution_count": 389,
     "metadata": {},
     "output_type": "execute_result"
    }
   ],
   "source": [
    "subset.head()"
   ]
  },
  {
   "cell_type": "code",
   "execution_count": 390,
   "metadata": {
    "collapsed": true
   },
   "outputs": [],
   "source": [
    "test = pd.DataFrame(columns=('cell_index','tf','sf','sftf'), index=range(len(subset)))\n",
    "test['tf'] = False\n",
    "test['sf'] = False\n",
    "test['sftf'] = False\n",
    "\n",
    "for i in range(len(subset)):\n",
    "    test.cell_index.iloc[i] = subset.cell_index.iloc[i]\n",
    "    if subset.pref_tf.iloc[i]!=subset.pref_null_tf.iloc[i]:\n",
    "        if subset.pref_sf.iloc[i]!=subset.pref_null_sf.iloc[i]:\n",
    "            test.sftf.iloc[i] = True\n",
    "        else:\n",
    "            test.tf.iloc[i] = True\n",
    "    else:\n",
    "        test.sf.iloc[i] = True\n",
    "                "
   ]
  },
  {
   "cell_type": "code",
   "execution_count": 391,
   "metadata": {},
   "outputs": [
    {
     "name": "stdout",
     "output_type": "stream",
     "text": [
      "TF  0.1875\n",
      "SF  0.375\n",
      "SFTF  0.4375\n"
     ]
    }
   ],
   "source": [
    "print \"TF \", len(test[test.tf])/float(len(test))\n",
    "print \"SF \", len(test[test.sf])/float(len(test))\n",
    "print \"SFTF \", len(test[test.sftf])/float(len(test))"
   ]
  },
  {
   "cell_type": "code",
   "execution_count": 394,
   "metadata": {},
   "outputs": [
    {
     "name": "stdout",
     "output_type": "stream",
     "text": [
      "TF  0.0340909090909\n",
      "SF  0.0681818181818\n",
      "SFTF  0.0795454545455\n"
     ]
    }
   ],
   "source": [
    "print \"TF \", len(test[test.tf])/float(len(dgtf[(dgtf.DSI_pref_sftf>0.4)&(dgtf.num_trials_pref>2)]))\n",
    "print \"SF \", len(test[test.sf])/float(len(dgtf[(dgtf.DSI_pref_sftf>0.4)&(dgtf.num_trials_pref>2)]))\n",
    "print \"SFTF \", len(test[test.sftf])/float(len(dgtf[(dgtf.DSI_pref_sftf>0.4)&(dgtf.num_trials_pref>2)]))"
   ]
  },
  {
   "cell_type": "code",
   "execution_count": 395,
   "metadata": {},
   "outputs": [
    {
     "data": {
      "text/plain": [
       "18.15"
      ]
     },
     "execution_count": 395,
     "metadata": {},
     "output_type": "execute_result"
    }
   ],
   "source": [
    "3.4+6.8+7.95"
   ]
  },
  {
   "cell_type": "code",
   "execution_count": 398,
   "metadata": {},
   "outputs": [
    {
     "data": {
      "text/plain": [
       "Text(0,0.5,u'Percent of DS cells')"
      ]
     },
     "execution_count": 398,
     "metadata": {},
     "output_type": "execute_result"
    },
    {
     "data": {
      "image/png": "[encoded data removed]",
      "text/plain": [
       "<matplotlib.figure.Figure at 0x140920b90>"
      ]
     },
     "metadata": {},
     "output_type": "display_data"
    }
   ],
   "source": [
    "plt.figure(figsize=(8,6))\n",
    "plt.bar(range(3), [3.4, 6.8, 7.95])\n",
    "plt.xticks(range(3), [\"TF\", \"SF\", \"SF & TF\"])\n",
    "plt.tick_params(labelsize=16)\n",
    "plt.ylabel(\"Percent of DS cells\", fontsize=18)\n",
    "# plt.ylim(0,20)\n",
    "# plt.yticks(range(0,21,5))"
   ]
  },
  {
   "cell_type": "code",
   "execution_count": 247,
   "metadata": {},
   "outputs": [
    {
     "data": {
      "text/plain": [
       "22"
      ]
     },
     "execution_count": 247,
     "metadata": {},
     "output_type": "execute_result"
    }
   ],
   "source": [
    "len(test[test.tf])+len(test[test.sftf])"
   ]
  },
  {
   "cell_type": "code",
   "execution_count": 248,
   "metadata": {},
   "outputs": [
    {
     "data": {
      "text/plain": [
       "0.05280000000000001"
      ]
     },
     "execution_count": 248,
     "metadata": {},
     "output_type": "execute_result"
    }
   ],
   "source": [
    "0.16*0.33"
   ]
  },
  {
   "cell_type": "code",
   "execution_count": 150,
   "metadata": {},
   "outputs": [
    {
     "name": "stderr",
     "output_type": "stream",
     "text": [
      "/Users/saskiad/anaconda2/lib/python2.7/site-packages/ipykernel/__main__.py:17: RuntimeWarning: invalid value encountered in divide\n"
     ]
    },
    {
     "data": {
      "text/plain": [
       "([<matplotlib.axis.YTick at 0x133870190>,\n",
       "  <matplotlib.axis.YTick at 0x133a8d9d0>,\n",
       "  <matplotlib.axis.YTick at 0x133368450>,\n",
       "  <matplotlib.axis.YTick at 0x13336f150>,\n",
       "  <matplotlib.axis.YTick at 0x13336fe10>],\n",
       " <a list of 5 Text yticklabel objects>)"
      ]
     },
     "execution_count": 150,
     "metadata": {},
     "output_type": "execute_result"
    },
    {
     "data": {
      "image/png": "[encoded data removed]",
      "text/plain": [
       "<matplotlib.figure.Figure at 0x13420fe10>"
      ]
     },
     "metadata": {},
     "output_type": "display_data"
    }
   ],
   "source": [
    "plt.figure(figsize=(10,10))\n",
    "plt.subplot(131)\n",
    "vmax = response_events[1:,:,:,0,nc,0].max()\n",
    "plt.imshow(response_events[peak_ori+1,:,:,0,nc,0], origin='lower', vmax=vmax)\n",
    "plt.title(\"Pref Ori = \" + str(orivals[peak_ori]))\n",
    "plt.xticks(range(5), tfvals)\n",
    "plt.yticks(range(5), sfvals)\n",
    "plt.xlabel(\"TF\")\n",
    "plt.ylabel(\"SF\")\n",
    "plt.subplot(132)\n",
    "plt.imshow(response_events[null_ori_ind+1,:,:,0,nc,0], origin='lower',vmax=vmax)\n",
    "plt.title(\"Null Ori = \" +str(orivals[null_ori_ind]))\n",
    "plt.xlabel(\"TF\")\n",
    "plt.ylabel(\"SF\")\n",
    "plt.xticks(range(5), tfvals)\n",
    "plt.yticks(range(5), sfvals)\n",
    "dsi_sftf = (response_events[peak_ori+1,:,:,0,nc,0] - response_events[null_ori_ind+1,:,:,0,nc,0]) / (response_events[peak_ori+1,:,:,0,nc,0] + response_events[null_ori_ind+1,:,:,0,nc,0]) \n",
    "plt.subplot(133)\n",
    "plt.imshow(dsi_sftf, vmin=-1, vmax=1, origin='lower')\n",
    "plt.title(\"DSI\")\n",
    "plt.xlabel(\"TF\")\n",
    "plt.ylabel(\"SF\")\n",
    "plt.xticks(range(5), tfvals)\n",
    "plt.yticks(range(5), sfvals)"
   ]
  },
  {
   "cell_type": "code",
   "execution_count": 140,
   "metadata": {},
   "outputs": [
    {
     "name": "stdout",
     "output_type": "stream",
     "text": [
      "(array([0]), array([0]), array([0]))\n",
      "2\n"
     ]
    }
   ],
   "source": [
    "peak = np.where(response_events[1:,:,:,0,nc,0]==response_events[1:,:,:,0,nc,0].max())\n",
    "print peak\n",
    "\n",
    "peak_ori = peak[0][0]\n",
    "peak_sf = peak[1][0]\n",
    "peak_tf = peak[2][0]\n",
    "\n",
    "null_ori_ind = np.mod(peak_ori+2,4)\n",
    "print null_ori_ind"
   ]
  },
  {
   "cell_type": "code",
   "execution_count": 90,
   "metadata": {},
   "outputs": [
    {
     "name": "stdout",
     "output_type": "stream",
     "text": [
      "180.0 0.16 1.0\n"
     ]
    }
   ],
   "source": [
    "pref_ori = orivals[peak_ori]\n",
    "pref_sf = sfvals[peak_sf]\n",
    "pref_tf = tfvals[peak_tf]\n",
    "print pref_ori, pref_sf, pref_tf\n",
    "\n",
    "null_ori = np.mod(pref_ori+180,180)\n",
    "print null_ori"
   ]
  },
  {
   "cell_type": "code",
   "execution_count": 144,
   "metadata": {},
   "outputs": [
    {
     "data": {
      "text/plain": [
       "79"
      ]
     },
     "execution_count": 144,
     "metadata": {},
     "output_type": "execute_result"
    }
   ],
   "source": [
    "nc"
   ]
  },
  {
   "cell_type": "code",
   "execution_count": 145,
   "metadata": {},
   "outputs": [
    {
     "name": "stderr",
     "output_type": "stream",
     "text": [
      "/Users/saskiad/anaconda2/lib/python2.7/site-packages/ipykernel/__main__.py:1: RuntimeWarning: invalid value encountered in divide\n",
      "  if __name__ == '__main__':\n"
     ]
    }
   ],
   "source": [
    "dsi_sftf = (response_events[peak_ori+1,:,:,0,nc,0] - response_events[null_ori_ind+1,:,:,0,nc,0]) / (response_events[peak_ori+1,:,:,0,nc,0] + response_events[null_ori_ind+1,:,:,0,nc,0]) "
   ]
  },
  {
   "cell_type": "code",
   "execution_count": 152,
   "metadata": {},
   "outputs": [
    {
     "data": {
      "text/plain": [
       "<matplotlib.colorbar.Colorbar at 0x139e50190>"
      ]
     },
     "execution_count": 152,
     "metadata": {},
     "output_type": "execute_result"
    },
    {
     "data": {
      "image/png": "[encoded data removed]",
      "text/plain": [
       "<matplotlib.figure.Figure at 0x13414d150>"
      ]
     },
     "metadata": {},
     "output_type": "display_data"
    }
   ],
   "source": [
    "plt.imshow(dsi_sftf, vmin=-1, vmax=1, cmap='RdBu')\n",
    "plt.colorbar()"
   ]
  },
  {
   "cell_type": "code",
   "execution_count": 294,
   "metadata": {},
   "outputs": [
    {
     "data": {
      "text/plain": [
       "array([ 270.,  180.,   90.,    0.,   nan])"
      ]
     },
     "execution_count": 294,
     "metadata": {},
     "output_type": "execute_result"
    }
   ],
   "source": [
    "stim_table.Ori.unique()"
   ]
  },
  {
   "cell_type": "code",
   "execution_count": 296,
   "metadata": {},
   "outputs": [
    {
     "data": {
      "text/plain": [
       "12"
      ]
     },
     "execution_count": 296,
     "metadata": {},
     "output_type": "execute_result"
    }
   ],
   "source": [
    "len(stim_table[np.isnan(stim_table.Ori)])"
   ]
  },
  {
   "cell_type": "code",
   "execution_count": 297,
   "metadata": {},
   "outputs": [
    {
     "data": {
      "text/plain": [
       "12"
      ]
     },
     "execution_count": 297,
     "metadata": {},
     "output_type": "execute_result"
    }
   ],
   "source": [
    "len(stim_table[(stim_table.Ori==0)&(stim_table.TF==1)&(stim_table.SF==0.04)])"
   ]
  },
  {
   "cell_type": "code",
   "execution_count": 301,
   "metadata": {},
   "outputs": [
    {
     "data": {
      "text/plain": [
       "435.0"
      ]
     },
     "execution_count": 301,
     "metadata": {},
     "output_type": "execute_result"
    }
   ],
   "source": [
    "stim_table.Start.min()"
   ]
  },
  {
   "cell_type": "code",
   "execution_count": 335,
   "metadata": {},
   "outputs": [],
   "source": [
    "shuffled_responses = np.empty((numbercells, 10000, 60))\n",
    "idx = np.random.choice(range(int(stim_table.Start.min()), int(stim_table.End.max())), 10000)\n",
    "for i in range(60):\n",
    "    shuffled_responses[:,:,i] = events[:,idx+i]\n",
    "shuffled_mean = shuffled_responses.mean(axis=2)\n",
    "sweep_p_vals = pd.DataFrame(index = stim_table.index.values, columns=np.array(range(numbercells)).astype(str))\n",
    "for nc in range(numbercells):\n",
    "    subset = mean_sweep_events[str(nc)].values\n",
    "    null_dist_mat = np.tile(shuffled_mean[nc,:], reps=(len(subset),1))\n",
    "    actual_is_less = subset.reshape(len(subset),1) <= null_dist_mat\n",
    "    p_values = np.mean(actual_is_less, axis=1)\n",
    "    sweep_p_vals[str(nc)] = p_values"
   ]
  },
  {
   "cell_type": "code",
   "execution_count": 323,
   "metadata": {},
   "outputs": [
    {
     "data": {
      "text/plain": [
       "(80, 10000)"
      ]
     },
     "execution_count": 323,
     "metadata": {},
     "output_type": "execute_result"
    }
   ],
   "source": [
    "shuffled_mean.shape"
   ]
  },
  {
   "cell_type": "code",
   "execution_count": 334,
   "metadata": {},
   "outputs": [
    {
     "data": {
      "image/png": "[encoded data removed]",
      "text/plain": [
       "<matplotlib.figure.Figure at 0x139346450>"
      ]
     },
     "metadata": {},
     "output_type": "display_data"
    }
   ],
   "source": [
    "plt.hist(shuffled_mean[8,:], bins=30);"
   ]
  },
  {
   "cell_type": "code",
   "execution_count": 331,
   "metadata": {},
   "outputs": [
    {
     "data": {
      "image/png": "[encoded data removed]",
      "text/plain": [
       "<matplotlib.figure.Figure at 0x1a54e2710>"
      ]
     },
     "metadata": {},
     "output_type": "display_data"
    }
   ],
   "source": [
    "plt.hist(mean_sweep_events['8'], bins=30);"
   ]
  },
  {
   "cell_type": "code",
   "execution_count": 363,
   "metadata": {},
   "outputs": [
    {
     "data": {
      "text/plain": [
       "681698752"
      ]
     },
     "execution_count": 363,
     "metadata": {},
     "output_type": "execute_result"
    }
   ],
   "source": [
    "session_id"
   ]
  },
  {
   "cell_type": "code",
   "execution_count": null,
   "metadata": {
    "collapsed": true
   },
   "outputs": [],
   "source": []
  }
 ],
 "metadata": {
  "kernelspec": {
   "display_name": "Python [default]",
   "language": "python",
   "name": "python2"
  },
  "language_info": {
   "codemirror_mode": {
    "name": "ipython",
    "version": 2
   },
   "file_extension": ".py",
   "mimetype": "text/x-python",
   "name": "python",
   "nbconvert_exporter": "python",
   "pygments_lexer": "ipython2",
   "version": "2.7.14"
  }
 },
 "nbformat": 4,
 "nbformat_minor": 2
}
