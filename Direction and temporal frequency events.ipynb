{
 "cells": [
  {
   "cell_type": "code",
   "execution_count": 1,
   "metadata": {
    "collapsed": true
   },
   "outputs": [],
   "source": [
    "import numpy as np\n",
    "import pandas as pd\n",
    "import os\n",
    "import sys\n",
    "import h5py\n",
    "\n",
    "import matplotlib.pyplot as plt\n",
    "%matplotlib inline"
   ]
  },
  {
   "cell_type": "code",
   "execution_count": 3,
   "metadata": {},
   "outputs": [
    {
     "name": "stdout",
     "output_type": "stream",
     "text": [
      "/Volumes/programs/braintv/workgroups/nc-ophys/ObservatoryPlatformPaperAnalysis/platform_boc_pre_2018_3_16/manifest.json\n"
     ]
    }
   ],
   "source": [
    "from allensdk.core.brain_observatory_cache import BrainObservatoryCache\n",
    "\n",
    "# manifest_file = os.path.join(drive_path,'manifest.json')\n",
    "manifest_file = r\"/Volumes/programs/braintv/workgroups/nc-ophys/ObservatoryPlatformPaperAnalysis/platform_boc_pre_2018_3_16/manifest.json\"\n",
    "print(manifest_file)\n",
    "\n",
    "boc = BrainObservatoryCache(manifest_file=manifest_file)"
   ]
  },
  {
   "cell_type": "code",
   "execution_count": 7,
   "metadata": {
    "collapsed": true
   },
   "outputs": [],
   "source": [
    "save_path = r'/Volumes/programs/braintv/workgroups/nc-ophys/ObservatoryPlatformPaperAnalysis/analysis_files_pre_2018_3_29'"
   ]
  },
  {
   "cell_type": "code",
   "execution_count": 4,
   "metadata": {
    "collapsed": true
   },
   "outputs": [],
   "source": [
    "exps = boc.get_ophys_experiments(stimuli=['drifting_gratings'], targeted_structures=['VISp'])"
   ]
  },
  {
   "cell_type": "code",
   "execution_count": 5,
   "metadata": {},
   "outputs": [
    {
     "data": {
      "text/plain": [
       "130"
      ]
     },
     "execution_count": 5,
     "metadata": {},
     "output_type": "execute_result"
    }
   ],
   "source": [
    "len(exps)"
   ]
  },
  {
   "cell_type": "code",
   "execution_count": 12,
   "metadata": {},
   "outputs": [
    {
     "data": {
      "text/plain": [
       "{'acquisition_age_days': 100,\n",
       " 'cre_line': u'Cux2-CreERT2',\n",
       " 'donor_name': u'222420',\n",
       " 'experiment_container_id': 511509529,\n",
       " 'fail_eye_tracking': True,\n",
       " 'id': 501271265,\n",
       " 'imaging_depth': 175,\n",
       " 'reporter_line': u'Ai93(TITL-GCaMP6f)',\n",
       " 'session_type': u'three_session_A',\n",
       " 'specimen_name': u'Cux2-CreERT2;Camk2a-tTA;Ai93-222420',\n",
       " 'targeted_structure': u'VISp'}"
      ]
     },
     "execution_count": 12,
     "metadata": {},
     "output_type": "execute_result"
    }
   ],
   "source": [
    "exps[0]"
   ]
  },
  {
   "cell_type": "code",
   "execution_count": 6,
   "metadata": {
    "collapsed": true
   },
   "outputs": [],
   "source": [
    "session_id = exps[0]['id']"
   ]
  },
  {
   "cell_type": "code",
   "execution_count": 13,
   "metadata": {
    "collapsed": true
   },
   "outputs": [],
   "source": [
    "data_file_dg = os.path.join(save_path, 'DriftingGratings', str(session_id)+\"_dg_events_analysis.h5\")\n"
   ]
  },
  {
   "cell_type": "code",
   "execution_count": 14,
   "metadata": {},
   "outputs": [
    {
     "name": "stdout",
     "output_type": "stream",
     "text": [
      "/Volumes/programs/braintv/workgroups/nc-ophys/ObservatoryPlatformPaperAnalysis/analysis_files_pre_2018_3_29/DriftingGratings/501271265_dg_events_analysis.h5\n"
     ]
    }
   ],
   "source": [
    "print data_file_dg"
   ]
  },
  {
   "cell_type": "code",
   "execution_count": 19,
   "metadata": {
    "collapsed": true
   },
   "outputs": [],
   "source": [
    "f = h5py.File(data_file_dg)\n",
    "response = f['response_events'].value\n",
    "f.close()\n",
    "peak = pd.read_hdf(data_file_dg, 'peak')"
   ]
  },
  {
   "cell_type": "code",
   "execution_count": 25,
   "metadata": {},
   "outputs": [
    {
     "data": {
      "text/plain": [
       "215"
      ]
     },
     "execution_count": 25,
     "metadata": {},
     "output_type": "execute_result"
    }
   ],
   "source": [
    "response.shape[2]"
   ]
  },
  {
   "cell_type": "code",
   "execution_count": 22,
   "metadata": {},
   "outputs": [
    {
     "data": {
      "text/html": [
       "<div>\n",
       "<style>\n",
       "    .dataframe thead tr:only-child th {\n",
       "        text-align: right;\n",
       "    }\n",
       "\n",
       "    .dataframe thead th {\n",
       "        text-align: left;\n",
       "    }\n",
       "\n",
       "    .dataframe tbody tr th {\n",
       "        vertical-align: top;\n",
       "    }\n",
       "</style>\n",
       "<table border=\"1\" class=\"dataframe\">\n",
       "  <thead>\n",
       "    <tr style=\"text-align: right;\">\n",
       "      <th></th>\n",
       "      <th>cell_specimen_id</th>\n",
       "      <th>pref_ori_dg</th>\n",
       "      <th>pref_tf_dg</th>\n",
       "      <th>num_pref_trials_dg</th>\n",
       "      <th>responsive_dg</th>\n",
       "      <th>g_osi_dg</th>\n",
       "      <th>g_dsi_dg</th>\n",
       "      <th>tfdi_dg</th>\n",
       "      <th>reliability_dg</th>\n",
       "      <th>lifetime_sparseness_dg</th>\n",
       "      <th>fit_tf_dg</th>\n",
       "      <th>fit_tf_ind_dg</th>\n",
       "      <th>tf_low_cutoff_dg</th>\n",
       "      <th>tf_high_cutoff_dg</th>\n",
       "      <th>run_pval_dg</th>\n",
       "      <th>run_resp_dg</th>\n",
       "      <th>stat_resp_dg</th>\n",
       "      <th>run_mod_dg</th>\n",
       "      <th>peak_blank_dg</th>\n",
       "      <th>all_blank_dg</th>\n",
       "    </tr>\n",
       "  </thead>\n",
       "  <tbody>\n",
       "    <tr>\n",
       "      <th>0</th>\n",
       "      <td>517409604</td>\n",
       "      <td>135</td>\n",
       "      <td>1</td>\n",
       "      <td>9</td>\n",
       "      <td>True</td>\n",
       "      <td>0.48814</td>\n",
       "      <td>0.402039</td>\n",
       "      <td>0.389594</td>\n",
       "      <td>0.0272313</td>\n",
       "      <td>0.635982</td>\n",
       "      <td>1</td>\n",
       "      <td>0</td>\n",
       "      <td>NaN</td>\n",
       "      <td>2</td>\n",
       "      <td>0.451895</td>\n",
       "      <td>0.0019288</td>\n",
       "      <td>0.00263953</td>\n",
       "      <td>-0.269265</td>\n",
       "      <td>0.00193954</td>\n",
       "      <td>-5.67049e-05</td>\n",
       "    </tr>\n",
       "    <tr>\n",
       "      <th>1</th>\n",
       "      <td>517409609</td>\n",
       "      <td>90</td>\n",
       "      <td>1</td>\n",
       "      <td>11</td>\n",
       "      <td>True</td>\n",
       "      <td>0.661482</td>\n",
       "      <td>0.494014</td>\n",
       "      <td>0.330799</td>\n",
       "      <td>0.0434076</td>\n",
       "      <td>0.824654</td>\n",
       "      <td>1</td>\n",
       "      <td>0</td>\n",
       "      <td>NaN</td>\n",
       "      <td>2.63902</td>\n",
       "      <td>0.103735</td>\n",
       "      <td>0.0127155</td>\n",
       "      <td>0.00145322</td>\n",
       "      <td>0.885713</td>\n",
       "      <td>0.00623315</td>\n",
       "      <td>0.000150812</td>\n",
       "    </tr>\n",
       "    <tr>\n",
       "      <th>2</th>\n",
       "      <td>517409646</td>\n",
       "      <td>270</td>\n",
       "      <td>1</td>\n",
       "      <td>1</td>\n",
       "      <td>False</td>\n",
       "      <td>0.37074</td>\n",
       "      <td>0.2252</td>\n",
       "      <td>0.221185</td>\n",
       "      <td>0.0396332</td>\n",
       "      <td>0.603798</td>\n",
       "      <td>NaN</td>\n",
       "      <td>NaN</td>\n",
       "      <td>NaN</td>\n",
       "      <td>NaN</td>\n",
       "      <td>0.317407</td>\n",
       "      <td>0.0056926</td>\n",
       "      <td>0.000223535</td>\n",
       "      <td>0.960732</td>\n",
       "      <td>0.00356037</td>\n",
       "      <td>0.000246847</td>\n",
       "    </tr>\n",
       "    <tr>\n",
       "      <th>3</th>\n",
       "      <td>517409467</td>\n",
       "      <td>45</td>\n",
       "      <td>1</td>\n",
       "      <td>5</td>\n",
       "      <td>True</td>\n",
       "      <td>0.142899</td>\n",
       "      <td>0.318665</td>\n",
       "      <td>0.402895</td>\n",
       "      <td>-0.00497152</td>\n",
       "      <td>0.412832</td>\n",
       "      <td>1</td>\n",
       "      <td>0</td>\n",
       "      <td>NaN</td>\n",
       "      <td>2.46229</td>\n",
       "      <td>0.123644</td>\n",
       "      <td>0.00298977</td>\n",
       "      <td>0.00117611</td>\n",
       "      <td>0.606622</td>\n",
       "      <td>0.00154481</td>\n",
       "      <td>0.00019124</td>\n",
       "    </tr>\n",
       "    <tr>\n",
       "      <th>4</th>\n",
       "      <td>517410060</td>\n",
       "      <td>270</td>\n",
       "      <td>1</td>\n",
       "      <td>3</td>\n",
       "      <td>False</td>\n",
       "      <td>0.234929</td>\n",
       "      <td>0.110082</td>\n",
       "      <td>0.353882</td>\n",
       "      <td>0.0264039</td>\n",
       "      <td>0.484035</td>\n",
       "      <td>NaN</td>\n",
       "      <td>NaN</td>\n",
       "      <td>NaN</td>\n",
       "      <td>NaN</td>\n",
       "      <td>0.453721</td>\n",
       "      <td>0.00108925</td>\n",
       "      <td>0.000617463</td>\n",
       "      <td>0.433129</td>\n",
       "      <td>0.000649775</td>\n",
       "      <td>-6.10378e-05</td>\n",
       "    </tr>\n",
       "  </tbody>\n",
       "</table>\n",
       "</div>"
      ],
      "text/plain": [
       "  cell_specimen_id pref_ori_dg pref_tf_dg num_pref_trials_dg responsive_dg  \\\n",
       "0        517409604         135          1                  9          True   \n",
       "1        517409609          90          1                 11          True   \n",
       "2        517409646         270          1                  1         False   \n",
       "3        517409467          45          1                  5          True   \n",
       "4        517410060         270          1                  3         False   \n",
       "\n",
       "   g_osi_dg  g_dsi_dg   tfdi_dg reliability_dg  lifetime_sparseness_dg  \\\n",
       "0   0.48814  0.402039  0.389594      0.0272313                0.635982   \n",
       "1  0.661482  0.494014  0.330799      0.0434076                0.824654   \n",
       "2   0.37074    0.2252  0.221185      0.0396332                0.603798   \n",
       "3  0.142899  0.318665  0.402895    -0.00497152                0.412832   \n",
       "4  0.234929  0.110082  0.353882      0.0264039                0.484035   \n",
       "\n",
       "  fit_tf_dg fit_tf_ind_dg tf_low_cutoff_dg tf_high_cutoff_dg run_pval_dg  \\\n",
       "0         1             0              NaN                 2    0.451895   \n",
       "1         1             0              NaN           2.63902    0.103735   \n",
       "2       NaN           NaN              NaN               NaN    0.317407   \n",
       "3         1             0              NaN           2.46229    0.123644   \n",
       "4       NaN           NaN              NaN               NaN    0.453721   \n",
       "\n",
       "  run_resp_dg stat_resp_dg run_mod_dg peak_blank_dg all_blank_dg  \n",
       "0   0.0019288   0.00263953  -0.269265    0.00193954 -5.67049e-05  \n",
       "1   0.0127155   0.00145322   0.885713    0.00623315  0.000150812  \n",
       "2   0.0056926  0.000223535   0.960732    0.00356037  0.000246847  \n",
       "3  0.00298977   0.00117611   0.606622    0.00154481   0.00019124  \n",
       "4  0.00108925  0.000617463   0.433129   0.000649775 -6.10378e-05  "
      ]
     },
     "execution_count": 22,
     "metadata": {},
     "output_type": "execute_result"
    }
   ],
   "source": [
    "peak.head()"
   ]
  },
  {
   "cell_type": "code",
   "execution_count": 26,
   "metadata": {
    "collapsed": true
   },
   "outputs": [],
   "source": [
    "numbercells = response.shape[2]\n",
    "dgtf = pd.DataFrame(columns=('cell_specimen_id','cre','area','depth','pref_dir','pref_tf','pref_null_tf','pref_response','null_response','DSI_pref_tf','DSI_null_tf','DSI_tuning','tf_tuning_pref','tf_tuning_null', 'tf_sem_pref','tf_sem_null'), index=range(numbercells))"
   ]
  },
  {
   "cell_type": "code",
   "execution_count": 46,
   "metadata": {
    "collapsed": true
   },
   "outputs": [],
   "source": [
    "def get_dsi(pref_ori, null_ori, tf, nc):\n",
    "    pref = response[pref_ori, tf, nc, 0]\n",
    "    pref = np.where(pref>0, pref, 0)\n",
    "    null = response[null_ori, tf, nc, 0]\n",
    "    null = np.where(null>0, null, 0)\n",
    "    return ((pref - null) / (pref + null))"
   ]
  },
  {
   "cell_type": "code",
   "execution_count": 42,
   "metadata": {
    "collapsed": true
   },
   "outputs": [],
   "source": [
    "orivals = np.array(range(0,360,45))\n",
    "tfvals = np.array([0,1,2,4,8,15])"
   ]
  },
  {
   "cell_type": "code",
   "execution_count": 37,
   "metadata": {},
   "outputs": [
    {
     "data": {
      "text/plain": [
       "[0, 45, 90, 135, 180, 225, 270, 315]"
      ]
     },
     "execution_count": 37,
     "metadata": {},
     "output_type": "execute_result"
    }
   ],
   "source": [
    "orivals"
   ]
  },
  {
   "cell_type": "code",
   "execution_count": 33,
   "metadata": {},
   "outputs": [
    {
     "data": {
      "text/plain": [
       "135"
      ]
     },
     "execution_count": 33,
     "metadata": {},
     "output_type": "execute_result"
    }
   ],
   "source": [
    "peak.pref_ori_dg.iloc[0]"
   ]
  },
  {
   "cell_type": "code",
   "execution_count": 39,
   "metadata": {},
   "outputs": [
    {
     "data": {
      "text/plain": [
       "True"
      ]
     },
     "execution_count": 39,
     "metadata": {},
     "output_type": "execute_result"
    }
   ],
   "source": [
    "peak.pref_ori_dg.iloc[0] in orivals"
   ]
  },
  {
   "cell_type": "code",
   "execution_count": 41,
   "metadata": {},
   "outputs": [
    {
     "data": {
      "text/plain": [
       "3"
      ]
     },
     "execution_count": 41,
     "metadata": {},
     "output_type": "execute_result"
    }
   ],
   "source": [
    "np.where(orivals==peak.pref_ori_dg.iloc[0])[0][0]"
   ]
  },
  {
   "cell_type": "code",
   "execution_count": 47,
   "metadata": {},
   "outputs": [
    {
     "name": "stderr",
     "output_type": "stream",
     "text": [
      "/Users/saskiad/anaconda2/lib/python2.7/site-packages/ipykernel_launcher.py:6: RuntimeWarning: invalid value encountered in double_scalars\n",
      "  \n"
     ]
    }
   ],
   "source": [
    "a=0\n",
    "dgtf.cell_specimen_id = peak.cell_specimen_id\n",
    "dgtf.cre = exps[a]['cre_line']\n",
    "dgtf.area = exps[a]['targeted_structure']\n",
    "dgtf.depth = exps[a]['imaging_depth']\n",
    "for i in range(numbercells):\n",
    "    pref_ori = np.where(orivals==peak.pref_ori_dg.iloc[i])[0][0]\n",
    "    pref_tf = np.where(tfvals==peak.pref_tf_dg.iloc[i])[0][0]\n",
    "    null_ori = np.mod(pref_ori+4,8)\n",
    "    dgtf.pref_dir.loc[i] = peak.pref_ori_dg.iloc[i]\n",
    "    dgtf.pref_tf.loc[i] = peak.pref_tf_dg.iloc[i]\n",
    "    null_tf = np.argmax(response[null_ori,1:,i,0])\n",
    "    dgtf.pref_null_tf.loc[i] = tfvals[null_tf+1]\n",
    "    dgtf.pref_response.loc[i] = response[pref_ori, pref_tf, i, 0]\n",
    "    dgtf.null_response.loc[i] = response[null_ori, null_tf+1, i, 0]\n",
    "    dgtf.tf_tuning_pref.loc[i] = response[pref_ori,1:,i,0]\n",
    "    dgtf.tf_tuning_null.loc[i] = response[null_ori,1:,i,0]\n",
    "    dgtf.tf_sem_pref.loc[i] = response[pref_ori,1:,i,1]\n",
    "    dgtf.tf_sem_null.loc[i] = response[null_ori,1:,i,1]\n",
    "    dgtf.DSI_pref_tf.loc[i] = get_dsi(pref_ori, null_ori, pref_tf, i)\n",
    "    dgtf.DSI_null_tf.loc[i] = get_dsi(pref_ori, null_ori, null_tf+1, i)\n",
    "    dsi_tuning = np.empty((5))\n",
    "    for a in range(5):\n",
    "        dsi_tuning[a] = get_dsi(pref_ori, null_ori, a+1, i)\n",
    "    dgtf.DSI_tuning.loc[i] = dsi_tuning\n",
    "#     dgtf.DSI_pref_tf.loc[i] = (response[pref_ori,pref_tf,i,0] - response[null_ori,pref_tf,i,0])/(response[pref_ori,pref_tf,i,0] + response[null_ori,pref_tf,i,0])\n",
    "#     dgtf.DSI_null_tf.loc[i] = (response[pref_ori,null_tf+1,i,0] - response[null_ori,null_tf+1,i,0])/(response[pref_ori,null_tf+1,i,0] + response[null_ori,null_tf+1,i,0])"
   ]
  },
  {
   "cell_type": "code",
   "execution_count": 48,
   "metadata": {},
   "outputs": [
    {
     "data": {
      "text/html": [
       "<div>\n",
       "<style>\n",
       "    .dataframe thead tr:only-child th {\n",
       "        text-align: right;\n",
       "    }\n",
       "\n",
       "    .dataframe thead th {\n",
       "        text-align: left;\n",
       "    }\n",
       "\n",
       "    .dataframe tbody tr th {\n",
       "        vertical-align: top;\n",
       "    }\n",
       "</style>\n",
       "<table border=\"1\" class=\"dataframe\">\n",
       "  <thead>\n",
       "    <tr style=\"text-align: right;\">\n",
       "      <th></th>\n",
       "      <th>cell_specimen_id</th>\n",
       "      <th>cre</th>\n",
       "      <th>area</th>\n",
       "      <th>depth</th>\n",
       "      <th>pref_dir</th>\n",
       "      <th>pref_tf</th>\n",
       "      <th>pref_null_tf</th>\n",
       "      <th>pref_response</th>\n",
       "      <th>null_response</th>\n",
       "      <th>DSI_pref_tf</th>\n",
       "      <th>DSI_null_tf</th>\n",
       "      <th>DSI_tuning</th>\n",
       "      <th>tf_tuning_pref</th>\n",
       "      <th>tf_tuning_null</th>\n",
       "      <th>tf_sem_pref</th>\n",
       "      <th>tf_sem_null</th>\n",
       "    </tr>\n",
       "  </thead>\n",
       "  <tbody>\n",
       "    <tr>\n",
       "      <th>0</th>\n",
       "      <td>517409604</td>\n",
       "      <td>Cux2-CreERT2</td>\n",
       "      <td>VISp</td>\n",
       "      <td>175</td>\n",
       "      <td>135</td>\n",
       "      <td>1</td>\n",
       "      <td>15</td>\n",
       "      <td>0.00230786</td>\n",
       "      <td>0.000418255</td>\n",
       "      <td>0.720829</td>\n",
       "      <td>-0.00721089</td>\n",
       "      <td>[0.720828717208, 0.472483194944, 0.36385612447...</td>\n",
       "      <td>[0.00230785573812, 0.00105163225232, 0.0008481...</td>\n",
       "      <td>[0.000374405099397, 0.000376747040471, 0.00039...</td>\n",
       "      <td>[0.00046595379931, 0.000473850155841, 0.000247...</td>\n",
       "      <td>[0.000126427721668, 0.000259486802566, 0.00017...</td>\n",
       "    </tr>\n",
       "    <tr>\n",
       "      <th>1</th>\n",
       "      <td>517409609</td>\n",
       "      <td>Cux2-CreERT2</td>\n",
       "      <td>VISp</td>\n",
       "      <td>175</td>\n",
       "      <td>90</td>\n",
       "      <td>1</td>\n",
       "      <td>1</td>\n",
       "      <td>0.00670893</td>\n",
       "      <td>0.0013236</td>\n",
       "      <td>0.670441</td>\n",
       "      <td>0.670441</td>\n",
       "      <td>[0.670441056063, 0.834831702867, 0.74495952595...</td>\n",
       "      <td>[0.00670892919444, 0.00495411698494, 0.0019643...</td>\n",
       "      <td>[0.00132359511414, 0.000445960828409, 0.000287...</td>\n",
       "      <td>[0.00303497721867, 0.00138655929893, 0.0006739...</td>\n",
       "      <td>[0.00105106888422, 0.000173400636086, 0.000155...</td>\n",
       "    </tr>\n",
       "    <tr>\n",
       "      <th>2</th>\n",
       "      <td>517409646</td>\n",
       "      <td>Cux2-CreERT2</td>\n",
       "      <td>VISp</td>\n",
       "      <td>175</td>\n",
       "      <td>270</td>\n",
       "      <td>1</td>\n",
       "      <td>1</td>\n",
       "      <td>0.00386958</td>\n",
       "      <td>0.000985357</td>\n",
       "      <td>0.59408</td>\n",
       "      <td>0.59408</td>\n",
       "      <td>[0.594079972321, -0.225359013292, 1.0, 1.0, 0....</td>\n",
       "      <td>[0.00386957634354, 0.000312713837915, 0.000365...</td>\n",
       "      <td>[0.000985357424815, 0.000494663626694, 0.0, 0....</td>\n",
       "      <td>[0.00345023493113, 0.000217743905745, 0.000221...</td>\n",
       "      <td>[0.000345712383236, 0.000309307475972, 0.0, 0....</td>\n",
       "    </tr>\n",
       "    <tr>\n",
       "      <th>3</th>\n",
       "      <td>517409467</td>\n",
       "      <td>Cux2-CreERT2</td>\n",
       "      <td>VISp</td>\n",
       "      <td>175</td>\n",
       "      <td>45</td>\n",
       "      <td>1</td>\n",
       "      <td>1</td>\n",
       "      <td>0.00178066</td>\n",
       "      <td>0.000565596</td>\n",
       "      <td>0.517874</td>\n",
       "      <td>0.517874</td>\n",
       "      <td>[0.517874003449, 0.30595144139, 0.241891673596...</td>\n",
       "      <td>[0.00178066077391, 0.000941294418073, 0.000673...</td>\n",
       "      <td>[0.000565595595016, 0.000500251397859, 0.00041...</td>\n",
       "      <td>[0.000473058399506, 0.00017667027048, 0.000232...</td>\n",
       "      <td>[0.000167142246078, 0.000240614292997, 0.00016...</td>\n",
       "    </tr>\n",
       "    <tr>\n",
       "      <th>4</th>\n",
       "      <td>517410060</td>\n",
       "      <td>Cux2-CreERT2</td>\n",
       "      <td>VISp</td>\n",
       "      <td>175</td>\n",
       "      <td>270</td>\n",
       "      <td>1</td>\n",
       "      <td>1</td>\n",
       "      <td>0.000931985</td>\n",
       "      <td>0.000739882</td>\n",
       "      <td>0.114904</td>\n",
       "      <td>0.114904</td>\n",
       "      <td>[0.114903760857, -0.634777374775, 0.5964535704...</td>\n",
       "      <td>[0.000931985492235, 7.18486194213e-05, 0.00027...</td>\n",
       "      <td>[0.000739881667884, 0.000321602467444, 6.97787...</td>\n",
       "      <td>[0.000375558316841, 7.18486194213e-05, 0.00012...</td>\n",
       "      <td>[0.000264448225657, 0.000121963067966, 6.97787...</td>\n",
       "    </tr>\n",
       "    <tr>\n",
       "      <th>5</th>\n",
       "      <td>587178258</td>\n",
       "      <td>Cux2-CreERT2</td>\n",
       "      <td>VISp</td>\n",
       "      <td>175</td>\n",
       "      <td>90</td>\n",
       "      <td>1</td>\n",
       "      <td>1</td>\n",
       "      <td>0.00374121</td>\n",
       "      <td>0.00349878</td>\n",
       "      <td>0.0334846</td>\n",
       "      <td>0.0334846</td>\n",
       "      <td>[0.0334845540107, 0.814839948894, 0.1354925992...</td>\n",
       "      <td>[0.0037412112955, 0.00148435337946, 0.00158287...</td>\n",
       "      <td>[0.00349878330525, 0.000151441975789, 0.001205...</td>\n",
       "      <td>[0.00126119445442, 0.000574156880933, 0.001228...</td>\n",
       "      <td>[0.00142308790287, 0.000104294150724, 0.000517...</td>\n",
       "    </tr>\n",
       "    <tr>\n",
       "      <th>6</th>\n",
       "      <td>587179547</td>\n",
       "      <td>Cux2-CreERT2</td>\n",
       "      <td>VISp</td>\n",
       "      <td>175</td>\n",
       "      <td>135</td>\n",
       "      <td>1</td>\n",
       "      <td>1</td>\n",
       "      <td>0.000913368</td>\n",
       "      <td>0.000774072</td>\n",
       "      <td>0.0825491</td>\n",
       "      <td>0.0825491</td>\n",
       "      <td>[0.082549103441, 0.198546710335, -0.1556139956...</td>\n",
       "      <td>[0.000913368355238, 0.000770218932281, 9.00357...</td>\n",
       "      <td>[0.000774071692211, 0.000515035827736, 0.00012...</td>\n",
       "      <td>[0.00028667659882, 0.000392900267273, 9.003573...</td>\n",
       "      <td>[0.000274421162338, 0.000150780523709, 8.40215...</td>\n",
       "    </tr>\n",
       "    <tr>\n",
       "      <th>7</th>\n",
       "      <td>587179579</td>\n",
       "      <td>Cux2-CreERT2</td>\n",
       "      <td>VISp</td>\n",
       "      <td>175</td>\n",
       "      <td>225</td>\n",
       "      <td>4</td>\n",
       "      <td>8</td>\n",
       "      <td>0.00359354</td>\n",
       "      <td>0.000806574</td>\n",
       "      <td>0.858736</td>\n",
       "      <td>-0.712795</td>\n",
       "      <td>[0.182892509357, 0.12996903179, 0.858735726764...</td>\n",
       "      <td>[0.000806329851271, 0.000404640179736, 0.00359...</td>\n",
       "      <td>[0.000556989038472, 0.000311556757263, 0.00027...</td>\n",
       "      <td>[0.000291619765245, 0.000163398252307, 0.00235...</td>\n",
       "      <td>[0.000135613429703, 0.000105778330513, 0.00014...</td>\n",
       "    </tr>\n",
       "    <tr>\n",
       "      <th>8</th>\n",
       "      <td>587179599</td>\n",
       "      <td>Cux2-CreERT2</td>\n",
       "      <td>VISp</td>\n",
       "      <td>175</td>\n",
       "      <td>315</td>\n",
       "      <td>2</td>\n",
       "      <td>8</td>\n",
       "      <td>0.00327682</td>\n",
       "      <td>0.00066686</td>\n",
       "      <td>0.830903</td>\n",
       "      <td>0.243065</td>\n",
       "      <td>[0.710185411575, 0.830903450691, 0.86003684815...</td>\n",
       "      <td>[0.00293918621373, 0.00327682387974, 0.0010119...</td>\n",
       "      <td>[0.000498085784775, 0.000302637263886, 7.61478...</td>\n",
       "      <td>[0.00155765004896, 0.00122417812907, 0.0006915...</td>\n",
       "      <td>[0.000177212434223, 0.000115838609852, 7.61478...</td>\n",
       "    </tr>\n",
       "    <tr>\n",
       "      <th>9</th>\n",
       "      <td>517409091</td>\n",
       "      <td>Cux2-CreERT2</td>\n",
       "      <td>VISp</td>\n",
       "      <td>175</td>\n",
       "      <td>0</td>\n",
       "      <td>1</td>\n",
       "      <td>8</td>\n",
       "      <td>0.00145684</td>\n",
       "      <td>0.00134993</td>\n",
       "      <td>0.0584757</td>\n",
       "      <td>-0.353157</td>\n",
       "      <td>[0.0584757286563, -0.325309794465, -0.23333876...</td>\n",
       "      <td>[0.00145683778169, 0.000334458473486, 0.000625...</td>\n",
       "      <td>[0.00129587112272, 0.000656984623633, 0.001006...</td>\n",
       "      <td>[0.000479915780732, 0.000151393964928, 0.00021...</td>\n",
       "      <td>[0.000325206900867, 0.000245072169476, 0.00027...</td>\n",
       "    </tr>\n",
       "    <tr>\n",
       "      <th>10</th>\n",
       "      <td>587179652</td>\n",
       "      <td>Cux2-CreERT2</td>\n",
       "      <td>VISp</td>\n",
       "      <td>175</td>\n",
       "      <td>90</td>\n",
       "      <td>1</td>\n",
       "      <td>8</td>\n",
       "      <td>0.000658568</td>\n",
       "      <td>0.000305066</td>\n",
       "      <td>0.651924</td>\n",
       "      <td>0.133197</td>\n",
       "      <td>[0.651923680336, 0.299510724013, -1.0, 0.13319...</td>\n",
       "      <td>[0.000658568164481, 0.000507474032058, 0.0, 0....</td>\n",
       "      <td>[0.000138766691021, 0.000273549198732, 0.00021...</td>\n",
       "      <td>[0.000251118884983, 0.000244338420916, 0.0, 0....</td>\n",
       "      <td>[9.48732881112e-05, 0.000213403099304, 0.00021...</td>\n",
       "    </tr>\n",
       "    <tr>\n",
       "      <th>11</th>\n",
       "      <td>587179626</td>\n",
       "      <td>Cux2-CreERT2</td>\n",
       "      <td>VISp</td>\n",
       "      <td>175</td>\n",
       "      <td>180</td>\n",
       "      <td>4</td>\n",
       "      <td>8</td>\n",
       "      <td>0.0145586</td>\n",
       "      <td>0.00451907</td>\n",
       "      <td>0.776316</td>\n",
       "      <td>0.477766</td>\n",
       "      <td>[0.401842722723, 0.429918414481, 0.77631606047...</td>\n",
       "      <td>[0.00233543277521, 0.00393795559909, 0.0145585...</td>\n",
       "      <td>[0.00099651415058, 0.00156998885314, 0.0018333...</td>\n",
       "      <td>[0.00108437386534, 0.00284267615424, 0.0059020...</td>\n",
       "      <td>[0.000576928762354, 0.00103394476502, 0.001536...</td>\n",
       "    </tr>\n",
       "    <tr>\n",
       "      <th>12</th>\n",
       "      <td>517409771</td>\n",
       "      <td>Cux2-CreERT2</td>\n",
       "      <td>VISp</td>\n",
       "      <td>175</td>\n",
       "      <td>45</td>\n",
       "      <td>1</td>\n",
       "      <td>1</td>\n",
       "      <td>0.00152388</td>\n",
       "      <td>0.00113829</td>\n",
       "      <td>0.14484</td>\n",
       "      <td>0.14484</td>\n",
       "      <td>[0.144839790123, -0.124650079627, -0.127316376...</td>\n",
       "      <td>[0.00152387790737, 0.000764500746888, 0.000556...</td>\n",
       "      <td>[0.00113829005799, 0.00098223099797, 0.0007193...</td>\n",
       "      <td>[0.000539690534288, 0.000274163860691, 0.00021...</td>\n",
       "      <td>[0.000235915173979, 0.000200855481214, 0.00021...</td>\n",
       "    </tr>\n",
       "    <tr>\n",
       "      <th>13</th>\n",
       "      <td>517409786</td>\n",
       "      <td>Cux2-CreERT2</td>\n",
       "      <td>VISp</td>\n",
       "      <td>175</td>\n",
       "      <td>45</td>\n",
       "      <td>1</td>\n",
       "      <td>4</td>\n",
       "      <td>0.00147864</td>\n",
       "      <td>0.000835874</td>\n",
       "      <td>0.3452</td>\n",
       "      <td>-0.267062</td>\n",
       "      <td>[0.345200084918, 0.426464798756, -0.2670616446...</td>\n",
       "      <td>[0.00147864388058, 0.000713071964293, 0.000483...</td>\n",
       "      <td>[0.000719756040978, 0.000286703094881, 0.00083...</td>\n",
       "      <td>[0.000415911606412, 0.000331375998324, 0.00027...</td>\n",
       "      <td>[0.000226442606615, 0.00012851864415, 0.000460...</td>\n",
       "    </tr>\n",
       "    <tr>\n",
       "      <th>14</th>\n",
       "      <td>517409803</td>\n",
       "      <td>Cux2-CreERT2</td>\n",
       "      <td>VISp</td>\n",
       "      <td>175</td>\n",
       "      <td>45</td>\n",
       "      <td>1</td>\n",
       "      <td>1</td>\n",
       "      <td>0.00547824</td>\n",
       "      <td>0.00161895</td>\n",
       "      <td>0.543777</td>\n",
       "      <td>0.543777</td>\n",
       "      <td>[0.543776993264, 0.342388091809, 0.30097213263...</td>\n",
       "      <td>[0.00547824490955, 0.0013356600058, 0.00072355...</td>\n",
       "      <td>[0.00161895233261, 0.000654315939236, 0.000388...</td>\n",
       "      <td>[0.00269206949855, 0.000574941013075, 0.000290...</td>\n",
       "      <td>[0.000787723230304, 0.000214817389413, 0.00019...</td>\n",
       "    </tr>\n",
       "    <tr>\n",
       "      <th>15</th>\n",
       "      <td>517409794</td>\n",
       "      <td>Cux2-CreERT2</td>\n",
       "      <td>VISp</td>\n",
       "      <td>175</td>\n",
       "      <td>45</td>\n",
       "      <td>1</td>\n",
       "      <td>4</td>\n",
       "      <td>0.00236482</td>\n",
       "      <td>0.00209016</td>\n",
       "      <td>0.0640366</td>\n",
       "      <td>-0.405341</td>\n",
       "      <td>[0.0640366394504, -0.0361343177784, -0.4053409...</td>\n",
       "      <td>[0.0023648249957, 0.00101631367338, 0.00088443...</td>\n",
       "      <td>[0.0020801817043, 0.00109251474977, 0.00209015...</td>\n",
       "      <td>[0.000406831262373, 0.00033271937242, 0.000296...</td>\n",
       "      <td>[0.000267715501674, 0.000217774212316, 0.00067...</td>\n",
       "    </tr>\n",
       "    <tr>\n",
       "      <th>16</th>\n",
       "      <td>587178533</td>\n",
       "      <td>Cux2-CreERT2</td>\n",
       "      <td>VISp</td>\n",
       "      <td>175</td>\n",
       "      <td>45</td>\n",
       "      <td>1</td>\n",
       "      <td>1</td>\n",
       "      <td>0.0052493</td>\n",
       "      <td>0.000256584</td>\n",
       "      <td>0.906797</td>\n",
       "      <td>0.906797</td>\n",
       "      <td>[0.906796654779, 0.94481071535, 0.918645383932...</td>\n",
       "      <td>[0.00524930329453, 0.00441302354427, 0.0014023...</td>\n",
       "      <td>[0.000256583535482, 0.000125231525428, 5.94634...</td>\n",
       "      <td>[0.00163233925272, 0.00200461301203, 0.0004998...</td>\n",
       "      <td>[0.000142238776365, 8.53327856583e-05, 5.94634...</td>\n",
       "    </tr>\n",
       "    <tr>\n",
       "      <th>17</th>\n",
       "      <td>517409636</td>\n",
       "      <td>Cux2-CreERT2</td>\n",
       "      <td>VISp</td>\n",
       "      <td>175</td>\n",
       "      <td>135</td>\n",
       "      <td>1</td>\n",
       "      <td>1</td>\n",
       "      <td>0.00375794</td>\n",
       "      <td>0.00111929</td>\n",
       "      <td>0.541015</td>\n",
       "      <td>0.541015</td>\n",
       "      <td>[0.541015021578, 0.36823445332, 0.355909996796...</td>\n",
       "      <td>[0.00375793852508, 0.0014406363632, 0.00048780...</td>\n",
       "      <td>[0.00111928651486, 0.000665196244223, 0.000231...</td>\n",
       "      <td>[0.00130972427376, 0.00118435565325, 0.0001957...</td>\n",
       "      <td>[0.000282059113082, 0.000368333758354, 0.00010...</td>\n",
       "    </tr>\n",
       "    <tr>\n",
       "      <th>18</th>\n",
       "      <td>517409107</td>\n",
       "      <td>Cux2-CreERT2</td>\n",
       "      <td>VISp</td>\n",
       "      <td>175</td>\n",
       "      <td>135</td>\n",
       "      <td>8</td>\n",
       "      <td>2</td>\n",
       "      <td>0.00220044</td>\n",
       "      <td>0.000779853</td>\n",
       "      <td>0.918355</td>\n",
       "      <td>-0.518315</td>\n",
       "      <td>[-0.0686348005611, -0.518314708066, 0.23128040...</td>\n",
       "      <td>[0.000531885408915, 0.000247408269513, 0.00053...</td>\n",
       "      <td>[0.000610277534762, 0.000779852781038, 0.00033...</td>\n",
       "      <td>[0.000257126202903, 0.000177608988756, 0.00017...</td>\n",
       "      <td>[0.000203568226857, 0.000308871265153, 0.00018...</td>\n",
       "    </tr>\n",
       "    <tr>\n",
       "      <th>19</th>\n",
       "      <td>517410474</td>\n",
       "      <td>Cux2-CreERT2</td>\n",
       "      <td>VISp</td>\n",
       "      <td>175</td>\n",
       "      <td>0</td>\n",
       "      <td>1</td>\n",
       "      <td>1</td>\n",
       "      <td>0.00320738</td>\n",
       "      <td>0.000553514</td>\n",
       "      <td>0.705647</td>\n",
       "      <td>0.705647</td>\n",
       "      <td>[0.70564707309, 0.149485460197, 0.599302273138...</td>\n",
       "      <td>[0.00320737542479, 0.0002500540222, 0.00081378...</td>\n",
       "      <td>[0.000553514474875, 0.000185017200288, 0.00020...</td>\n",
       "      <td>[0.00106562818293, 0.000132920985837, 0.000346...</td>\n",
       "      <td>[0.000165303578158, 0.000128817117229, 0.00010...</td>\n",
       "    </tr>\n",
       "    <tr>\n",
       "      <th>20</th>\n",
       "      <td>517410351</td>\n",
       "      <td>Cux2-CreERT2</td>\n",
       "      <td>VISp</td>\n",
       "      <td>175</td>\n",
       "      <td>0</td>\n",
       "      <td>1</td>\n",
       "      <td>1</td>\n",
       "      <td>0.00142609</td>\n",
       "      <td>0.000784737</td>\n",
       "      <td>0.290095</td>\n",
       "      <td>0.290095</td>\n",
       "      <td>[0.290095208519, 0.345801733056, -0.2264733111...</td>\n",
       "      <td>[0.00142608568122, 0.000997987175974, 0.000353...</td>\n",
       "      <td>[0.000784736701194, 0.000485124565468, 0.00056...</td>\n",
       "      <td>[0.000391639842736, 0.000556000938485, 0.00017...</td>\n",
       "      <td>[0.000392711152918, 0.000201384549078, 0.00015...</td>\n",
       "    </tr>\n",
       "    <tr>\n",
       "      <th>21</th>\n",
       "      <td>517409883</td>\n",
       "      <td>Cux2-CreERT2</td>\n",
       "      <td>VISp</td>\n",
       "      <td>175</td>\n",
       "      <td>0</td>\n",
       "      <td>2</td>\n",
       "      <td>1</td>\n",
       "      <td>0.00809471</td>\n",
       "      <td>0.00310437</td>\n",
       "      <td>0.856672</td>\n",
       "      <td>-0.197865</td>\n",
       "      <td>[-0.197865071314, 0.85667157155, 0.84880321925...</td>\n",
       "      <td>[0.00207880150489, 0.00809470756098, 0.0044815...</td>\n",
       "      <td>[0.00310437013007, 0.000624882575495, 0.000366...</td>\n",
       "      <td>[0.000557931024612, 0.00498209163509, 0.001973...</td>\n",
       "      <td>[0.00158141058401, 0.000196698140366, 0.000174...</td>\n",
       "    </tr>\n",
       "    <tr>\n",
       "      <th>22</th>\n",
       "      <td>517409850</td>\n",
       "      <td>Cux2-CreERT2</td>\n",
       "      <td>VISp</td>\n",
       "      <td>175</td>\n",
       "      <td>270</td>\n",
       "      <td>1</td>\n",
       "      <td>15</td>\n",
       "      <td>0.0178454</td>\n",
       "      <td>0.00279559</td>\n",
       "      <td>0.967849</td>\n",
       "      <td>-0.220507</td>\n",
       "      <td>[0.967849109947, 0.355268849159, 0.93043003954...</td>\n",
       "      <td>[0.0178454112886, 0.000972398316228, 0.0035092...</td>\n",
       "      <td>[0.000291559883014, 0.000462591231169, 0.00012...</td>\n",
       "      <td>[0.0123709592345, 0.000459183749132, 0.0032094...</td>\n",
       "      <td>[0.000158345626066, 0.000301617260913, 0.00012...</td>\n",
       "    </tr>\n",
       "    <tr>\n",
       "      <th>23</th>\n",
       "      <td>517409422</td>\n",
       "      <td>Cux2-CreERT2</td>\n",
       "      <td>VISp</td>\n",
       "      <td>175</td>\n",
       "      <td>315</td>\n",
       "      <td>4</td>\n",
       "      <td>1</td>\n",
       "      <td>0.00127638</td>\n",
       "      <td>0.000758943</td>\n",
       "      <td>0.481408</td>\n",
       "      <td>-0.737893</td>\n",
       "      <td>[-0.737892729642, 1.0, 0.481408290476, -0.0223...</td>\n",
       "      <td>[0.000114463099071, 0.000229559942796, 0.00127...</td>\n",
       "      <td>[0.00075894341815, 0.0, 0.000446818804209, 5.8...</td>\n",
       "      <td>[7.8247201676e-05, 0.000103749896684, 0.000917...</td>\n",
       "      <td>[0.000539855400565, 0.0, 0.000236882045725, 5....</td>\n",
       "    </tr>\n",
       "    <tr>\n",
       "      <th>24</th>\n",
       "      <td>517410013</td>\n",
       "      <td>Cux2-CreERT2</td>\n",
       "      <td>VISp</td>\n",
       "      <td>175</td>\n",
       "      <td>90</td>\n",
       "      <td>1</td>\n",
       "      <td>4</td>\n",
       "      <td>0.00225381</td>\n",
       "      <td>0.000753021</td>\n",
       "      <td>0.682374</td>\n",
       "      <td>-0.648678</td>\n",
       "      <td>[0.682373980855, 0.260142824526, -0.6486784745...</td>\n",
       "      <td>[0.00225381440921, 0.000602605284376, 0.000160...</td>\n",
       "      <td>[0.000425511870034, 0.000353802628517, 0.00075...</td>\n",
       "      <td>[0.000956985206559, 0.000439464432648, 0.00011...</td>\n",
       "      <td>[0.000149607041749, 0.000157160384258, 0.00031...</td>\n",
       "    </tr>\n",
       "    <tr>\n",
       "      <th>25</th>\n",
       "      <td>517409660</td>\n",
       "      <td>Cux2-CreERT2</td>\n",
       "      <td>VISp</td>\n",
       "      <td>175</td>\n",
       "      <td>90</td>\n",
       "      <td>1</td>\n",
       "      <td>2</td>\n",
       "      <td>0.0649827</td>\n",
       "      <td>0.0467153</td>\n",
       "      <td>0.187246</td>\n",
       "      <td>0.145779</td>\n",
       "      <td>[0.187245749264, 0.145779079728, 0.28070957109...</td>\n",
       "      <td>[0.0649827408549, 0.0626598850573, 0.055717224...</td>\n",
       "      <td>[0.0444853130761, 0.0467152748944, 0.031292704...</td>\n",
       "      <td>[0.00390248895251, 0.00370393630662, 0.0046533...</td>\n",
       "      <td>[0.00228284351823, 0.00426401514604, 0.0046572...</td>\n",
       "    </tr>\n",
       "    <tr>\n",
       "      <th>26</th>\n",
       "      <td>587178235</td>\n",
       "      <td>Cux2-CreERT2</td>\n",
       "      <td>VISp</td>\n",
       "      <td>175</td>\n",
       "      <td>135</td>\n",
       "      <td>1</td>\n",
       "      <td>2</td>\n",
       "      <td>0.000728646</td>\n",
       "      <td>0.000691658</td>\n",
       "      <td>0.0317874</td>\n",
       "      <td>-0.344412</td>\n",
       "      <td>[0.0317874163606, -0.34441183502, -1.0, -0.118...</td>\n",
       "      <td>[0.000728645670614, 0.000337279465116, 0.0, 0....</td>\n",
       "      <td>[0.000683749284122, 0.000691657550934, 0.00014...</td>\n",
       "      <td>[0.000293273292735, 0.000182971585653, 0.0, 0....</td>\n",
       "      <td>[0.000181870172744, 0.000182618990671, 9.62179...</td>\n",
       "    </tr>\n",
       "    <tr>\n",
       "      <th>27</th>\n",
       "      <td>517409427</td>\n",
       "      <td>Cux2-CreERT2</td>\n",
       "      <td>VISp</td>\n",
       "      <td>175</td>\n",
       "      <td>225</td>\n",
       "      <td>1</td>\n",
       "      <td>1</td>\n",
       "      <td>0.0114496</td>\n",
       "      <td>0.00292095</td>\n",
       "      <td>0.59348</td>\n",
       "      <td>0.59348</td>\n",
       "      <td>[0.593480279823, 0.763368659967, 0.68163525445...</td>\n",
       "      <td>[0.0114495688793, 0.00766224277857, 0.00716259...</td>\n",
       "      <td>[0.00292094956926, 0.00102821764814, 0.0013560...</td>\n",
       "      <td>[0.00144110999849, 0.000891234265146, 0.001600...</td>\n",
       "      <td>[0.000832142295449, 0.000351811814116, 0.00032...</td>\n",
       "    </tr>\n",
       "    <tr>\n",
       "      <th>28</th>\n",
       "      <td>517409069</td>\n",
       "      <td>Cux2-CreERT2</td>\n",
       "      <td>VISp</td>\n",
       "      <td>175</td>\n",
       "      <td>90</td>\n",
       "      <td>2</td>\n",
       "      <td>1</td>\n",
       "      <td>0.000891278</td>\n",
       "      <td>0.000523206</td>\n",
       "      <td>0.298394</td>\n",
       "      <td>0.029112</td>\n",
       "      <td>[0.0291120363961, 0.298393835758, 0.2445818900...</td>\n",
       "      <td>[0.000554582951039, 0.000891277900555, 0.00025...</td>\n",
       "      <td>[0.000523206310821, 0.000481615093864, 0.00015...</td>\n",
       "      <td>[0.000140619969177, 0.000324116122696, 0.00011...</td>\n",
       "      <td>[0.000155940047496, 0.000215135793548, 0.00010...</td>\n",
       "    </tr>\n",
       "    <tr>\n",
       "      <th>29</th>\n",
       "      <td>517409437</td>\n",
       "      <td>Cux2-CreERT2</td>\n",
       "      <td>VISp</td>\n",
       "      <td>175</td>\n",
       "      <td>315</td>\n",
       "      <td>1</td>\n",
       "      <td>15</td>\n",
       "      <td>0.00173205</td>\n",
       "      <td>0.00059461</td>\n",
       "      <td>0.659755</td>\n",
       "      <td>-0.764749</td>\n",
       "      <td>[0.65975524391, 0.105174595879, 0.289868997551...</td>\n",
       "      <td>[0.0017320450755, 0.000507075998043, 0.0002458...</td>\n",
       "      <td>[0.000355063950792, 0.000410563621857, 0.00013...</td>\n",
       "      <td>[0.000596014797874, 0.000177634007807, 0.00018...</td>\n",
       "      <td>[0.00015934577859, 0.000160411197517, 9.224458...</td>\n",
       "    </tr>\n",
       "    <tr>\n",
       "      <th>...</th>\n",
       "      <td>...</td>\n",
       "      <td>...</td>\n",
       "      <td>...</td>\n",
       "      <td>...</td>\n",
       "      <td>...</td>\n",
       "      <td>...</td>\n",
       "      <td>...</td>\n",
       "      <td>...</td>\n",
       "      <td>...</td>\n",
       "      <td>...</td>\n",
       "      <td>...</td>\n",
       "      <td>...</td>\n",
       "      <td>...</td>\n",
       "      <td>...</td>\n",
       "      <td>...</td>\n",
       "      <td>...</td>\n",
       "    </tr>\n",
       "    <tr>\n",
       "      <th>185</th>\n",
       "      <td>517410491</td>\n",
       "      <td>Cux2-CreERT2</td>\n",
       "      <td>VISp</td>\n",
       "      <td>175</td>\n",
       "      <td>90</td>\n",
       "      <td>15</td>\n",
       "      <td>1</td>\n",
       "      <td>0.000700067</td>\n",
       "      <td>0.000592435</td>\n",
       "      <td>0.780569</td>\n",
       "      <td>0.045417</td>\n",
       "      <td>[0.0454169764515, 0.348561267821, 0.0319101689...</td>\n",
       "      <td>[0.000648808131577, 0.000522836073065, 0.00019...</td>\n",
       "      <td>[0.000592434637943, 0.000252562250379, 0.00018...</td>\n",
       "      <td>[0.0002247981814, 0.000171233716983, 0.0001350...</td>\n",
       "      <td>[0.000198492477496, 0.000135019651601, 0.00012...</td>\n",
       "    </tr>\n",
       "    <tr>\n",
       "      <th>186</th>\n",
       "      <td>517409575</td>\n",
       "      <td>Cux2-CreERT2</td>\n",
       "      <td>VISp</td>\n",
       "      <td>175</td>\n",
       "      <td>90</td>\n",
       "      <td>1</td>\n",
       "      <td>1</td>\n",
       "      <td>0.0517774</td>\n",
       "      <td>0.0284012</td>\n",
       "      <td>0.291552</td>\n",
       "      <td>0.291552</td>\n",
       "      <td>[0.291551721564, 0.873579817089, 0.35845623784...</td>\n",
       "      <td>[0.0517774107068, 0.0144275014176, 0.010213551...</td>\n",
       "      <td>[0.0284011990109, 0.000973498620937, 0.0048234...</td>\n",
       "      <td>[0.0160517940845, 0.00762100713417, 0.00700893...</td>\n",
       "      <td>[0.0103005173536, 0.000768542588987, 0.0042171...</td>\n",
       "    </tr>\n",
       "    <tr>\n",
       "      <th>187</th>\n",
       "      <td>517409040</td>\n",
       "      <td>Cux2-CreERT2</td>\n",
       "      <td>VISp</td>\n",
       "      <td>175</td>\n",
       "      <td>135</td>\n",
       "      <td>8</td>\n",
       "      <td>2</td>\n",
       "      <td>0.000562198</td>\n",
       "      <td>0.000178931</td>\n",
       "      <td>1</td>\n",
       "      <td>-0.0715584</td>\n",
       "      <td>[0.11951461084, -0.071558384394, 0.70349343128...</td>\n",
       "      <td>[0.000146167702847, 0.000155033234072, 0.00040...</td>\n",
       "      <td>[0.000114959220253, 0.000178931188603, 7.12506...</td>\n",
       "      <td>[9.99163500651e-05, 0.000105651732188, 0.00034...</td>\n",
       "      <td>[7.83382618461e-05, 0.000127533557741, 7.12506...</td>\n",
       "    </tr>\n",
       "    <tr>\n",
       "      <th>188</th>\n",
       "      <td>517410426</td>\n",
       "      <td>Cux2-CreERT2</td>\n",
       "      <td>VISp</td>\n",
       "      <td>175</td>\n",
       "      <td>180</td>\n",
       "      <td>1</td>\n",
       "      <td>4</td>\n",
       "      <td>0.00144222</td>\n",
       "      <td>0.000512048</td>\n",
       "      <td>0.526074</td>\n",
       "      <td>-1</td>\n",
       "      <td>[0.526073712127, -0.129458821516, -1.0, 0.3093...</td>\n",
       "      <td>[0.00144222467122, 0.000259308293875, 0.0, 0.0...</td>\n",
       "      <td>[0.000447886743136, 0.000336432149619, 0.00051...</td>\n",
       "      <td>[0.000860129659129, 0.000140762499368, 0.0, 0....</td>\n",
       "      <td>[0.000176238410679, 0.000149305317339, 0.00017...</td>\n",
       "    </tr>\n",
       "    <tr>\n",
       "      <th>189</th>\n",
       "      <td>517409665</td>\n",
       "      <td>Cux2-CreERT2</td>\n",
       "      <td>VISp</td>\n",
       "      <td>175</td>\n",
       "      <td>270</td>\n",
       "      <td>15</td>\n",
       "      <td>15</td>\n",
       "      <td>0.00813469</td>\n",
       "      <td>0.00339095</td>\n",
       "      <td>0.411582</td>\n",
       "      <td>0.411582</td>\n",
       "      <td>[-0.365292068597, -0.372973869411, 0.721107476...</td>\n",
       "      <td>[0.000673987196298, 0.000566099811502, 0.00254...</td>\n",
       "      <td>[0.00144978395245, 0.00123956596185, 0.0004119...</td>\n",
       "      <td>[0.000176463013634, 0.000144715787272, 0.00112...</td>\n",
       "      <td>[0.000371538518737, 0.000482427363192, 0.00017...</td>\n",
       "    </tr>\n",
       "    <tr>\n",
       "      <th>190</th>\n",
       "      <td>517409033</td>\n",
       "      <td>Cux2-CreERT2</td>\n",
       "      <td>VISp</td>\n",
       "      <td>175</td>\n",
       "      <td>315</td>\n",
       "      <td>2</td>\n",
       "      <td>1</td>\n",
       "      <td>0.00129309</td>\n",
       "      <td>0.0011961</td>\n",
       "      <td>0.485164</td>\n",
       "      <td>-0.188069</td>\n",
       "      <td>[-0.18806861458, 0.485164352837, 0.01676313104...</td>\n",
       "      <td>[0.000817422780823, 0.0012930930376, 0.0002683...</td>\n",
       "      <td>[0.00119610396664, 0.000448253682889, 0.000259...</td>\n",
       "      <td>[0.000214097004824, 0.000276606412936, 0.00014...</td>\n",
       "      <td>[0.000810526282925, 0.000170803273364, 0.00013...</td>\n",
       "    </tr>\n",
       "    <tr>\n",
       "      <th>191</th>\n",
       "      <td>517409713</td>\n",
       "      <td>Cux2-CreERT2</td>\n",
       "      <td>VISp</td>\n",
       "      <td>175</td>\n",
       "      <td>90</td>\n",
       "      <td>1</td>\n",
       "      <td>4</td>\n",
       "      <td>0.00483537</td>\n",
       "      <td>0.000388544</td>\n",
       "      <td>0.913335</td>\n",
       "      <td>0.0334635</td>\n",
       "      <td>[0.913335051655, 0.629098486608, 0.03346354583...</td>\n",
       "      <td>[0.00483537248322, 0.00082702716038, 0.0004154...</td>\n",
       "      <td>[0.000219019301467, 0.000188291639777, 0.00038...</td>\n",
       "      <td>[0.00240358131924, 0.000317052029002, 0.000203...</td>\n",
       "      <td>[0.000117445247074, 0.00012856169071, 0.000174...</td>\n",
       "    </tr>\n",
       "    <tr>\n",
       "      <th>192</th>\n",
       "      <td>517410306</td>\n",
       "      <td>Cux2-CreERT2</td>\n",
       "      <td>VISp</td>\n",
       "      <td>175</td>\n",
       "      <td>315</td>\n",
       "      <td>1</td>\n",
       "      <td>1</td>\n",
       "      <td>0.00709874</td>\n",
       "      <td>0.00566072</td>\n",
       "      <td>0.112702</td>\n",
       "      <td>0.112702</td>\n",
       "      <td>[0.112702318437, 0.333214972751, 0.33513754168...</td>\n",
       "      <td>[0.00709873951641, 0.00458718850884, 0.0027187...</td>\n",
       "      <td>[0.00566071896369, 0.00229420511873, 0.0013538...</td>\n",
       "      <td>[0.0016199515039, 0.00131534446045, 0.00135925...</td>\n",
       "      <td>[0.00118404221736, 0.000756891861187, 0.000593...</td>\n",
       "    </tr>\n",
       "    <tr>\n",
       "      <th>193</th>\n",
       "      <td>517409402</td>\n",
       "      <td>Cux2-CreERT2</td>\n",
       "      <td>VISp</td>\n",
       "      <td>175</td>\n",
       "      <td>90</td>\n",
       "      <td>1</td>\n",
       "      <td>1</td>\n",
       "      <td>0.000807612</td>\n",
       "      <td>0.000560417</td>\n",
       "      <td>0.180694</td>\n",
       "      <td>0.180694</td>\n",
       "      <td>[0.180694224541, -0.629259963149, 0.3583614742...</td>\n",
       "      <td>[0.000807612376035, 6.34056720033e-05, 0.00013...</td>\n",
       "      <td>[0.000560417312344, 0.00027864355765, 6.182255...</td>\n",
       "      <td>[0.000429137411467, 6.34056720033e-05, 8.92126...</td>\n",
       "      <td>[0.000164155927591, 0.000124003778706, 6.18225...</td>\n",
       "    </tr>\n",
       "    <tr>\n",
       "      <th>194</th>\n",
       "      <td>517410152</td>\n",
       "      <td>Cux2-CreERT2</td>\n",
       "      <td>VISp</td>\n",
       "      <td>175</td>\n",
       "      <td>180</td>\n",
       "      <td>1</td>\n",
       "      <td>1</td>\n",
       "      <td>0.0104612</td>\n",
       "      <td>0.00247005</td>\n",
       "      <td>0.617973</td>\n",
       "      <td>0.617973</td>\n",
       "      <td>[0.617972606264, 0.0324234618906, 0.7816951110...</td>\n",
       "      <td>[0.0104612367753, 0.00179082610601, 0.00197007...</td>\n",
       "      <td>[0.00247005357511, 0.0016783436138, 0.00024138...</td>\n",
       "      <td>[0.00377973171316, 0.000494460658727, 0.000599...</td>\n",
       "      <td>[0.000923943188537, 0.000481540301812, 0.00013...</td>\n",
       "    </tr>\n",
       "    <tr>\n",
       "      <th>195</th>\n",
       "      <td>517410155</td>\n",
       "      <td>Cux2-CreERT2</td>\n",
       "      <td>VISp</td>\n",
       "      <td>175</td>\n",
       "      <td>0</td>\n",
       "      <td>1</td>\n",
       "      <td>8</td>\n",
       "      <td>0.00130714</td>\n",
       "      <td>0.00092663</td>\n",
       "      <td>0.331633</td>\n",
       "      <td>-1</td>\n",
       "      <td>[0.331632574084, -1.0, 0.723765942975, -1.0, 1.0]</td>\n",
       "      <td>[0.00130714150016, 0.0, 0.000642115819549, 0.0...</td>\n",
       "      <td>[0.000656074969006, 0.000308895328184, 0.00010...</td>\n",
       "      <td>[0.000777588236415, 0.0, 0.000313183913417, 0....</td>\n",
       "      <td>[0.000320375267199, 0.000228384880845, 0.00010...</td>\n",
       "    </tr>\n",
       "    <tr>\n",
       "      <th>196</th>\n",
       "      <td>517410336</td>\n",
       "      <td>Cux2-CreERT2</td>\n",
       "      <td>VISp</td>\n",
       "      <td>175</td>\n",
       "      <td>0</td>\n",
       "      <td>1</td>\n",
       "      <td>1</td>\n",
       "      <td>0.00125876</td>\n",
       "      <td>0.000796077</td>\n",
       "      <td>0.225167</td>\n",
       "      <td>0.225167</td>\n",
       "      <td>[0.225166671382, 0.222290576135, 0.67374418239...</td>\n",
       "      <td>[0.00125875694837, 0.000450460258991, 0.000787...</td>\n",
       "      <td>[0.000796076859587, 0.000286615306814, 0.00015...</td>\n",
       "      <td>[0.000253324707734, 0.000170269732253, 0.00026...</td>\n",
       "      <td>[0.000557852311982, 0.000156031298776, 0.00010...</td>\n",
       "    </tr>\n",
       "    <tr>\n",
       "      <th>197</th>\n",
       "      <td>587178397</td>\n",
       "      <td>Cux2-CreERT2</td>\n",
       "      <td>VISp</td>\n",
       "      <td>175</td>\n",
       "      <td>180</td>\n",
       "      <td>8</td>\n",
       "      <td>15</td>\n",
       "      <td>0.00910858</td>\n",
       "      <td>0.0036043</td>\n",
       "      <td>0.453462</td>\n",
       "      <td>0.245162</td>\n",
       "      <td>[0.00215863032748, -0.339867593627, 0.46093285...</td>\n",
       "      <td>[0.000902254542752, 0.00098316732292, 0.003838...</td>\n",
       "      <td>[0.000898367665046, 0.00199553002152, 0.001416...</td>\n",
       "      <td>[0.000242433698914, 0.000404249653222, 0.00106...</td>\n",
       "      <td>[0.000259234081229, 0.00108988485222, 0.000323...</td>\n",
       "    </tr>\n",
       "    <tr>\n",
       "      <th>198</th>\n",
       "      <td>517409220</td>\n",
       "      <td>Cux2-CreERT2</td>\n",
       "      <td>VISp</td>\n",
       "      <td>175</td>\n",
       "      <td>180</td>\n",
       "      <td>2</td>\n",
       "      <td>8</td>\n",
       "      <td>0.00395986</td>\n",
       "      <td>0.00126911</td>\n",
       "      <td>0.649519</td>\n",
       "      <td>-0.323511</td>\n",
       "      <td>[0.191890587222, 0.649518851291, 0.79227146618...</td>\n",
       "      <td>[0.00100428389738, 0.00395986269618, 0.0019781...</td>\n",
       "      <td>[0.000680910881652, 0.000841370940019, 0.00022...</td>\n",
       "      <td>[0.00030562609831, 0.00144238753784, 0.0014859...</td>\n",
       "      <td>[0.000379246331547, 0.000780357664056, 0.00013...</td>\n",
       "    </tr>\n",
       "    <tr>\n",
       "      <th>199</th>\n",
       "      <td>517410149</td>\n",
       "      <td>Cux2-CreERT2</td>\n",
       "      <td>VISp</td>\n",
       "      <td>175</td>\n",
       "      <td>135</td>\n",
       "      <td>1</td>\n",
       "      <td>1</td>\n",
       "      <td>0.00666935</td>\n",
       "      <td>0.00111804</td>\n",
       "      <td>0.71286</td>\n",
       "      <td>0.71286</td>\n",
       "      <td>[0.712859791657, 0.861944287417, 0.50727292549...</td>\n",
       "      <td>[0.0066693517083, 0.00167532339443, 0.00019407...</td>\n",
       "      <td>[0.00111803607532, 0.000124218520709, 6.344168...</td>\n",
       "      <td>[0.0028590030021, 0.000726664694059, 0.0001038...</td>\n",
       "      <td>[0.000614189088655, 8.46936526623e-05, 6.34416...</td>\n",
       "    </tr>\n",
       "    <tr>\n",
       "      <th>200</th>\n",
       "      <td>587178514</td>\n",
       "      <td>Cux2-CreERT2</td>\n",
       "      <td>VISp</td>\n",
       "      <td>175</td>\n",
       "      <td>90</td>\n",
       "      <td>1</td>\n",
       "      <td>1</td>\n",
       "      <td>0.00166688</td>\n",
       "      <td>0.00122132</td>\n",
       "      <td>0.154267</td>\n",
       "      <td>0.154267</td>\n",
       "      <td>[0.154266787042, -0.378469302347, -0.428658160...</td>\n",
       "      <td>[0.00166687832813, 0.000174526170754, 0.000241...</td>\n",
       "      <td>[0.00122132454982, 0.000387074958242, 0.000604...</td>\n",
       "      <td>[0.00109749468744, 0.00011978439273, 0.0001294...</td>\n",
       "      <td>[0.00042566826079, 0.000176035101325, 0.000250...</td>\n",
       "    </tr>\n",
       "    <tr>\n",
       "      <th>201</th>\n",
       "      <td>517409225</td>\n",
       "      <td>Cux2-CreERT2</td>\n",
       "      <td>VISp</td>\n",
       "      <td>175</td>\n",
       "      <td>180</td>\n",
       "      <td>1</td>\n",
       "      <td>1</td>\n",
       "      <td>0.00142413</td>\n",
       "      <td>0.00093108</td>\n",
       "      <td>0.209346</td>\n",
       "      <td>0.209346</td>\n",
       "      <td>[0.209345826336, 0.0646788612749, 0.4772897971...</td>\n",
       "      <td>[0.00142413411371, 0.000535816543894, 0.000657...</td>\n",
       "      <td>[0.000931079891572, 0.000470715215837, 0.00023...</td>\n",
       "      <td>[0.000442496218359, 0.000293455763638, 0.00030...</td>\n",
       "      <td>[0.000454876351231, 0.000317523072796, 0.00012...</td>\n",
       "    </tr>\n",
       "    <tr>\n",
       "      <th>202</th>\n",
       "      <td>517410421</td>\n",
       "      <td>Cux2-CreERT2</td>\n",
       "      <td>VISp</td>\n",
       "      <td>175</td>\n",
       "      <td>90</td>\n",
       "      <td>8</td>\n",
       "      <td>2</td>\n",
       "      <td>0.00203542</td>\n",
       "      <td>0.00160866</td>\n",
       "      <td>0.793792</td>\n",
       "      <td>-0.25523</td>\n",
       "      <td>[0.224946437777, -0.255230187014, -0.408162884...</td>\n",
       "      <td>[0.00135390560174, 0.000954468738033, 0.000545...</td>\n",
       "      <td>[0.000856649178427, 0.00160865538808, 0.001298...</td>\n",
       "      <td>[0.0003215855215, 0.000295951543959, 0.0003986...</td>\n",
       "      <td>[0.000417134834992, 0.000494350463668, 0.00057...</td>\n",
       "    </tr>\n",
       "    <tr>\n",
       "      <th>203</th>\n",
       "      <td>517409556</td>\n",
       "      <td>Cux2-CreERT2</td>\n",
       "      <td>VISp</td>\n",
       "      <td>175</td>\n",
       "      <td>0</td>\n",
       "      <td>8</td>\n",
       "      <td>2</td>\n",
       "      <td>0.00134457</td>\n",
       "      <td>0.00130944</td>\n",
       "      <td>0.914586</td>\n",
       "      <td>-0.152682</td>\n",
       "      <td>[0.0747427663176, -0.152681896816, 0.184164754...</td>\n",
       "      <td>[0.001007097464, 0.000962549355017, 0.00077286...</td>\n",
       "      <td>[0.000867020688849, 0.00130944117935, 0.000532...</td>\n",
       "      <td>[0.000245623083694, 0.000152209770904, 0.00018...</td>\n",
       "      <td>[0.00014693215933, 0.000426623746488, 0.000155...</td>\n",
       "    </tr>\n",
       "    <tr>\n",
       "      <th>204</th>\n",
       "      <td>517410494</td>\n",
       "      <td>Cux2-CreERT2</td>\n",
       "      <td>VISp</td>\n",
       "      <td>175</td>\n",
       "      <td>90</td>\n",
       "      <td>1</td>\n",
       "      <td>15</td>\n",
       "      <td>0.00104488</td>\n",
       "      <td>0.000605559</td>\n",
       "      <td>0.618279</td>\n",
       "      <td>-1</td>\n",
       "      <td>[0.618279154354, -0.568970333655, 0.2012660754...</td>\n",
       "      <td>[0.00104487853077, 7.19563076728e-05, 0.000676...</td>\n",
       "      <td>[0.00024646669599, 0.000261924690742, 0.000450...</td>\n",
       "      <td>[0.000663185021873, 7.19563076728e-05, 0.00031...</td>\n",
       "      <td>[0.000185217636378, 0.000141279763015, 0.00017...</td>\n",
       "    </tr>\n",
       "    <tr>\n",
       "      <th>205</th>\n",
       "      <td>517409718</td>\n",
       "      <td>Cux2-CreERT2</td>\n",
       "      <td>VISp</td>\n",
       "      <td>175</td>\n",
       "      <td>45</td>\n",
       "      <td>8</td>\n",
       "      <td>2</td>\n",
       "      <td>0.00122792</td>\n",
       "      <td>0.000542247</td>\n",
       "      <td>0.680503</td>\n",
       "      <td>-0.51009</td>\n",
       "      <td>[-0.238292934725, -0.510089712776, 1.0, 0.6805...</td>\n",
       "      <td>[0.00012552577072, 0.000175918408174, 0.000293...</td>\n",
       "      <td>[0.000204064898561, 0.000542247397939, 0.0, 0....</td>\n",
       "      <td>[8.57723465539e-05, 9.41492713953e-05, 0.00013...</td>\n",
       "      <td>[0.000109245657142, 0.000330076285738, 0.0, 0....</td>\n",
       "    </tr>\n",
       "    <tr>\n",
       "      <th>206</th>\n",
       "      <td>517409566</td>\n",
       "      <td>Cux2-CreERT2</td>\n",
       "      <td>VISp</td>\n",
       "      <td>175</td>\n",
       "      <td>180</td>\n",
       "      <td>1</td>\n",
       "      <td>1</td>\n",
       "      <td>0.00579646</td>\n",
       "      <td>0.00204495</td>\n",
       "      <td>0.478423</td>\n",
       "      <td>0.478423</td>\n",
       "      <td>[0.478422850224, -0.0562573030514, 0.897150025...</td>\n",
       "      <td>[0.00579645520366, 0.00163126632009, 0.0053386...</td>\n",
       "      <td>[0.00204494849594, 0.00182574865945, 0.0002894...</td>\n",
       "      <td>[0.00245095157965, 0.000549796419069, 0.003190...</td>\n",
       "      <td>[0.00119215893722, 0.0011972958608, 0.00020239...</td>\n",
       "    </tr>\n",
       "    <tr>\n",
       "      <th>207</th>\n",
       "      <td>517410488</td>\n",
       "      <td>Cux2-CreERT2</td>\n",
       "      <td>VISp</td>\n",
       "      <td>175</td>\n",
       "      <td>225</td>\n",
       "      <td>1</td>\n",
       "      <td>1</td>\n",
       "      <td>0.00139987</td>\n",
       "      <td>0.00127782</td>\n",
       "      <td>0.0455804</td>\n",
       "      <td>0.0455804</td>\n",
       "      <td>[0.0455803508669, 0.202837488318, -0.016304437...</td>\n",
       "      <td>[0.0013998696422, 0.00077746127924, 0.00052202...</td>\n",
       "      <td>[0.00127781962585, 0.000515250806625, 0.000539...</td>\n",
       "      <td>[0.000289638226974, 0.000241978146777, 0.00020...</td>\n",
       "      <td>[0.000588100550945, 0.000197494320855, 0.00020...</td>\n",
       "    </tr>\n",
       "    <tr>\n",
       "      <th>208</th>\n",
       "      <td>517409954</td>\n",
       "      <td>Cux2-CreERT2</td>\n",
       "      <td>VISp</td>\n",
       "      <td>175</td>\n",
       "      <td>90</td>\n",
       "      <td>1</td>\n",
       "      <td>2</td>\n",
       "      <td>0.00104071</td>\n",
       "      <td>0.000551388</td>\n",
       "      <td>0.350466</td>\n",
       "      <td>-0.452045</td>\n",
       "      <td>[0.350466199167, -0.452044785311, -0.729513156...</td>\n",
       "      <td>[0.00104070721913, 0.00020807626568, 6.3983736...</td>\n",
       "      <td>[0.000500549007458, 0.000551388231059, 0.00040...</td>\n",
       "      <td>[0.000287081877779, 0.000111432850546, 6.39837...</td>\n",
       "      <td>[0.000169173592569, 0.000196354471031, 0.00016...</td>\n",
       "    </tr>\n",
       "    <tr>\n",
       "      <th>209</th>\n",
       "      <td>587179437</td>\n",
       "      <td>Cux2-CreERT2</td>\n",
       "      <td>VISp</td>\n",
       "      <td>175</td>\n",
       "      <td>315</td>\n",
       "      <td>4</td>\n",
       "      <td>1</td>\n",
       "      <td>0.0178574</td>\n",
       "      <td>0.00335115</td>\n",
       "      <td>0.847084</td>\n",
       "      <td>0.0580464</td>\n",
       "      <td>[0.0580463581155, 0.118596619407, 0.8470843552...</td>\n",
       "      <td>[0.00376417114012, 0.00286299216399, 0.0178574...</td>\n",
       "      <td>[0.00335115251512, 0.00225590791906, 0.0014783...</td>\n",
       "      <td>[0.00252109172076, 0.000832496356029, 0.004608...</td>\n",
       "      <td>[0.00119488350081, 0.000998830624087, 0.000507...</td>\n",
       "    </tr>\n",
       "    <tr>\n",
       "      <th>210</th>\n",
       "      <td>517408996</td>\n",
       "      <td>Cux2-CreERT2</td>\n",
       "      <td>VISp</td>\n",
       "      <td>175</td>\n",
       "      <td>0</td>\n",
       "      <td>1</td>\n",
       "      <td>8</td>\n",
       "      <td>0.001058</td>\n",
       "      <td>0.000825312</td>\n",
       "      <td>0.726963</td>\n",
       "      <td>-0.786176</td>\n",
       "      <td>[0.726963312033, -0.450018542299, 1.0, -0.7861...</td>\n",
       "      <td>[0.00105800358415, 0.000147066268405, 0.000899...</td>\n",
       "      <td>[0.000167272687533, 0.000387738192166, 0.0, 0....</td>\n",
       "      <td>[0.000452199494205, 0.000147066268405, 0.00039...</td>\n",
       "      <td>[0.000167272687533, 0.000306041628765, 0.0, 0....</td>\n",
       "    </tr>\n",
       "    <tr>\n",
       "      <th>211</th>\n",
       "      <td>517410339</td>\n",
       "      <td>Cux2-CreERT2</td>\n",
       "      <td>VISp</td>\n",
       "      <td>175</td>\n",
       "      <td>90</td>\n",
       "      <td>1</td>\n",
       "      <td>1</td>\n",
       "      <td>0.000740733</td>\n",
       "      <td>0.000618674</td>\n",
       "      <td>0.0897886</td>\n",
       "      <td>0.0897886</td>\n",
       "      <td>[0.089788593738, 0.0581179859327, -0.321404620...</td>\n",
       "      <td>[0.000740732894111, 0.000513311040679, 0.00015...</td>\n",
       "      <td>[0.00061867368872, 0.000456922992772, 0.000310...</td>\n",
       "      <td>[0.000163794206589, 0.000203346071642, 0.00010...</td>\n",
       "      <td>[0.000178092726997, 0.000175253441762, 0.00013...</td>\n",
       "    </tr>\n",
       "    <tr>\n",
       "      <th>212</th>\n",
       "      <td>587179464</td>\n",
       "      <td>Cux2-CreERT2</td>\n",
       "      <td>VISp</td>\n",
       "      <td>175</td>\n",
       "      <td>90</td>\n",
       "      <td>1</td>\n",
       "      <td>1</td>\n",
       "      <td>0.0017197</td>\n",
       "      <td>0.000911831</td>\n",
       "      <td>0.306995</td>\n",
       "      <td>0.306995</td>\n",
       "      <td>[0.306995214602, 0.287143045038, 0.51674952866...</td>\n",
       "      <td>[0.00171969857465, 0.000779629097498, 0.000560...</td>\n",
       "      <td>[0.00091183145, 0.000431781088034, 0.000178551...</td>\n",
       "      <td>[0.000333365026102, 0.000188887418617, 0.00020...</td>\n",
       "      <td>[0.000509099402552, 0.000165916610556, 0.00012...</td>\n",
       "    </tr>\n",
       "    <tr>\n",
       "      <th>213</th>\n",
       "      <td>587178556</td>\n",
       "      <td>Cux2-CreERT2</td>\n",
       "      <td>VISp</td>\n",
       "      <td>175</td>\n",
       "      <td>135</td>\n",
       "      <td>1</td>\n",
       "      <td>1</td>\n",
       "      <td>0.00124871</td>\n",
       "      <td>0.000730259</td>\n",
       "      <td>0.26198</td>\n",
       "      <td>0.26198</td>\n",
       "      <td>[0.261980398185, 0.0272178697834, 0.1862798353...</td>\n",
       "      <td>[0.00124870993701, 0.000580793951388, 0.000384...</td>\n",
       "      <td>[0.000730258894528, 0.000550015720976, 0.00026...</td>\n",
       "      <td>[0.000357645620637, 0.000231519721145, 0.00022...</td>\n",
       "      <td>[0.000527678599018, 0.000351118188258, 0.00014...</td>\n",
       "    </tr>\n",
       "    <tr>\n",
       "      <th>214</th>\n",
       "      <td>587179457</td>\n",
       "      <td>Cux2-CreERT2</td>\n",
       "      <td>VISp</td>\n",
       "      <td>175</td>\n",
       "      <td>180</td>\n",
       "      <td>1</td>\n",
       "      <td>1</td>\n",
       "      <td>0.00235745</td>\n",
       "      <td>0.000514991</td>\n",
       "      <td>0.641426</td>\n",
       "      <td>0.641426</td>\n",
       "      <td>[0.641426401719, 0.149009634215, 1.0, 0.118862...</td>\n",
       "      <td>[0.00235745219293, 0.000567644319564, 0.000782...</td>\n",
       "      <td>[0.000514991177619, 0.000420414096416, 0.0, 0....</td>\n",
       "      <td>[0.000819084047326, 0.000186165100087, 0.00072...</td>\n",
       "      <td>[0.000206857305553, 0.000276067910873, 0.0, 0....</td>\n",
       "    </tr>\n",
       "  </tbody>\n",
       "</table>\n",
       "<p>215 rows × 16 columns</p>\n",
       "</div>"
      ],
      "text/plain": [
       "    cell_specimen_id           cre  area  depth pref_dir pref_tf pref_null_tf  \\\n",
       "0          517409604  Cux2-CreERT2  VISp    175      135       1           15   \n",
       "1          517409609  Cux2-CreERT2  VISp    175       90       1            1   \n",
       "2          517409646  Cux2-CreERT2  VISp    175      270       1            1   \n",
       "3          517409467  Cux2-CreERT2  VISp    175       45       1            1   \n",
       "4          517410060  Cux2-CreERT2  VISp    175      270       1            1   \n",
       "5          587178258  Cux2-CreERT2  VISp    175       90       1            1   \n",
       "6          587179547  Cux2-CreERT2  VISp    175      135       1            1   \n",
       "7          587179579  Cux2-CreERT2  VISp    175      225       4            8   \n",
       "8          587179599  Cux2-CreERT2  VISp    175      315       2            8   \n",
       "9          517409091  Cux2-CreERT2  VISp    175        0       1            8   \n",
       "10         587179652  Cux2-CreERT2  VISp    175       90       1            8   \n",
       "11         587179626  Cux2-CreERT2  VISp    175      180       4            8   \n",
       "12         517409771  Cux2-CreERT2  VISp    175       45       1            1   \n",
       "13         517409786  Cux2-CreERT2  VISp    175       45       1            4   \n",
       "14         517409803  Cux2-CreERT2  VISp    175       45       1            1   \n",
       "15         517409794  Cux2-CreERT2  VISp    175       45       1            4   \n",
       "16         587178533  Cux2-CreERT2  VISp    175       45       1            1   \n",
       "17         517409636  Cux2-CreERT2  VISp    175      135       1            1   \n",
       "18         517409107  Cux2-CreERT2  VISp    175      135       8            2   \n",
       "19         517410474  Cux2-CreERT2  VISp    175        0       1            1   \n",
       "20         517410351  Cux2-CreERT2  VISp    175        0       1            1   \n",
       "21         517409883  Cux2-CreERT2  VISp    175        0       2            1   \n",
       "22         517409850  Cux2-CreERT2  VISp    175      270       1           15   \n",
       "23         517409422  Cux2-CreERT2  VISp    175      315       4            1   \n",
       "24         517410013  Cux2-CreERT2  VISp    175       90       1            4   \n",
       "25         517409660  Cux2-CreERT2  VISp    175       90       1            2   \n",
       "26         587178235  Cux2-CreERT2  VISp    175      135       1            2   \n",
       "27         517409427  Cux2-CreERT2  VISp    175      225       1            1   \n",
       "28         517409069  Cux2-CreERT2  VISp    175       90       2            1   \n",
       "29         517409437  Cux2-CreERT2  VISp    175      315       1           15   \n",
       "..               ...           ...   ...    ...      ...     ...          ...   \n",
       "185        517410491  Cux2-CreERT2  VISp    175       90      15            1   \n",
       "186        517409575  Cux2-CreERT2  VISp    175       90       1            1   \n",
       "187        517409040  Cux2-CreERT2  VISp    175      135       8            2   \n",
       "188        517410426  Cux2-CreERT2  VISp    175      180       1            4   \n",
       "189        517409665  Cux2-CreERT2  VISp    175      270      15           15   \n",
       "190        517409033  Cux2-CreERT2  VISp    175      315       2            1   \n",
       "191        517409713  Cux2-CreERT2  VISp    175       90       1            4   \n",
       "192        517410306  Cux2-CreERT2  VISp    175      315       1            1   \n",
       "193        517409402  Cux2-CreERT2  VISp    175       90       1            1   \n",
       "194        517410152  Cux2-CreERT2  VISp    175      180       1            1   \n",
       "195        517410155  Cux2-CreERT2  VISp    175        0       1            8   \n",
       "196        517410336  Cux2-CreERT2  VISp    175        0       1            1   \n",
       "197        587178397  Cux2-CreERT2  VISp    175      180       8           15   \n",
       "198        517409220  Cux2-CreERT2  VISp    175      180       2            8   \n",
       "199        517410149  Cux2-CreERT2  VISp    175      135       1            1   \n",
       "200        587178514  Cux2-CreERT2  VISp    175       90       1            1   \n",
       "201        517409225  Cux2-CreERT2  VISp    175      180       1            1   \n",
       "202        517410421  Cux2-CreERT2  VISp    175       90       8            2   \n",
       "203        517409556  Cux2-CreERT2  VISp    175        0       8            2   \n",
       "204        517410494  Cux2-CreERT2  VISp    175       90       1           15   \n",
       "205        517409718  Cux2-CreERT2  VISp    175       45       8            2   \n",
       "206        517409566  Cux2-CreERT2  VISp    175      180       1            1   \n",
       "207        517410488  Cux2-CreERT2  VISp    175      225       1            1   \n",
       "208        517409954  Cux2-CreERT2  VISp    175       90       1            2   \n",
       "209        587179437  Cux2-CreERT2  VISp    175      315       4            1   \n",
       "210        517408996  Cux2-CreERT2  VISp    175        0       1            8   \n",
       "211        517410339  Cux2-CreERT2  VISp    175       90       1            1   \n",
       "212        587179464  Cux2-CreERT2  VISp    175       90       1            1   \n",
       "213        587178556  Cux2-CreERT2  VISp    175      135       1            1   \n",
       "214        587179457  Cux2-CreERT2  VISp    175      180       1            1   \n",
       "\n",
       "    pref_response null_response DSI_pref_tf DSI_null_tf  \\\n",
       "0      0.00230786   0.000418255    0.720829 -0.00721089   \n",
       "1      0.00670893     0.0013236    0.670441    0.670441   \n",
       "2      0.00386958   0.000985357     0.59408     0.59408   \n",
       "3      0.00178066   0.000565596    0.517874    0.517874   \n",
       "4     0.000931985   0.000739882    0.114904    0.114904   \n",
       "5      0.00374121    0.00349878   0.0334846   0.0334846   \n",
       "6     0.000913368   0.000774072   0.0825491   0.0825491   \n",
       "7      0.00359354   0.000806574    0.858736   -0.712795   \n",
       "8      0.00327682    0.00066686    0.830903    0.243065   \n",
       "9      0.00145684    0.00134993   0.0584757   -0.353157   \n",
       "10    0.000658568   0.000305066    0.651924    0.133197   \n",
       "11      0.0145586    0.00451907    0.776316    0.477766   \n",
       "12     0.00152388    0.00113829     0.14484     0.14484   \n",
       "13     0.00147864   0.000835874      0.3452   -0.267062   \n",
       "14     0.00547824    0.00161895    0.543777    0.543777   \n",
       "15     0.00236482    0.00209016   0.0640366   -0.405341   \n",
       "16      0.0052493   0.000256584    0.906797    0.906797   \n",
       "17     0.00375794    0.00111929    0.541015    0.541015   \n",
       "18     0.00220044   0.000779853    0.918355   -0.518315   \n",
       "19     0.00320738   0.000553514    0.705647    0.705647   \n",
       "20     0.00142609   0.000784737    0.290095    0.290095   \n",
       "21     0.00809471    0.00310437    0.856672   -0.197865   \n",
       "22      0.0178454    0.00279559    0.967849   -0.220507   \n",
       "23     0.00127638   0.000758943    0.481408   -0.737893   \n",
       "24     0.00225381   0.000753021    0.682374   -0.648678   \n",
       "25      0.0649827     0.0467153    0.187246    0.145779   \n",
       "26    0.000728646   0.000691658   0.0317874   -0.344412   \n",
       "27      0.0114496    0.00292095     0.59348     0.59348   \n",
       "28    0.000891278   0.000523206    0.298394    0.029112   \n",
       "29     0.00173205    0.00059461    0.659755   -0.764749   \n",
       "..            ...           ...         ...         ...   \n",
       "185   0.000700067   0.000592435    0.780569    0.045417   \n",
       "186     0.0517774     0.0284012    0.291552    0.291552   \n",
       "187   0.000562198   0.000178931           1  -0.0715584   \n",
       "188    0.00144222   0.000512048    0.526074          -1   \n",
       "189    0.00813469    0.00339095    0.411582    0.411582   \n",
       "190    0.00129309     0.0011961    0.485164   -0.188069   \n",
       "191    0.00483537   0.000388544    0.913335   0.0334635   \n",
       "192    0.00709874    0.00566072    0.112702    0.112702   \n",
       "193   0.000807612   0.000560417    0.180694    0.180694   \n",
       "194     0.0104612    0.00247005    0.617973    0.617973   \n",
       "195    0.00130714    0.00092663    0.331633          -1   \n",
       "196    0.00125876   0.000796077    0.225167    0.225167   \n",
       "197    0.00910858     0.0036043    0.453462    0.245162   \n",
       "198    0.00395986    0.00126911    0.649519   -0.323511   \n",
       "199    0.00666935    0.00111804     0.71286     0.71286   \n",
       "200    0.00166688    0.00122132    0.154267    0.154267   \n",
       "201    0.00142413    0.00093108    0.209346    0.209346   \n",
       "202    0.00203542    0.00160866    0.793792    -0.25523   \n",
       "203    0.00134457    0.00130944    0.914586   -0.152682   \n",
       "204    0.00104488   0.000605559    0.618279          -1   \n",
       "205    0.00122792   0.000542247    0.680503    -0.51009   \n",
       "206    0.00579646    0.00204495    0.478423    0.478423   \n",
       "207    0.00139987    0.00127782   0.0455804   0.0455804   \n",
       "208    0.00104071   0.000551388    0.350466   -0.452045   \n",
       "209     0.0178574    0.00335115    0.847084   0.0580464   \n",
       "210      0.001058   0.000825312    0.726963   -0.786176   \n",
       "211   0.000740733   0.000618674   0.0897886   0.0897886   \n",
       "212     0.0017197   0.000911831    0.306995    0.306995   \n",
       "213    0.00124871   0.000730259     0.26198     0.26198   \n",
       "214    0.00235745   0.000514991    0.641426    0.641426   \n",
       "\n",
       "                                            DSI_tuning  \\\n",
       "0    [0.720828717208, 0.472483194944, 0.36385612447...   \n",
       "1    [0.670441056063, 0.834831702867, 0.74495952595...   \n",
       "2    [0.594079972321, -0.225359013292, 1.0, 1.0, 0....   \n",
       "3    [0.517874003449, 0.30595144139, 0.241891673596...   \n",
       "4    [0.114903760857, -0.634777374775, 0.5964535704...   \n",
       "5    [0.0334845540107, 0.814839948894, 0.1354925992...   \n",
       "6    [0.082549103441, 0.198546710335, -0.1556139956...   \n",
       "7    [0.182892509357, 0.12996903179, 0.858735726764...   \n",
       "8    [0.710185411575, 0.830903450691, 0.86003684815...   \n",
       "9    [0.0584757286563, -0.325309794465, -0.23333876...   \n",
       "10   [0.651923680336, 0.299510724013, -1.0, 0.13319...   \n",
       "11   [0.401842722723, 0.429918414481, 0.77631606047...   \n",
       "12   [0.144839790123, -0.124650079627, -0.127316376...   \n",
       "13   [0.345200084918, 0.426464798756, -0.2670616446...   \n",
       "14   [0.543776993264, 0.342388091809, 0.30097213263...   \n",
       "15   [0.0640366394504, -0.0361343177784, -0.4053409...   \n",
       "16   [0.906796654779, 0.94481071535, 0.918645383932...   \n",
       "17   [0.541015021578, 0.36823445332, 0.355909996796...   \n",
       "18   [-0.0686348005611, -0.518314708066, 0.23128040...   \n",
       "19   [0.70564707309, 0.149485460197, 0.599302273138...   \n",
       "20   [0.290095208519, 0.345801733056, -0.2264733111...   \n",
       "21   [-0.197865071314, 0.85667157155, 0.84880321925...   \n",
       "22   [0.967849109947, 0.355268849159, 0.93043003954...   \n",
       "23   [-0.737892729642, 1.0, 0.481408290476, -0.0223...   \n",
       "24   [0.682373980855, 0.260142824526, -0.6486784745...   \n",
       "25   [0.187245749264, 0.145779079728, 0.28070957109...   \n",
       "26   [0.0317874163606, -0.34441183502, -1.0, -0.118...   \n",
       "27   [0.593480279823, 0.763368659967, 0.68163525445...   \n",
       "28   [0.0291120363961, 0.298393835758, 0.2445818900...   \n",
       "29   [0.65975524391, 0.105174595879, 0.289868997551...   \n",
       "..                                                 ...   \n",
       "185  [0.0454169764515, 0.348561267821, 0.0319101689...   \n",
       "186  [0.291551721564, 0.873579817089, 0.35845623784...   \n",
       "187  [0.11951461084, -0.071558384394, 0.70349343128...   \n",
       "188  [0.526073712127, -0.129458821516, -1.0, 0.3093...   \n",
       "189  [-0.365292068597, -0.372973869411, 0.721107476...   \n",
       "190  [-0.18806861458, 0.485164352837, 0.01676313104...   \n",
       "191  [0.913335051655, 0.629098486608, 0.03346354583...   \n",
       "192  [0.112702318437, 0.333214972751, 0.33513754168...   \n",
       "193  [0.180694224541, -0.629259963149, 0.3583614742...   \n",
       "194  [0.617972606264, 0.0324234618906, 0.7816951110...   \n",
       "195  [0.331632574084, -1.0, 0.723765942975, -1.0, 1.0]   \n",
       "196  [0.225166671382, 0.222290576135, 0.67374418239...   \n",
       "197  [0.00215863032748, -0.339867593627, 0.46093285...   \n",
       "198  [0.191890587222, 0.649518851291, 0.79227146618...   \n",
       "199  [0.712859791657, 0.861944287417, 0.50727292549...   \n",
       "200  [0.154266787042, -0.378469302347, -0.428658160...   \n",
       "201  [0.209345826336, 0.0646788612749, 0.4772897971...   \n",
       "202  [0.224946437777, -0.255230187014, -0.408162884...   \n",
       "203  [0.0747427663176, -0.152681896816, 0.184164754...   \n",
       "204  [0.618279154354, -0.568970333655, 0.2012660754...   \n",
       "205  [-0.238292934725, -0.510089712776, 1.0, 0.6805...   \n",
       "206  [0.478422850224, -0.0562573030514, 0.897150025...   \n",
       "207  [0.0455803508669, 0.202837488318, -0.016304437...   \n",
       "208  [0.350466199167, -0.452044785311, -0.729513156...   \n",
       "209  [0.0580463581155, 0.118596619407, 0.8470843552...   \n",
       "210  [0.726963312033, -0.450018542299, 1.0, -0.7861...   \n",
       "211  [0.089788593738, 0.0581179859327, -0.321404620...   \n",
       "212  [0.306995214602, 0.287143045038, 0.51674952866...   \n",
       "213  [0.261980398185, 0.0272178697834, 0.1862798353...   \n",
       "214  [0.641426401719, 0.149009634215, 1.0, 0.118862...   \n",
       "\n",
       "                                        tf_tuning_pref  \\\n",
       "0    [0.00230785573812, 0.00105163225232, 0.0008481...   \n",
       "1    [0.00670892919444, 0.00495411698494, 0.0019643...   \n",
       "2    [0.00386957634354, 0.000312713837915, 0.000365...   \n",
       "3    [0.00178066077391, 0.000941294418073, 0.000673...   \n",
       "4    [0.000931985492235, 7.18486194213e-05, 0.00027...   \n",
       "5    [0.0037412112955, 0.00148435337946, 0.00158287...   \n",
       "6    [0.000913368355238, 0.000770218932281, 9.00357...   \n",
       "7    [0.000806329851271, 0.000404640179736, 0.00359...   \n",
       "8    [0.00293918621373, 0.00327682387974, 0.0010119...   \n",
       "9    [0.00145683778169, 0.000334458473486, 0.000625...   \n",
       "10   [0.000658568164481, 0.000507474032058, 0.0, 0....   \n",
       "11   [0.00233543277521, 0.00393795559909, 0.0145585...   \n",
       "12   [0.00152387790737, 0.000764500746888, 0.000556...   \n",
       "13   [0.00147864388058, 0.000713071964293, 0.000483...   \n",
       "14   [0.00547824490955, 0.0013356600058, 0.00072355...   \n",
       "15   [0.0023648249957, 0.00101631367338, 0.00088443...   \n",
       "16   [0.00524930329453, 0.00441302354427, 0.0014023...   \n",
       "17   [0.00375793852508, 0.0014406363632, 0.00048780...   \n",
       "18   [0.000531885408915, 0.000247408269513, 0.00053...   \n",
       "19   [0.00320737542479, 0.0002500540222, 0.00081378...   \n",
       "20   [0.00142608568122, 0.000997987175974, 0.000353...   \n",
       "21   [0.00207880150489, 0.00809470756098, 0.0044815...   \n",
       "22   [0.0178454112886, 0.000972398316228, 0.0035092...   \n",
       "23   [0.000114463099071, 0.000229559942796, 0.00127...   \n",
       "24   [0.00225381440921, 0.000602605284376, 0.000160...   \n",
       "25   [0.0649827408549, 0.0626598850573, 0.055717224...   \n",
       "26   [0.000728645670614, 0.000337279465116, 0.0, 0....   \n",
       "27   [0.0114495688793, 0.00766224277857, 0.00716259...   \n",
       "28   [0.000554582951039, 0.000891277900555, 0.00025...   \n",
       "29   [0.0017320450755, 0.000507075998043, 0.0002458...   \n",
       "..                                                 ...   \n",
       "185  [0.000648808131577, 0.000522836073065, 0.00019...   \n",
       "186  [0.0517774107068, 0.0144275014176, 0.010213551...   \n",
       "187  [0.000146167702847, 0.000155033234072, 0.00040...   \n",
       "188  [0.00144222467122, 0.000259308293875, 0.0, 0.0...   \n",
       "189  [0.000673987196298, 0.000566099811502, 0.00254...   \n",
       "190  [0.000817422780823, 0.0012930930376, 0.0002683...   \n",
       "191  [0.00483537248322, 0.00082702716038, 0.0004154...   \n",
       "192  [0.00709873951641, 0.00458718850884, 0.0027187...   \n",
       "193  [0.000807612376035, 6.34056720033e-05, 0.00013...   \n",
       "194  [0.0104612367753, 0.00179082610601, 0.00197007...   \n",
       "195  [0.00130714150016, 0.0, 0.000642115819549, 0.0...   \n",
       "196  [0.00125875694837, 0.000450460258991, 0.000787...   \n",
       "197  [0.000902254542752, 0.00098316732292, 0.003838...   \n",
       "198  [0.00100428389738, 0.00395986269618, 0.0019781...   \n",
       "199  [0.0066693517083, 0.00167532339443, 0.00019407...   \n",
       "200  [0.00166687832813, 0.000174526170754, 0.000241...   \n",
       "201  [0.00142413411371, 0.000535816543894, 0.000657...   \n",
       "202  [0.00135390560174, 0.000954468738033, 0.000545...   \n",
       "203  [0.001007097464, 0.000962549355017, 0.00077286...   \n",
       "204  [0.00104487853077, 7.19563076728e-05, 0.000676...   \n",
       "205  [0.00012552577072, 0.000175918408174, 0.000293...   \n",
       "206  [0.00579645520366, 0.00163126632009, 0.0053386...   \n",
       "207  [0.0013998696422, 0.00077746127924, 0.00052202...   \n",
       "208  [0.00104070721913, 0.00020807626568, 6.3983736...   \n",
       "209  [0.00376417114012, 0.00286299216399, 0.0178574...   \n",
       "210  [0.00105800358415, 0.000147066268405, 0.000899...   \n",
       "211  [0.000740732894111, 0.000513311040679, 0.00015...   \n",
       "212  [0.00171969857465, 0.000779629097498, 0.000560...   \n",
       "213  [0.00124870993701, 0.000580793951388, 0.000384...   \n",
       "214  [0.00235745219293, 0.000567644319564, 0.000782...   \n",
       "\n",
       "                                        tf_tuning_null  \\\n",
       "0    [0.000374405099397, 0.000376747040471, 0.00039...   \n",
       "1    [0.00132359511414, 0.000445960828409, 0.000287...   \n",
       "2    [0.000985357424815, 0.000494663626694, 0.0, 0....   \n",
       "3    [0.000565595595016, 0.000500251397859, 0.00041...   \n",
       "4    [0.000739881667884, 0.000321602467444, 6.97787...   \n",
       "5    [0.00349878330525, 0.000151441975789, 0.001205...   \n",
       "6    [0.000774071692211, 0.000515035827736, 0.00012...   \n",
       "7    [0.000556989038472, 0.000311556757263, 0.00027...   \n",
       "8    [0.000498085784775, 0.000302637263886, 7.61478...   \n",
       "9    [0.00129587112272, 0.000656984623633, 0.001006...   \n",
       "10   [0.000138766691021, 0.000273549198732, 0.00021...   \n",
       "11   [0.00099651415058, 0.00156998885314, 0.0018333...   \n",
       "12   [0.00113829005799, 0.00098223099797, 0.0007193...   \n",
       "13   [0.000719756040978, 0.000286703094881, 0.00083...   \n",
       "14   [0.00161895233261, 0.000654315939236, 0.000388...   \n",
       "15   [0.0020801817043, 0.00109251474977, 0.00209015...   \n",
       "16   [0.000256583535482, 0.000125231525428, 5.94634...   \n",
       "17   [0.00111928651486, 0.000665196244223, 0.000231...   \n",
       "18   [0.000610277534762, 0.000779852781038, 0.00033...   \n",
       "19   [0.000553514474875, 0.000185017200288, 0.00020...   \n",
       "20   [0.000784736701194, 0.000485124565468, 0.00056...   \n",
       "21   [0.00310437013007, 0.000624882575495, 0.000366...   \n",
       "22   [0.000291559883014, 0.000462591231169, 0.00012...   \n",
       "23   [0.00075894341815, 0.0, 0.000446818804209, 5.8...   \n",
       "24   [0.000425511870034, 0.000353802628517, 0.00075...   \n",
       "25   [0.0444853130761, 0.0467152748944, 0.031292704...   \n",
       "26   [0.000683749284122, 0.000691657550934, 0.00014...   \n",
       "27   [0.00292094956926, 0.00102821764814, 0.0013560...   \n",
       "28   [0.000523206310821, 0.000481615093864, 0.00015...   \n",
       "29   [0.000355063950792, 0.000410563621857, 0.00013...   \n",
       "..                                                 ...   \n",
       "185  [0.000592434637943, 0.000252562250379, 0.00018...   \n",
       "186  [0.0284011990109, 0.000973498620937, 0.0048234...   \n",
       "187  [0.000114959220253, 0.000178931188603, 7.12506...   \n",
       "188  [0.000447886743136, 0.000336432149619, 0.00051...   \n",
       "189  [0.00144978395245, 0.00123956596185, 0.0004119...   \n",
       "190  [0.00119610396664, 0.000448253682889, 0.000259...   \n",
       "191  [0.000219019301467, 0.000188291639777, 0.00038...   \n",
       "192  [0.00566071896369, 0.00229420511873, 0.0013538...   \n",
       "193  [0.000560417312344, 0.00027864355765, 6.182255...   \n",
       "194  [0.00247005357511, 0.0016783436138, 0.00024138...   \n",
       "195  [0.000656074969006, 0.000308895328184, 0.00010...   \n",
       "196  [0.000796076859587, 0.000286615306814, 0.00015...   \n",
       "197  [0.000898367665046, 0.00199553002152, 0.001416...   \n",
       "198  [0.000680910881652, 0.000841370940019, 0.00022...   \n",
       "199  [0.00111803607532, 0.000124218520709, 6.344168...   \n",
       "200  [0.00122132454982, 0.000387074958242, 0.000604...   \n",
       "201  [0.000931079891572, 0.000470715215837, 0.00023...   \n",
       "202  [0.000856649178427, 0.00160865538808, 0.001298...   \n",
       "203  [0.000867020688849, 0.00130944117935, 0.000532...   \n",
       "204  [0.00024646669599, 0.000261924690742, 0.000450...   \n",
       "205  [0.000204064898561, 0.000542247397939, 0.0, 0....   \n",
       "206  [0.00204494849594, 0.00182574865945, 0.0002894...   \n",
       "207  [0.00127781962585, 0.000515250806625, 0.000539...   \n",
       "208  [0.000500549007458, 0.000551388231059, 0.00040...   \n",
       "209  [0.00335115251512, 0.00225590791906, 0.0014783...   \n",
       "210  [0.000167272687533, 0.000387738192166, 0.0, 0....   \n",
       "211  [0.00061867368872, 0.000456922992772, 0.000310...   \n",
       "212  [0.00091183145, 0.000431781088034, 0.000178551...   \n",
       "213  [0.000730258894528, 0.000550015720976, 0.00026...   \n",
       "214  [0.000514991177619, 0.000420414096416, 0.0, 0....   \n",
       "\n",
       "                                           tf_sem_pref  \\\n",
       "0    [0.00046595379931, 0.000473850155841, 0.000247...   \n",
       "1    [0.00303497721867, 0.00138655929893, 0.0006739...   \n",
       "2    [0.00345023493113, 0.000217743905745, 0.000221...   \n",
       "3    [0.000473058399506, 0.00017667027048, 0.000232...   \n",
       "4    [0.000375558316841, 7.18486194213e-05, 0.00012...   \n",
       "5    [0.00126119445442, 0.000574156880933, 0.001228...   \n",
       "6    [0.00028667659882, 0.000392900267273, 9.003573...   \n",
       "7    [0.000291619765245, 0.000163398252307, 0.00235...   \n",
       "8    [0.00155765004896, 0.00122417812907, 0.0006915...   \n",
       "9    [0.000479915780732, 0.000151393964928, 0.00021...   \n",
       "10   [0.000251118884983, 0.000244338420916, 0.0, 0....   \n",
       "11   [0.00108437386534, 0.00284267615424, 0.0059020...   \n",
       "12   [0.000539690534288, 0.000274163860691, 0.00021...   \n",
       "13   [0.000415911606412, 0.000331375998324, 0.00027...   \n",
       "14   [0.00269206949855, 0.000574941013075, 0.000290...   \n",
       "15   [0.000406831262373, 0.00033271937242, 0.000296...   \n",
       "16   [0.00163233925272, 0.00200461301203, 0.0004998...   \n",
       "17   [0.00130972427376, 0.00118435565325, 0.0001957...   \n",
       "18   [0.000257126202903, 0.000177608988756, 0.00017...   \n",
       "19   [0.00106562818293, 0.000132920985837, 0.000346...   \n",
       "20   [0.000391639842736, 0.000556000938485, 0.00017...   \n",
       "21   [0.000557931024612, 0.00498209163509, 0.001973...   \n",
       "22   [0.0123709592345, 0.000459183749132, 0.0032094...   \n",
       "23   [7.8247201676e-05, 0.000103749896684, 0.000917...   \n",
       "24   [0.000956985206559, 0.000439464432648, 0.00011...   \n",
       "25   [0.00390248895251, 0.00370393630662, 0.0046533...   \n",
       "26   [0.000293273292735, 0.000182971585653, 0.0, 0....   \n",
       "27   [0.00144110999849, 0.000891234265146, 0.001600...   \n",
       "28   [0.000140619969177, 0.000324116122696, 0.00011...   \n",
       "29   [0.000596014797874, 0.000177634007807, 0.00018...   \n",
       "..                                                 ...   \n",
       "185  [0.0002247981814, 0.000171233716983, 0.0001350...   \n",
       "186  [0.0160517940845, 0.00762100713417, 0.00700893...   \n",
       "187  [9.99163500651e-05, 0.000105651732188, 0.00034...   \n",
       "188  [0.000860129659129, 0.000140762499368, 0.0, 0....   \n",
       "189  [0.000176463013634, 0.000144715787272, 0.00112...   \n",
       "190  [0.000214097004824, 0.000276606412936, 0.00014...   \n",
       "191  [0.00240358131924, 0.000317052029002, 0.000203...   \n",
       "192  [0.0016199515039, 0.00131534446045, 0.00135925...   \n",
       "193  [0.000429137411467, 6.34056720033e-05, 8.92126...   \n",
       "194  [0.00377973171316, 0.000494460658727, 0.000599...   \n",
       "195  [0.000777588236415, 0.0, 0.000313183913417, 0....   \n",
       "196  [0.000253324707734, 0.000170269732253, 0.00026...   \n",
       "197  [0.000242433698914, 0.000404249653222, 0.00106...   \n",
       "198  [0.00030562609831, 0.00144238753784, 0.0014859...   \n",
       "199  [0.0028590030021, 0.000726664694059, 0.0001038...   \n",
       "200  [0.00109749468744, 0.00011978439273, 0.0001294...   \n",
       "201  [0.000442496218359, 0.000293455763638, 0.00030...   \n",
       "202  [0.0003215855215, 0.000295951543959, 0.0003986...   \n",
       "203  [0.000245623083694, 0.000152209770904, 0.00018...   \n",
       "204  [0.000663185021873, 7.19563076728e-05, 0.00031...   \n",
       "205  [8.57723465539e-05, 9.41492713953e-05, 0.00013...   \n",
       "206  [0.00245095157965, 0.000549796419069, 0.003190...   \n",
       "207  [0.000289638226974, 0.000241978146777, 0.00020...   \n",
       "208  [0.000287081877779, 0.000111432850546, 6.39837...   \n",
       "209  [0.00252109172076, 0.000832496356029, 0.004608...   \n",
       "210  [0.000452199494205, 0.000147066268405, 0.00039...   \n",
       "211  [0.000163794206589, 0.000203346071642, 0.00010...   \n",
       "212  [0.000333365026102, 0.000188887418617, 0.00020...   \n",
       "213  [0.000357645620637, 0.000231519721145, 0.00022...   \n",
       "214  [0.000819084047326, 0.000186165100087, 0.00072...   \n",
       "\n",
       "                                           tf_sem_null  \n",
       "0    [0.000126427721668, 0.000259486802566, 0.00017...  \n",
       "1    [0.00105106888422, 0.000173400636086, 0.000155...  \n",
       "2    [0.000345712383236, 0.000309307475972, 0.0, 0....  \n",
       "3    [0.000167142246078, 0.000240614292997, 0.00016...  \n",
       "4    [0.000264448225657, 0.000121963067966, 6.97787...  \n",
       "5    [0.00142308790287, 0.000104294150724, 0.000517...  \n",
       "6    [0.000274421162338, 0.000150780523709, 8.40215...  \n",
       "7    [0.000135613429703, 0.000105778330513, 0.00014...  \n",
       "8    [0.000177212434223, 0.000115838609852, 7.61478...  \n",
       "9    [0.000325206900867, 0.000245072169476, 0.00027...  \n",
       "10   [9.48732881112e-05, 0.000213403099304, 0.00021...  \n",
       "11   [0.000576928762354, 0.00103394476502, 0.001536...  \n",
       "12   [0.000235915173979, 0.000200855481214, 0.00021...  \n",
       "13   [0.000226442606615, 0.00012851864415, 0.000460...  \n",
       "14   [0.000787723230304, 0.000214817389413, 0.00019...  \n",
       "15   [0.000267715501674, 0.000217774212316, 0.00067...  \n",
       "16   [0.000142238776365, 8.53327856583e-05, 5.94634...  \n",
       "17   [0.000282059113082, 0.000368333758354, 0.00010...  \n",
       "18   [0.000203568226857, 0.000308871265153, 0.00018...  \n",
       "19   [0.000165303578158, 0.000128817117229, 0.00010...  \n",
       "20   [0.000392711152918, 0.000201384549078, 0.00015...  \n",
       "21   [0.00158141058401, 0.000196698140366, 0.000174...  \n",
       "22   [0.000158345626066, 0.000301617260913, 0.00012...  \n",
       "23   [0.000539855400565, 0.0, 0.000236882045725, 5....  \n",
       "24   [0.000149607041749, 0.000157160384258, 0.00031...  \n",
       "25   [0.00228284351823, 0.00426401514604, 0.0046572...  \n",
       "26   [0.000181870172744, 0.000182618990671, 9.62179...  \n",
       "27   [0.000832142295449, 0.000351811814116, 0.00032...  \n",
       "28   [0.000155940047496, 0.000215135793548, 0.00010...  \n",
       "29   [0.00015934577859, 0.000160411197517, 9.224458...  \n",
       "..                                                 ...  \n",
       "185  [0.000198492477496, 0.000135019651601, 0.00012...  \n",
       "186  [0.0103005173536, 0.000768542588987, 0.0042171...  \n",
       "187  [7.83382618461e-05, 0.000127533557741, 7.12506...  \n",
       "188  [0.000176238410679, 0.000149305317339, 0.00017...  \n",
       "189  [0.000371538518737, 0.000482427363192, 0.00017...  \n",
       "190  [0.000810526282925, 0.000170803273364, 0.00013...  \n",
       "191  [0.000117445247074, 0.00012856169071, 0.000174...  \n",
       "192  [0.00118404221736, 0.000756891861187, 0.000593...  \n",
       "193  [0.000164155927591, 0.000124003778706, 6.18225...  \n",
       "194  [0.000923943188537, 0.000481540301812, 0.00013...  \n",
       "195  [0.000320375267199, 0.000228384880845, 0.00010...  \n",
       "196  [0.000557852311982, 0.000156031298776, 0.00010...  \n",
       "197  [0.000259234081229, 0.00108988485222, 0.000323...  \n",
       "198  [0.000379246331547, 0.000780357664056, 0.00013...  \n",
       "199  [0.000614189088655, 8.46936526623e-05, 6.34416...  \n",
       "200  [0.00042566826079, 0.000176035101325, 0.000250...  \n",
       "201  [0.000454876351231, 0.000317523072796, 0.00012...  \n",
       "202  [0.000417134834992, 0.000494350463668, 0.00057...  \n",
       "203  [0.00014693215933, 0.000426623746488, 0.000155...  \n",
       "204  [0.000185217636378, 0.000141279763015, 0.00017...  \n",
       "205  [0.000109245657142, 0.000330076285738, 0.0, 0....  \n",
       "206  [0.00119215893722, 0.0011972958608, 0.00020239...  \n",
       "207  [0.000588100550945, 0.000197494320855, 0.00020...  \n",
       "208  [0.000169173592569, 0.000196354471031, 0.00016...  \n",
       "209  [0.00119488350081, 0.000998830624087, 0.000507...  \n",
       "210  [0.000167272687533, 0.000306041628765, 0.0, 0....  \n",
       "211  [0.000178092726997, 0.000175253441762, 0.00013...  \n",
       "212  [0.000509099402552, 0.000165916610556, 0.00012...  \n",
       "213  [0.000527678599018, 0.000351118188258, 0.00014...  \n",
       "214  [0.000206857305553, 0.000276067910873, 0.0, 0....  \n",
       "\n",
       "[215 rows x 16 columns]"
      ]
     },
     "execution_count": 48,
     "metadata": {},
     "output_type": "execute_result"
    }
   ],
   "source": [
    "dgtf"
   ]
  },
  {
   "cell_type": "code",
   "execution_count": 326,
   "metadata": {
    "collapsed": true
   },
   "outputs": [],
   "source": [
    "subset = dgtf[(dgtf.pref_response>4)&(dgtf.null_response>4)]"
   ]
  },
  {
   "cell_type": "code",
   "execution_count": 327,
   "metadata": {},
   "outputs": [
    {
     "data": {
      "text/plain": [
       "22"
      ]
     },
     "execution_count": 327,
     "metadata": {},
     "output_type": "execute_result"
    }
   ],
   "source": [
    "len(subset)"
   ]
  },
  {
   "cell_type": "code",
   "execution_count": null,
   "metadata": {
    "collapsed": true
   },
   "outputs": [],
   "source": [
    "i=9\n",
    "plt.plot(subset.DSI_tuning.iloc[i], 'o-')\n",
    "plt.ylabel(\"DSI\")\n",
    "plt.xlabel(\"TF\")\n",
    "plt.axhline(y=0, ls='--', color='k')\n",
    "plt.xticks(range(5), dg.tfvals[1:])"
   ]
  },
  {
   "cell_type": "code",
   "execution_count": null,
   "metadata": {
    "collapsed": true
   },
   "outputs": [],
   "source": [
    "dgtf"
   ]
  },
  {
   "cell_type": "code",
   "execution_count": null,
   "metadata": {
    "collapsed": true
   },
   "outputs": [],
   "source": [
    "np.argmax(dg.response[6,1:,0,0])"
   ]
  },
  {
   "cell_type": "code",
   "execution_count": null,
   "metadata": {
    "collapsed": true
   },
   "outputs": [],
   "source": [
    "dg.orivals[dg.peak.ori_dg[0]]"
   ]
  },
  {
   "cell_type": "code",
   "execution_count": 103,
   "metadata": {},
   "outputs": [
    {
     "data": {
      "text/plain": [
       "Text(0.5,1,u'670050073')"
      ]
     },
     "execution_count": 103,
     "metadata": {},
     "output_type": "execute_result"
    },
    {
     "data": {
      "image/png": "[encoded data removed]",
      "text/plain": [
       "<matplotlib.figure.Figure at 0x11cb79e90>"
      ]
     },
     "metadata": {},
     "output_type": "display_data"
    }
   ],
   "source": [
    "i=2\n",
    "plt.figure(figsize=(8,6))\n",
    "plt.errorbar(range(5), dgtf.tf_tuning_pref.loc[i], yerr=dgtf.tf_sem_pref.loc[i], fmt='o-', label=np.round(dgtf.DSI_pref_tf.loc[i],2))\n",
    "plt.errorbar(range(5), dgtf.tf_tuning_null.loc[i], yerr=dgtf.tf_sem_null.loc[i], fmt='o-', label=np.round(dgtf.DSI_null_tf.loc[i],2))\n",
    "plt.xticks(range(5), tfvals[1:])\n",
    "plt.xlabel(\"Temporal frequency\", fontsize=18)\n",
    "plt.ylabel(\"Event mangitude\", fontsize=18)\n",
    "plt.tick_params(labelsize=16)\n",
    "plt.legend()\n",
    "plt.title(str(dgtf.cell_specimen_id.loc[i]), fontsize=18)"
   ]
  },
  {
   "cell_type": "code",
   "execution_count": null,
   "metadata": {
    "collapsed": true
   },
   "outputs": [],
   "source": [
    "np.round(0.12345,2)"
   ]
  },
  {
   "cell_type": "code",
   "execution_count": null,
   "metadata": {
    "collapsed": true
   },
   "outputs": [],
   "source": [
    "len(exps)"
   ]
  },
  {
   "cell_type": "code",
   "execution_count": 50,
   "metadata": {},
   "outputs": [
    {
     "name": "stdout",
     "output_type": "stream",
     "text": [
      "0 215"
     ]
    },
    {
     "name": "stderr",
     "output_type": "stream",
     "text": [
      "/Users/saskiad/anaconda2/lib/python2.7/site-packages/ipykernel_launcher.py:6: RuntimeWarning: invalid value encountered in double_scalars\n",
      "  \n"
     ]
    },
    {
     "name": "stdout",
     "output_type": "stream",
     "text": [
      "\n",
      "1 205\n",
      "2 178\n",
      "3 142\n",
      "4 292\n",
      "5 197\n",
      "6 266\n",
      "7 226\n",
      "8 240\n",
      "9 184\n",
      "10 353\n",
      "11 318\n",
      "12 264\n",
      "13 254\n",
      "14 230\n",
      "15 378\n",
      "16 226\n",
      "17 167\n",
      "18 171\n",
      "19 290\n",
      "20 334\n",
      "21 415\n",
      "22 256\n",
      "23 209\n",
      "24 302\n",
      "25 315\n",
      "26 352\n",
      "27 320\n",
      "28 485\n",
      "29 160\n",
      "30 221\n",
      "31 221\n",
      "32 143\n",
      "33 371\n",
      "34 54\n",
      "35 60\n",
      "36 70\n",
      "37 99\n",
      "38 52\n",
      "39 173\n",
      "40 81\n",
      "41 51\n",
      "42 58\n",
      "43 45\n",
      "44 86\n",
      "45 35\n",
      "46 14\n",
      "47 71\n",
      "48 129\n",
      "49 48\n",
      "50 21\n",
      "51 46\n",
      "52 79\n",
      "53 66\n",
      "54 48\n",
      "55 21\n",
      "56 49\n",
      "57 28\n",
      "58 23\n",
      "59 55\n",
      "60 227\n",
      "61 284\n",
      "62 90\n",
      "63 211\n",
      "64 171\n",
      "65 237\n",
      "66 157\n",
      "67 240\n",
      "68 130\n",
      "69 83\n",
      "70 53\n",
      "71 150\n",
      "72 208\n",
      "73 213\n",
      "74 109\n",
      "75 144\n",
      "76 110\n",
      "77 224\n",
      "78 207\n",
      "79 244\n",
      "80 86\n",
      "81 107\n",
      "82 211\n",
      "83 309\n",
      "84 198\n",
      "85 214\n",
      "86 155\n",
      "87 261\n",
      "88 261\n",
      "89 89\n",
      "90 8\n",
      "91 8\n",
      "92 10\n",
      "93 15\n",
      "94 10\n",
      "95 11\n",
      "96 10\n",
      "97 14\n",
      "98 15\n",
      "99 17\n",
      "100 5\n",
      "101 124\n",
      "102 13\n",
      "103 6\n",
      "104 7\n",
      "105 7\n",
      "106 7\n",
      "107 15\n",
      "108 127\n",
      "109 128\n",
      "110 171\n",
      "111 172\n",
      "112 139\n",
      "113 103\n",
      "114 11\n",
      "115 13\n",
      "116 13\n",
      "117 24\n",
      "118 9\n",
      "119 17\n",
      "120 8\n",
      "121 9\n",
      "122 12\n",
      "123 9\n",
      "124 13\n",
      "125 9\n",
      "126 4\n",
      "127 4\n",
      "128 12\n",
      "129 10\n"
     ]
    }
   ],
   "source": [
    "for a in range(130):\n",
    "    session_id = exps[a]['id']\n",
    "    data_file_dg = os.path.join(save_path, 'DriftingGratings', str(session_id)+\"_dg_events_analysis.h5\")\n",
    "    f = h5py.File(data_file_dg)\n",
    "    response = f['response_events'].value\n",
    "    f.close()\n",
    "    peak = pd.read_hdf(data_file_dg, 'peak')\n",
    "    numbercells = response.shape[2]\n",
    "    \n",
    "    print a, numbercells\n",
    "    dgtf = pd.DataFrame(columns=('cell_specimen_id','cre','area','depth','responsive_dg','pref_dir','pref_tf','pref_null_tf','pref_response','null_response','DSI_pref_tf','DSI_null_tf','DSI_tuning','tf_tuning_pref','tf_tuning_null', 'tf_sem_pref','tf_sem_null'), index=range(numbercells))\n",
    "    dgtf.cell_specimen_id = peak.cell_specimen_id\n",
    "    dgtf.responsive_dg = peak.responsive_dg\n",
    "    dgtf.cre = exps[a]['cre_line']\n",
    "    dgtf.area = exps[a]['targeted_structure']\n",
    "    dgtf.depth = exps[a]['imaging_depth']\n",
    "    for i in range(numbercells):\n",
    "        pref_ori = np.where(orivals==peak.pref_ori_dg.iloc[i])[0][0]\n",
    "        pref_tf = np.where(tfvals==peak.pref_tf_dg.iloc[i])[0][0]\n",
    "        null_ori = np.mod(pref_ori+4,8)\n",
    "        dgtf.pref_dir.loc[i] = peak.pref_ori_dg.iloc[i]\n",
    "        dgtf.pref_tf.loc[i] = peak.pref_tf_dg.iloc[i]\n",
    "        null_tf = np.argmax(response[null_ori,1:,i,0])\n",
    "        dgtf.pref_null_tf.loc[i] = tfvals[null_tf+1]\n",
    "        dgtf.pref_response.loc[i] = response[pref_ori, pref_tf, i, 0]\n",
    "        dgtf.null_response.loc[i] = response[null_ori, null_tf+1, i, 0]\n",
    "        dgtf.tf_tuning_pref.loc[i] = response[pref_ori,1:,i,0]\n",
    "        dgtf.tf_tuning_null.loc[i] = response[null_ori,1:,i,0]\n",
    "        dgtf.tf_sem_pref.loc[i] = response[pref_ori,1:,i,1]\n",
    "        dgtf.tf_sem_null.loc[i] = response[null_ori,1:,i,1]\n",
    "        dgtf.DSI_pref_tf.loc[i] = get_dsi(pref_ori, null_ori, pref_tf, i)\n",
    "        dgtf.DSI_null_tf.loc[i] = get_dsi(pref_ori, null_ori, null_tf+1, i)\n",
    "        dsi_tuning = np.empty((5))\n",
    "        for b in range(5):\n",
    "            dsi_tuning[b] = get_dsi(pref_ori, null_ori, b+1, i)\n",
    "        dgtf.DSI_tuning.loc[i] = dsi_tuning\n",
    "\n",
    "    if a==0:\n",
    "        dgtf_all = dgtf.copy()\n",
    "    else:\n",
    "        dgtf_all = dgtf_all.append(dgtf)\n",
    "        "
   ]
  },
  {
   "cell_type": "code",
   "execution_count": 8,
   "metadata": {},
   "outputs": [
    {
     "name": "stdout",
     "output_type": "stream",
     "text": [
      "4\n"
     ]
    }
   ],
   "source": [
    "print a"
   ]
  },
  {
   "cell_type": "code",
   "execution_count": 97,
   "metadata": {},
   "outputs": [
    {
     "data": {
      "text/plain": [
       "17164"
      ]
     },
     "execution_count": 97,
     "metadata": {},
     "output_type": "execute_result"
    }
   ],
   "source": [
    "len(dgtf_all)"
   ]
  },
  {
   "cell_type": "code",
   "execution_count": 59,
   "metadata": {
    "collapsed": true
   },
   "outputs": [],
   "source": [
    "dgtf_all.to_csv(r'/Users/saskiad/Documents/Data/CAM/Direction tuning TF/dgtf_events_all.csv')"
   ]
  },
  {
   "cell_type": "code",
   "execution_count": 2,
   "metadata": {
    "collapsed": true
   },
   "outputs": [],
   "source": [
    "dgtf_all = pd.read_csv(r'/Users/saskiad/Documents/Data/CAM/Direction tuning TF/dgtf_events_all.csv')"
   ]
  },
  {
   "cell_type": "code",
   "execution_count": null,
   "metadata": {
    "collapsed": true
   },
   "outputs": [],
   "source": [
    "dgtf_all"
   ]
  },
  {
   "cell_type": "code",
   "execution_count": 52,
   "metadata": {},
   "outputs": [
    {
     "data": {
      "text/plain": [
       "(17164, 16)"
      ]
     },
     "execution_count": 52,
     "metadata": {},
     "output_type": "execute_result"
    }
   ],
   "source": [
    "dgtf_all.shape"
   ]
  },
  {
   "cell_type": "code",
   "execution_count": 58,
   "metadata": {
    "collapsed": true
   },
   "outputs": [],
   "source": [
    "dgtf_all = dgtf_all.reset_index()"
   ]
  },
  {
   "cell_type": "code",
   "execution_count": 55,
   "metadata": {},
   "outputs": [
    {
     "data": {
      "text/plain": [
       "array([u'Cux2-CreERT2', u'Emx1-IRES-Cre', u'Fezf2-CreER', u'Nr5a1-Cre',\n",
       "       u'Ntsr1-Cre_GN220', u'Rbp4-Cre_KL100', u'Rorb-IRES2-Cre',\n",
       "       u'Scnn1a-Tg3-Cre', u'Slc17a7-IRES2-Cre', u'Sst-IRES-Cre',\n",
       "       u'Tlx3-Cre_PL56', u'Vip-IRES-Cre'], dtype=object)"
      ]
     },
     "execution_count": 55,
     "metadata": {},
     "output_type": "execute_result"
    }
   ],
   "source": [
    "dgtf_all.cre.unique()"
   ]
  },
  {
   "cell_type": "code",
   "execution_count": 64,
   "metadata": {},
   "outputs": [
    {
     "data": {
      "text/plain": [
       "0.0085891703639139234"
      ]
     },
     "execution_count": 64,
     "metadata": {},
     "output_type": "execute_result"
    }
   ],
   "source": [
    "dgtf_all.pref_response.mean()"
   ]
  },
  {
   "cell_type": "code",
   "execution_count": 92,
   "metadata": {
    "scrolled": true
   },
   "outputs": [
    {
     "data": {
      "text/html": [
       "<div>\n",
       "<style>\n",
       "    .dataframe thead tr:only-child th {\n",
       "        text-align: right;\n",
       "    }\n",
       "\n",
       "    .dataframe thead th {\n",
       "        text-align: left;\n",
       "    }\n",
       "\n",
       "    .dataframe tbody tr th {\n",
       "        vertical-align: top;\n",
       "    }\n",
       "</style>\n",
       "<table border=\"1\" class=\"dataframe\">\n",
       "  <thead>\n",
       "    <tr style=\"text-align: right;\">\n",
       "      <th></th>\n",
       "      <th>index</th>\n",
       "      <th>cell_specimen_id</th>\n",
       "      <th>cre</th>\n",
       "      <th>area</th>\n",
       "      <th>depth</th>\n",
       "      <th>pref_dir</th>\n",
       "      <th>pref_tf</th>\n",
       "      <th>pref_null_tf</th>\n",
       "      <th>pref_response</th>\n",
       "      <th>null_response</th>\n",
       "      <th>DSI_pref_tf</th>\n",
       "      <th>DSI_null_tf</th>\n",
       "      <th>DSI_tuning</th>\n",
       "      <th>tf_tuning_pref</th>\n",
       "      <th>tf_tuning_null</th>\n",
       "      <th>tf_sem_pref</th>\n",
       "      <th>tf_sem_null</th>\n",
       "      <th>DSI_ratio</th>\n",
       "    </tr>\n",
       "  </thead>\n",
       "  <tbody>\n",
       "    <tr>\n",
       "      <th>3080</th>\n",
       "      <td>0</td>\n",
       "      <td>529022196</td>\n",
       "      <td>Cux2-CreERT2</td>\n",
       "      <td>VISp</td>\n",
       "      <td>275</td>\n",
       "      <td>90</td>\n",
       "      <td>15</td>\n",
       "      <td>8</td>\n",
       "      <td>0.0123231</td>\n",
       "      <td>0.00446745</td>\n",
       "      <td>0.687608</td>\n",
       "      <td>-0.114908</td>\n",
       "      <td>[0.299772369272, 0.506908524231, 0.51308905975...</td>\n",
       "      <td>[0.000716312148471, 0.00216572189734, 0.003132...</td>\n",
       "      <td>[0.000385899539368, 0.00070866876741, 0.001007...</td>\n",
       "      <td>[0.000209911652109, 0.00071032575029, 0.001614...</td>\n",
       "      <td>[0.000172192671464, 0.000339083896498, 0.00035...</td>\n",
       "      <td>-0.167112</td>\n",
       "    </tr>\n",
       "  </tbody>\n",
       "</table>\n",
       "</div>"
      ],
      "text/plain": [
       "      index cell_specimen_id           cre  area  depth pref_dir pref_tf  \\\n",
       "3080      0        529022196  Cux2-CreERT2  VISp    275       90      15   \n",
       "\n",
       "     pref_null_tf pref_response null_response DSI_pref_tf DSI_null_tf  \\\n",
       "3080            8     0.0123231    0.00446745    0.687608   -0.114908   \n",
       "\n",
       "                                             DSI_tuning  \\\n",
       "3080  [0.299772369272, 0.506908524231, 0.51308905975...   \n",
       "\n",
       "                                         tf_tuning_pref  \\\n",
       "3080  [0.000716312148471, 0.00216572189734, 0.003132...   \n",
       "\n",
       "                                         tf_tuning_null  \\\n",
       "3080  [0.000385899539368, 0.00070866876741, 0.001007...   \n",
       "\n",
       "                                            tf_sem_pref  \\\n",
       "3080  [0.000209911652109, 0.00071032575029, 0.001614...   \n",
       "\n",
       "                                            tf_sem_null DSI_ratio  \n",
       "3080  [0.000172192671464, 0.000339083896498, 0.00035... -0.167112  "
      ]
     },
     "execution_count": 92,
     "metadata": {},
     "output_type": "execute_result"
    }
   ],
   "source": [
    "dgtf_all[dgtf_all.cell_specimen_id==529022196]"
   ]
  },
  {
   "cell_type": "code",
   "execution_count": 93,
   "metadata": {},
   "outputs": [
    {
     "data": {
      "text/html": [
       "<div>\n",
       "<style>\n",
       "    .dataframe thead tr:only-child th {\n",
       "        text-align: right;\n",
       "    }\n",
       "\n",
       "    .dataframe thead th {\n",
       "        text-align: left;\n",
       "    }\n",
       "\n",
       "    .dataframe tbody tr th {\n",
       "        vertical-align: top;\n",
       "    }\n",
       "</style>\n",
       "<table border=\"1\" class=\"dataframe\">\n",
       "  <thead>\n",
       "    <tr style=\"text-align: right;\">\n",
       "      <th></th>\n",
       "      <th>index</th>\n",
       "      <th>cell_specimen_id</th>\n",
       "      <th>cre</th>\n",
       "      <th>area</th>\n",
       "      <th>depth</th>\n",
       "      <th>pref_dir</th>\n",
       "      <th>pref_tf</th>\n",
       "      <th>pref_null_tf</th>\n",
       "      <th>pref_response</th>\n",
       "      <th>null_response</th>\n",
       "      <th>DSI_pref_tf</th>\n",
       "      <th>DSI_null_tf</th>\n",
       "      <th>DSI_tuning</th>\n",
       "      <th>tf_tuning_pref</th>\n",
       "      <th>tf_tuning_null</th>\n",
       "      <th>tf_sem_pref</th>\n",
       "      <th>tf_sem_null</th>\n",
       "      <th>DSI_ratio</th>\n",
       "    </tr>\n",
       "  </thead>\n",
       "  <tbody>\n",
       "    <tr>\n",
       "      <th>3098</th>\n",
       "      <td>18</td>\n",
       "      <td>529023544</td>\n",
       "      <td>Cux2-CreERT2</td>\n",
       "      <td>VISp</td>\n",
       "      <td>275</td>\n",
       "      <td>315</td>\n",
       "      <td>2</td>\n",
       "      <td>2</td>\n",
       "      <td>0.00337337</td>\n",
       "      <td>0.0023381</td>\n",
       "      <td>0.181262</td>\n",
       "      <td>0.181262</td>\n",
       "      <td>[0.14912042768, 0.181261860181, 0.249683465741...</td>\n",
       "      <td>[0.0029487587975, 0.00337337471174, 0.00317289...</td>\n",
       "      <td>[0.00218344271327, 0.00233810184643, 0.0019050...</td>\n",
       "      <td>[0.000952287292933, 0.000926053302935, 0.00077...</td>\n",
       "      <td>[0.000666896648323, 0.000829554916576, 0.00049...</td>\n",
       "      <td>1</td>\n",
       "    </tr>\n",
       "  </tbody>\n",
       "</table>\n",
       "</div>"
      ],
      "text/plain": [
       "      index cell_specimen_id           cre  area  depth pref_dir pref_tf  \\\n",
       "3098     18        529023544  Cux2-CreERT2  VISp    275      315       2   \n",
       "\n",
       "     pref_null_tf pref_response null_response DSI_pref_tf DSI_null_tf  \\\n",
       "3098            2    0.00337337     0.0023381    0.181262    0.181262   \n",
       "\n",
       "                                             DSI_tuning  \\\n",
       "3098  [0.14912042768, 0.181261860181, 0.249683465741...   \n",
       "\n",
       "                                         tf_tuning_pref  \\\n",
       "3098  [0.0029487587975, 0.00337337471174, 0.00317289...   \n",
       "\n",
       "                                         tf_tuning_null  \\\n",
       "3098  [0.00218344271327, 0.00233810184643, 0.0019050...   \n",
       "\n",
       "                                            tf_sem_pref  \\\n",
       "3098  [0.000952287292933, 0.000926053302935, 0.00077...   \n",
       "\n",
       "                                            tf_sem_null DSI_ratio  \n",
       "3098  [0.000666896648323, 0.000829554916576, 0.00049...         1  "
      ]
     },
     "execution_count": 93,
     "metadata": {},
     "output_type": "execute_result"
    }
   ],
   "source": [
    "dgtf_all[dgtf_all.cell_specimen_id==529023544]"
   ]
  },
  {
   "cell_type": "code",
   "execution_count": 9,
   "metadata": {
    "collapsed": true
   },
   "outputs": [],
   "source": [
    "subset = dgtf_all[(dgtf_all.pref_response>.003)&(dgtf_all.null_response>.003)]"
   ]
  },
  {
   "cell_type": "code",
   "execution_count": 4,
   "metadata": {},
   "outputs": [
    {
     "data": {
      "text/plain": [
       "9721"
      ]
     },
     "execution_count": 4,
     "metadata": {},
     "output_type": "execute_result"
    }
   ],
   "source": [
    "len(dgtf_all[dgtf_all.pref_response>.003])"
   ]
  },
  {
   "cell_type": "code",
   "execution_count": 5,
   "metadata": {},
   "outputs": [
    {
     "data": {
      "text/plain": [
       "4029"
      ]
     },
     "execution_count": 5,
     "metadata": {},
     "output_type": "execute_result"
    }
   ],
   "source": [
    "len(subset)"
   ]
  },
  {
   "cell_type": "code",
   "execution_count": null,
   "metadata": {
    "collapsed": true
   },
   "outputs": [],
   "source": [
    "for i in range(1696):\n",
    "    if np.mod(i,50)==0:\n",
    "        print i\n",
    "    plt.figure(figsize=(8,6))\n",
    "    plt.errorbar(range(5),subset.tf_tuning_pref.iloc[i], subset.tf_sem_pref.iloc[i], fmt='o-', label=np.round(subset.DSI_pref_tf.iloc[i],2))\n",
    "    plt.errorbar(range(5),subset.tf_tuning_null.iloc[i], subset.tf_sem_null.iloc[i], fmt='o-', label=np.round(subset.DSI_null_tf.iloc[i],2))\n",
    "    plt.xticks(range(5), dg.tfvals[1:])\n",
    "    plt.xlabel(\"Temporal frequency\", fontsize=18)\n",
    "    plt.ylabel(\"DF/F\", fontsize=18)\n",
    "    plt.tick_params(labelsize=16)\n",
    "    plt.legend()\n",
    "    plt.title(str(subset.cell_specimen_id.iloc[i]), fontsize=18)\n",
    "    plt.savefig(os.path.join('DGTF', str(subset.cell_specimen_id.iloc[i])+'.png'))\n",
    "    plt.close()"
   ]
  },
  {
   "cell_type": "markdown",
   "metadata": {},
   "source": [
    "a lot of cells like 117 where TF tuning is mostly same except at the preferred TF.\n",
    "Cell 169 is good example"
   ]
  },
  {
   "cell_type": "code",
   "execution_count": null,
   "metadata": {
    "collapsed": true
   },
   "outputs": [],
   "source": [
    "potential_cells.append(i)"
   ]
  },
  {
   "cell_type": "code",
   "execution_count": null,
   "metadata": {
    "collapsed": true
   },
   "outputs": [],
   "source": [
    "potential_cells"
   ]
  },
  {
   "cell_type": "code",
   "execution_count": 71,
   "metadata": {},
   "outputs": [
    {
     "data": {
      "text/plain": [
       "<matplotlib.lines.Line2D at 0x11bdbad50>"
      ]
     },
     "execution_count": 71,
     "metadata": {},
     "output_type": "execute_result"
    },
    {
     "data": {
      "image/png": "[encoded data removed]",
      "text/plain": [
       "<matplotlib.figure.Figure at 0x11bdc8750>"
      ]
     },
     "metadata": {},
     "output_type": "display_data"
    }
   ],
   "source": [
    "plt.plot(subset.DSI_pref_tf, subset.DSI_null_tf, 'o')\n",
    "# plt.plot([-5,5],[-5,5], color='k')\n",
    "# plt.xlim(-2,5)\n",
    "# plt.ylim(-2,5)\n",
    "plt.axhline(y=0, ls='--', color='k')"
   ]
  },
  {
   "cell_type": "code",
   "execution_count": 99,
   "metadata": {},
   "outputs": [
    {
     "data": {
      "text/plain": [
       "([<matplotlib.axis.XTick at 0x11c09b290>,\n",
       "  <matplotlib.axis.XTick at 0x11c4476d0>,\n",
       "  <matplotlib.axis.XTick at 0x11ca75a50>,\n",
       "  <matplotlib.axis.XTick at 0x11ca75d90>,\n",
       "  <matplotlib.axis.XTick at 0x11ca995d0>],\n",
       " <a list of 5 Text xticklabel objects>)"
      ]
     },
     "execution_count": 99,
     "metadata": {},
     "output_type": "execute_result"
    },
    {
     "data": {
      "image/png": "[encoded data removed]",
      "text/plain": [
       "<matplotlib.figure.Figure at 0x11c408410>"
      ]
     },
     "metadata": {},
     "output_type": "display_data"
    }
   ],
   "source": [
    "i=7\n",
    "plt.plot(subset.DSI_tuning.iloc[i], 'o-')\n",
    "plt.axhline(y=0, ls='--', color='k')\n",
    "plt.xticks(range(5), tfvals[1:])"
   ]
  },
  {
   "cell_type": "code",
   "execution_count": 80,
   "metadata": {
    "collapsed": true
   },
   "outputs": [],
   "source": [
    "def dsi_dif(f):\n",
    "    return f['DSI_pref_tf']/f['DSI_null_tf']"
   ]
  },
  {
   "cell_type": "code",
   "execution_count": 89,
   "metadata": {},
   "outputs": [
    {
     "ename": "IndexError",
     "evalue": "only integers, slices (`:`), ellipsis (`...`), numpy.newaxis (`None`) and integer or boolean arrays are valid indices",
     "output_type": "error",
     "traceback": [
      "\u001b[0;31m\u001b[0m",
      "\u001b[0;31mIndexError\u001b[0mTraceback (most recent call last)",
      "\u001b[0;32m<ipython-input-89-6523843fa82e>\u001b[0m in \u001b[0;36m<module>\u001b[0;34m()\u001b[0m\n\u001b[0;32m----> 1\u001b[0;31m \u001b[0mdsi_dif\u001b[0m\u001b[0;34m(\u001b[0m\u001b[0msubset\u001b[0m\u001b[0;34m.\u001b[0m\u001b[0mDSI_tuning\u001b[0m\u001b[0;34m.\u001b[0m\u001b[0miloc\u001b[0m\u001b[0;34m[\u001b[0m\u001b[0mi\u001b[0m\u001b[0;34m]\u001b[0m\u001b[0;34m)\u001b[0m\u001b[0;34m\u001b[0m\u001b[0m\n\u001b[0m",
      "\u001b[0;32m<ipython-input-78-5c68535b7155>\u001b[0m in \u001b[0;36mdsi_dif\u001b[0;34m(f)\u001b[0m\n\u001b[1;32m      1\u001b[0m \u001b[0;32mdef\u001b[0m \u001b[0mdsi_dif\u001b[0m\u001b[0;34m(\u001b[0m\u001b[0mf\u001b[0m\u001b[0;34m)\u001b[0m\u001b[0;34m:\u001b[0m\u001b[0;34m\u001b[0m\u001b[0m\n\u001b[0;32m----> 2\u001b[0;31m     \u001b[0;32mreturn\u001b[0m \u001b[0mf\u001b[0m\u001b[0;34m[\u001b[0m\u001b[0;34m'DSI_pref_tf'\u001b[0m\u001b[0;34m]\u001b[0m\u001b[0;34m/\u001b[0m\u001b[0mf\u001b[0m\u001b[0;34m[\u001b[0m\u001b[0;34m'DSI_null_tf'\u001b[0m\u001b[0;34m]\u001b[0m\u001b[0;34m\u001b[0m\u001b[0m\n\u001b[0m",
      "\u001b[0;31mIndexError\u001b[0m: only integers, slices (`:`), ellipsis (`...`), numpy.newaxis (`None`) and integer or boolean arrays are valid indices"
     ]
    }
   ],
   "source": [
    "dsi_dif(subset.DSI_tuning.iloc[i])"
   ]
  },
  {
   "cell_type": "code",
   "execution_count": 7,
   "metadata": {
    "collapsed": true
   },
   "outputs": [],
   "source": [
    "dgtf_all['DSI_ratio'] = dgtf_all.DSI_null_tf/dgtf_all.DSI_pref_tf"
   ]
  },
  {
   "cell_type": "code",
   "execution_count": 10,
   "metadata": {},
   "outputs": [
    {
     "name": "stdout",
     "output_type": "stream",
     "text": [
      "1382\n",
      "2647\n"
     ]
    }
   ],
   "source": [
    "print(len(subset[subset.DSI_ratio<0.]))\n",
    "print(len(subset[subset.DSI_ratio>0.]))"
   ]
  },
  {
   "cell_type": "code",
   "execution_count": 85,
   "metadata": {
    "collapsed": true
   },
   "outputs": [],
   "source": [
    "temp =  subset[(subset.DSI_ratio>-10)&(subset.DSI_ratio<0)]"
   ]
  },
  {
   "cell_type": "code",
   "execution_count": 90,
   "metadata": {},
   "outputs": [
    {
     "name": "stderr",
     "output_type": "stream",
     "text": [
      "/Users/saskiad/anaconda2/lib/python2.7/site-packages/numpy/core/_methods.py:29: RuntimeWarning: tp_compare didn't return -1 or -2 for exception\n",
      "  return umr_minimum(a, axis, None, out, keepdims)\n"
     ]
    },
    {
     "data": {
      "text/plain": [
       "index                          0\n",
       "cell_specimen_id       517397474\n",
       "cre                 Cux2-CreERT2\n",
       "area                        VISp\n",
       "depth                        175\n",
       "pref_dir                       0\n",
       "pref_tf                        1\n",
       "pref_null_tf                   1\n",
       "pref_response         0.00302528\n",
       "null_response         0.00300252\n",
       "DSI_pref_tf          0.000252124\n",
       "DSI_null_tf                   -1\n",
       "DSI_ratio               -215.236\n",
       "dtype: object"
      ]
     },
     "execution_count": 90,
     "metadata": {},
     "output_type": "execute_result"
    }
   ],
   "source": []
  },
  {
   "cell_type": "code",
   "execution_count": 86,
   "metadata": {},
   "outputs": [
    {
     "data": {
      "text/plain": [
       "1375"
      ]
     },
     "execution_count": 86,
     "metadata": {},
     "output_type": "execute_result"
    }
   ],
   "source": [
    "len(temp)"
   ]
  },
  {
   "cell_type": "code",
   "execution_count": 87,
   "metadata": {},
   "outputs": [
    {
     "data": {
      "text/plain": [
       "0.16278285500999254"
      ]
     },
     "execution_count": 87,
     "metadata": {},
     "output_type": "execute_result"
    }
   ],
   "source": [
    "subset[subset.depth==175].DSI_ratio.mean()"
   ]
  },
  {
   "cell_type": "code",
   "execution_count": 88,
   "metadata": {},
   "outputs": [
    {
     "data": {
      "text/plain": [
       "0.083585050027383409"
      ]
     },
     "execution_count": 88,
     "metadata": {},
     "output_type": "execute_result"
    }
   ],
   "source": [
    "subset[subset.depth==275].DSI_ratio.mean()"
   ]
  },
  {
   "cell_type": "code",
   "execution_count": 89,
   "metadata": {},
   "outputs": [
    {
     "data": {
      "text/plain": [
       "-0.81540043314004496"
      ]
     },
     "execution_count": 89,
     "metadata": {},
     "output_type": "execute_result"
    }
   ],
   "source": [
    "subset[subset.depth==300].DSI_ratio.mean()"
   ]
  },
  {
   "cell_type": "code",
   "execution_count": 107,
   "metadata": {
    "collapsed": true
   },
   "outputs": [],
   "source": [
    "import seaborn as sns"
   ]
  },
  {
   "cell_type": "code",
   "execution_count": 14,
   "metadata": {},
   "outputs": [
    {
     "data": {
      "image/png": "[encoded data removed]",
      "text/plain": [
       "<matplotlib.figure.Figure at 0x1087d9090>"
      ]
     },
     "metadata": {},
     "output_type": "display_data"
    }
   ],
   "source": [
    "plt.hist(subset[subset.DSI_ratio>-200].DSI_ratio.astype(float), bins=30, range=(-10,10));"
   ]
  },
  {
   "cell_type": "code",
   "execution_count": 225,
   "metadata": {
    "collapsed": true
   },
   "outputs": [],
   "source": [
    "dgtf_all['DSI_ratio'] = dgtf_all.DSI_ratio.astype(float)"
   ]
  },
  {
   "cell_type": "code",
   "execution_count": 161,
   "metadata": {},
   "outputs": [
    {
     "data": {
      "text/html": [
       "<div>\n",
       "<style scoped>\n",
       "    .dataframe tbody tr th:only-of-type {\n",
       "        vertical-align: middle;\n",
       "    }\n",
       "\n",
       "    .dataframe tbody tr th {\n",
       "        vertical-align: top;\n",
       "    }\n",
       "\n",
       "    .dataframe thead th {\n",
       "        text-align: right;\n",
       "    }\n",
       "</style>\n",
       "<table border=\"1\" class=\"dataframe\">\n",
       "  <thead>\n",
       "    <tr style=\"text-align: right;\">\n",
       "      <th></th>\n",
       "      <th>index</th>\n",
       "      <th>cell_specimen_id</th>\n",
       "      <th>cre</th>\n",
       "      <th>area</th>\n",
       "      <th>depth</th>\n",
       "      <th>pref_dir</th>\n",
       "      <th>pref_tf</th>\n",
       "      <th>pref_null_tf</th>\n",
       "      <th>pref_response</th>\n",
       "      <th>null_response</th>\n",
       "      <th>DSI_pref_tf</th>\n",
       "      <th>DSI_null_tf</th>\n",
       "      <th>DSI_tuning</th>\n",
       "      <th>tf_tuning_pref</th>\n",
       "      <th>tf_tuning_null</th>\n",
       "      <th>tf_sem_pref</th>\n",
       "      <th>tf_sem_null</th>\n",
       "      <th>DSI_ratio</th>\n",
       "    </tr>\n",
       "  </thead>\n",
       "  <tbody>\n",
       "    <tr>\n",
       "      <th>7003</th>\n",
       "      <td>90</td>\n",
       "      <td>562753338</td>\n",
       "      <td>Emx1-IRES-Cre/wt</td>\n",
       "      <td>VISp</td>\n",
       "      <td>275</td>\n",
       "      <td>0</td>\n",
       "      <td>8</td>\n",
       "      <td>15</td>\n",
       "      <td>71.6773</td>\n",
       "      <td>68.6458</td>\n",
       "      <td>0.374727</td>\n",
       "      <td>-3.28466e-05</td>\n",
       "      <td>[1.0, 0.104306565148, 0.178326673774, 0.374727...</td>\n",
       "      <td>[8.38656664689, 7.62295820415, 9.96962172699, ...</td>\n",
       "      <td>[-0.527647112993, 6.18291499217, 6.95203836759...</td>\n",
       "      <td>[2.78957331093, 2.21673629476, 2.86904944321, ...</td>\n",
       "      <td>[3.49797365006, 1.96842663283, 3.82506941262, ...</td>\n",
       "      <td>-11408.396246</td>\n",
       "    </tr>\n",
       "  </tbody>\n",
       "</table>\n",
       "</div>"
      ],
      "text/plain": [
       "      index cell_specimen_id               cre  area  depth  pref_dir  \\\n",
       "7003     90        562753338  Emx1-IRES-Cre/wt  VISp    275         0   \n",
       "\n",
       "      pref_tf  pref_null_tf pref_response null_response DSI_pref_tf  \\\n",
       "7003        8            15       71.6773       68.6458    0.374727   \n",
       "\n",
       "      DSI_null_tf                                         DSI_tuning  \\\n",
       "7003 -3.28466e-05  [1.0, 0.104306565148, 0.178326673774, 0.374727...   \n",
       "\n",
       "                                         tf_tuning_pref  \\\n",
       "7003  [8.38656664689, 7.62295820415, 9.96962172699, ...   \n",
       "\n",
       "                                         tf_tuning_null  \\\n",
       "7003  [-0.527647112993, 6.18291499217, 6.95203836759...   \n",
       "\n",
       "                                            tf_sem_pref  \\\n",
       "7003  [2.78957331093, 2.21673629476, 2.86904944321, ...   \n",
       "\n",
       "                                            tf_sem_null     DSI_ratio  \n",
       "7003  [3.49797365006, 1.96842663283, 3.82506941262, ... -11408.396246  "
      ]
     },
     "execution_count": 161,
     "metadata": {},
     "output_type": "execute_result"
    }
   ],
   "source": [
    "subset[subset.DSI_ratio<-200]"
   ]
  },
  {
   "cell_type": "code",
   "execution_count": 160,
   "metadata": {},
   "outputs": [
    {
     "data": {
      "text/plain": [
       "[<matplotlib.lines.Line2D at 0x7f8bd016e250>]"
      ]
     },
     "execution_count": 160,
     "metadata": {},
     "output_type": "execute_result"
    },
    {
     "data": {
      "image/png": "[encoded data removed]",
      "text/plain": [
       "<Figure size 432x288 with 1 Axes>"
      ]
     },
     "metadata": {},
     "output_type": "display_data"
    }
   ],
   "source": [
    "plt.plot(subset[subset.DSI_ratio<-200].tf_tuning_pref.iloc[0])\n",
    "plt.plot(subset[subset.DSI_ratio<-200].tf_tuning_null.iloc[0])"
   ]
  },
  {
   "cell_type": "code",
   "execution_count": 16,
   "metadata": {},
   "outputs": [
    {
     "name": "stdout",
     "output_type": "stream",
     "text": [
      "0.205903362879\n",
      "0.226394983631\n",
      "0.240043175114\n"
     ]
    }
   ],
   "source": [
    "print(subset[(np.abs(subset.DSI_ratio)<10)&(subset.depth==175)].DSI_ratio.mean())\n",
    "print(subset[(np.abs(subset.DSI_ratio)<10)&(subset.depth==275)].DSI_ratio.mean())\n",
    "print(subset[(np.abs(subset.DSI_ratio)<10)&(subset.depth==375)].DSI_ratio.mean())"
   ]
  },
  {
   "cell_type": "code",
   "execution_count": 17,
   "metadata": {},
   "outputs": [
    {
     "name": "stdout",
     "output_type": "stream",
     "text": [
      "(175, 0.20590336287899982)\n",
      "(275, 0.2263949836305001)\n",
      "(375, 0.2400431751139141)\n",
      "(400, 0.34659192468362365)\n",
      "(300, -0.2652155350782901)\n",
      "(335, -0.275887512096496)\n",
      "(350, 0.11118535760209601)\n",
      "(550, 0.23956935163370885)\n",
      "(265, -0.18461696602856378)\n",
      "(285, 0.3757821583850868)\n"
     ]
    }
   ],
   "source": [
    "for depth in subset.depth.unique():\n",
    "    print(depth, subset[(np.abs(subset.DSI_ratio)<10)&(subset.depth==depth)].DSI_ratio.mean())"
   ]
  },
  {
   "cell_type": "code",
   "execution_count": 18,
   "metadata": {},
   "outputs": [
    {
     "data": {
      "text/plain": [
       "Text(0,0.5,u'DSI ratio null:pref')"
      ]
     },
     "execution_count": 18,
     "metadata": {},
     "output_type": "execute_result"
    },
    {
     "data": {
      "image/png": "[encoded data removed]",
      "text/plain": [
       "<matplotlib.figure.Figure at 0x1087e3350>"
      ]
     },
     "metadata": {},
     "output_type": "display_data"
    }
   ],
   "source": [
    "plt.plot(subset[np.abs(subset.DSI_ratio)<10].groupby('cre').DSI_ratio.mean(), 'o-')\n",
    "plt.xticks(rotation=45)\n",
    "plt.ylabel(\"DSI ratio null:pref\")"
   ]
  },
  {
   "cell_type": "code",
   "execution_count": 23,
   "metadata": {},
   "outputs": [
    {
     "data": {
      "text/plain": [
       "array(['Cux2-CreERT2', 'Emx1-IRES-Cre', 'Fezf2-CreER', 'Nr5a1-Cre',\n",
       "       'Ntsr1-Cre_GN220', 'Rbp4-Cre_KL100', 'Rorb-IRES2-Cre',\n",
       "       'Scnn1a-Tg3-Cre', 'Slc17a7-IRES2-Cre', 'Sst-IRES-Cre',\n",
       "       'Tlx3-Cre_PL56', 'Vip-IRES-Cre'], dtype=object)"
      ]
     },
     "execution_count": 23,
     "metadata": {},
     "output_type": "execute_result"
    }
   ],
   "source": [
    "subset.cre.unique()"
   ]
  },
  {
   "cell_type": "code",
   "execution_count": 25,
   "metadata": {},
   "outputs": [
    {
     "data": {
      "text/plain": [
       "([<matplotlib.axis.XTick at 0x1089fe7d0>,\n",
       "  <matplotlib.axis.XTick at 0x10882b5d0>,\n",
       "  <matplotlib.axis.XTick at 0x10919a050>,\n",
       "  <matplotlib.axis.XTick at 0x1087bf550>,\n",
       "  <matplotlib.axis.XTick at 0x1087bf350>,\n",
       "  <matplotlib.axis.XTick at 0x108763150>,\n",
       "  <matplotlib.axis.XTick at 0x108763d50>,\n",
       "  <matplotlib.axis.XTick at 0x108763650>,\n",
       "  <matplotlib.axis.XTick at 0x108779950>,\n",
       "  <matplotlib.axis.XTick at 0x108779150>,\n",
       "  <matplotlib.axis.XTick at 0x108779390>,\n",
       "  <matplotlib.axis.XTick at 0x108786350>],\n",
       " <a list of 12 Text xticklabel objects>)"
      ]
     },
     "execution_count": 25,
     "metadata": {},
     "output_type": "execute_result"
    },
    {
     "data": {
      "image/png": "[encoded data removed]",
      "text/plain": [
       "<matplotlib.figure.Figure at 0x108b0edd0>"
      ]
     },
     "metadata": {},
     "output_type": "display_data"
    }
   ],
   "source": [
    "plt.errorbar(range(12), subset[np.abs(subset.DSI_ratio)<10].groupby('cre').DSI_ratio.mean(), \n",
    "             yerr=subset[np.abs(subset.DSI_ratio)<10].groupby('cre').DSI_ratio.std()/np.sqrt(subset[np.abs(subset.DSI_ratio)<10].groupby('cre').DSI_ratio.count()), \n",
    "             fmt='o-')\n",
    "plt.xticks(range(12),['Cux2','Emx1','Fezf2','Nr5a1','Ntsr1','Rbp4','Rorb','Scnn1a','Slc17a7','SST','Tlx3','VIP'], rotation=90)"
   ]
  },
  {
   "cell_type": "code",
   "execution_count": 26,
   "metadata": {},
   "outputs": [
    {
     "data": {
      "text/plain": [
       "cre\n",
       "Cux2-CreERT2          792\n",
       "Emx1-IRES-Cre        1656\n",
       "Fezf2-CreER           137\n",
       "Nr5a1-Cre              67\n",
       "Ntsr1-Cre_GN220        58\n",
       "Rbp4-Cre_KL100        159\n",
       "Rorb-IRES2-Cre        260\n",
       "Scnn1a-Tg3-Cre        177\n",
       "Slc17a7-IRES2-Cre     360\n",
       "Sst-IRES-Cre          153\n",
       "Tlx3-Cre_PL56         163\n",
       "Vip-IRES-Cre           40\n",
       "Name: DSI_ratio, dtype: int64"
      ]
     },
     "execution_count": 26,
     "metadata": {},
     "output_type": "execute_result"
    }
   ],
   "source": [
    "subset[np.abs(subset.DSI_ratio)<10].groupby('cre').DSI_ratio.count()"
   ]
  },
  {
   "cell_type": "code",
   "execution_count": 287,
   "metadata": {},
   "outputs": [
    {
     "data": {
      "text/plain": [
       "-4.7734853795382524"
      ]
     },
     "execution_count": 287,
     "metadata": {},
     "output_type": "execute_result"
    }
   ],
   "source": [
    "subset.DSI_ratio.min()"
   ]
  },
  {
   "cell_type": "code",
   "execution_count": 27,
   "metadata": {},
   "outputs": [
    {
     "data": {
      "image/png": "[encoded data removed]",
      "text/plain": [
       "<matplotlib.figure.Figure at 0x1092e1950>"
      ]
     },
     "metadata": {},
     "output_type": "display_data"
    }
   ],
   "source": [
    "plt.plot(subset[np.abs(subset.DSI_ratio)<10].groupby('depth').DSI_ratio.mean(), 'o-')\n",
    "plt.xlabel(\"Imaging depth (um)\", fontsize=18)\n",
    "plt.ylabel(\"DSI ratio null:pref\", fontsize=18)\n",
    "plt.tick_params(labelsize=16)"
   ]
  },
  {
   "cell_type": "code",
   "execution_count": 28,
   "metadata": {},
   "outputs": [
    {
     "data": {
      "image/png": "[encoded data removed]",
      "text/plain": [
       "<matplotlib.figure.Figure at 0x1092e1150>"
      ]
     },
     "metadata": {},
     "output_type": "display_data"
    }
   ],
   "source": [
    "plt.errorbar(np.sort(subset.depth.unique()), subset[np.abs(subset.DSI_ratio)<10].groupby('depth').DSI_ratio.mean(), \n",
    "                     yerr=subset[np.abs(subset.DSI_ratio)<10].groupby('depth').DSI_ratio.std()/np.sqrt(subset[np.abs(subset.DSI_ratio)<20].groupby('depth').DSI_ratio.count()), \n",
    "                     fmt='o-')\n",
    "plt.xlabel(\"Imaging depth (um)\", fontsize=18)\n",
    "plt.ylabel(\"DSI ratio null:pref\", fontsize=18)\n",
    "plt.tick_params(labelsize=16)"
   ]
  },
  {
   "cell_type": "code",
   "execution_count": 233,
   "metadata": {},
   "outputs": [
    {
     "data": {
      "text/plain": [
       "array([u'Scnn1a-Tg3-Cre/wt', u'Nr5a1-Cre/wt'], dtype=object)"
      ]
     },
     "execution_count": 233,
     "metadata": {},
     "output_type": "execute_result"
    }
   ],
   "source": [
    "subset[subset.depth==335].cre.unique()"
   ]
  },
  {
   "cell_type": "code",
   "execution_count": 290,
   "metadata": {
    "collapsed": true
   },
   "outputs": [],
   "source": [
    "temp = subset[(np.abs(subset.DSI_ratio)<20)&(subset.depth==335)]"
   ]
  },
  {
   "cell_type": "code",
   "execution_count": 291,
   "metadata": {},
   "outputs": [
    {
     "name": "stdout",
     "output_type": "stream",
     "text": [
      "1.0\n"
     ]
    },
    {
     "data": {
      "image/png": "[encoded data removed]",
      "text/plain": [
       "<Figure size 432x288 with 1 Axes>"
      ]
     },
     "metadata": {},
     "output_type": "display_data"
    }
   ],
   "source": [
    "plt.plot(temp.DSI_tuning.iloc[0])\n",
    "print(temp.DSI_ratio.iloc[0])"
   ]
  },
  {
   "cell_type": "code",
   "execution_count": 134,
   "metadata": {
    "collapsed": true
   },
   "outputs": [],
   "source": [
    "temp = subset[np.abs(subset.DSI_ratio)<20]\n",
    "for i in range(len(temp)):\n",
    "    plt.figure(figsize=(8,12))\n",
    "    plt.subplot(211)\n",
    "    plt.errorbar(range(5),temp.tf_tuning_pref.iloc[i], temp.tf_sem_pref.iloc[i], fmt='o-', label=np.round(temp.DSI_pref_tf.iloc[i],2))\n",
    "    plt.errorbar(range(5),temp.tf_tuning_null.iloc[i], temp.tf_sem_null.iloc[i], fmt='o-', label=np.round(temp.DSI_null_tf.iloc[i],2))\n",
    "    plt.xticks(range(5), tfvals[1:])\n",
    "    # plt.xlabel(\"Temporal frequency\", fontsize=18)\n",
    "    plt.ylabel(\"Event magnitude\", fontsize=18)\n",
    "    plt.tick_params(labelsize=16)\n",
    "    plt.legend()\n",
    "    plt.title(str(temp.cell_specimen_id.iloc[i])+'_'+str(temp.cre.iloc[i].split('-')[0])+'_'+str(temp.depth.iloc[i]), fontsize=18)\n",
    "    plt.subplot(212)\n",
    "    plt.plot(temp.DSI_tuning.iloc[i], 'o-')\n",
    "    plt.xticks(range(5), tfvals[1:])\n",
    "    plt.xlabel(\"Temporal frequency\", fontsize=18)\n",
    "    plt.ylabel(\"DSI\", fontsize=18)\n",
    "    plt.axhline(y=0, ls='--', color='k')\n",
    "    plt.tick_params(labelsize=16)\n",
    "    plt.title(\"DSI ratio = \"+str(np.round(temp.DSI_ratio.iloc[i],3)), fontsize=16)\n",
    "    plt.savefig(os.path.join(r'/Users/saskiad/Documents/Data/CAM/Direction tuning TF/event plots', str(temp.cell_specimen_id.iloc[i])+'.png'))\n",
    "    plt.close()\n"
   ]
  },
  {
   "cell_type": "code",
   "execution_count": 319,
   "metadata": {},
   "outputs": [
    {
     "data": {
      "text/plain": [
       "2018"
      ]
     },
     "execution_count": 319,
     "metadata": {},
     "output_type": "execute_result"
    }
   ],
   "source": [
    "len(temp)"
   ]
  },
  {
   "cell_type": "code",
   "execution_count": 318,
   "metadata": {},
   "outputs": [
    {
     "data": {
      "text/html": [
       "<div>\n",
       "<style scoped>\n",
       "    .dataframe tbody tr th:only-of-type {\n",
       "        vertical-align: middle;\n",
       "    }\n",
       "\n",
       "    .dataframe tbody tr th {\n",
       "        vertical-align: top;\n",
       "    }\n",
       "\n",
       "    .dataframe thead th {\n",
       "        text-align: right;\n",
       "    }\n",
       "</style>\n",
       "<table border=\"1\" class=\"dataframe\">\n",
       "  <thead>\n",
       "    <tr style=\"text-align: right;\">\n",
       "      <th></th>\n",
       "      <th>index</th>\n",
       "      <th>cell_specimen_id</th>\n",
       "      <th>cre</th>\n",
       "      <th>area</th>\n",
       "      <th>depth</th>\n",
       "      <th>pref_dir</th>\n",
       "      <th>pref_tf</th>\n",
       "      <th>pref_null_tf</th>\n",
       "      <th>pref_response</th>\n",
       "      <th>null_response</th>\n",
       "      <th>DSI_pref_tf</th>\n",
       "      <th>DSI_null_tf</th>\n",
       "      <th>DSI_tuning</th>\n",
       "      <th>tf_tuning_pref</th>\n",
       "      <th>tf_tuning_null</th>\n",
       "      <th>tf_sem_pref</th>\n",
       "      <th>tf_sem_null</th>\n",
       "      <th>DSI_ratio</th>\n",
       "    </tr>\n",
       "  </thead>\n",
       "  <tbody>\n",
       "    <tr>\n",
       "      <th>8665</th>\n",
       "      <td>223</td>\n",
       "      <td>517515242</td>\n",
       "      <td>Cux2-CreERT2/wt</td>\n",
       "      <td>VISp</td>\n",
       "      <td>275</td>\n",
       "      <td>90</td>\n",
       "      <td>4</td>\n",
       "      <td>15</td>\n",
       "      <td>17.8061</td>\n",
       "      <td>14.3291</td>\n",
       "      <td>0.952983</td>\n",
       "      <td>-0.42607</td>\n",
       "      <td>[0.84729959494, 0.81371685525, 0.952982630848,...</td>\n",
       "      <td>[4.89902514418, 7.00923695564, 17.8061282396, ...</td>\n",
       "      <td>[0.404960368077, 0.719904376815, 0.42867626746...</td>\n",
       "      <td>[2.46498998786, 1.82674123072, 3.5240180176, 2...</td>\n",
       "      <td>[1.79670560444, 0.618170357933, 1.11282114124,...</td>\n",
       "      <td>-0.447091</td>\n",
       "    </tr>\n",
       "  </tbody>\n",
       "</table>\n",
       "</div>"
      ],
      "text/plain": [
       "      index cell_specimen_id              cre  area  depth  pref_dir  pref_tf  \\\n",
       "8665    223        517515242  Cux2-CreERT2/wt  VISp    275        90        4   \n",
       "\n",
       "      pref_null_tf pref_response null_response DSI_pref_tf DSI_null_tf  \\\n",
       "8665            15       17.8061       14.3291    0.952983    -0.42607   \n",
       "\n",
       "                                             DSI_tuning  \\\n",
       "8665  [0.84729959494, 0.81371685525, 0.952982630848,...   \n",
       "\n",
       "                                         tf_tuning_pref  \\\n",
       "8665  [4.89902514418, 7.00923695564, 17.8061282396, ...   \n",
       "\n",
       "                                         tf_tuning_null  \\\n",
       "8665  [0.404960368077, 0.719904376815, 0.42867626746...   \n",
       "\n",
       "                                            tf_sem_pref  \\\n",
       "8665  [2.46498998786, 1.82674123072, 3.5240180176, 2...   \n",
       "\n",
       "                                            tf_sem_null  DSI_ratio  \n",
       "8665  [1.79670560444, 0.618170357933, 1.11282114124,...  -0.447091  "
      ]
     },
     "execution_count": 318,
     "metadata": {},
     "output_type": "execute_result"
    }
   ],
   "source": [
    "temp[temp.cell_specimen_id==517515242]"
   ]
  },
  {
   "cell_type": "code",
   "execution_count": 229,
   "metadata": {},
   "outputs": [
    {
     "data": {
      "text/plain": [
       "[<matplotlib.lines.Line2D at 0x7f8bd07c8090>]"
      ]
     },
     "execution_count": 229,
     "metadata": {},
     "output_type": "execute_result"
    },
    {
     "data": {
      "image/png": "[encoded data removed]",
      "text/plain": [
       "<Figure size 432x288 with 1 Axes>"
      ]
     },
     "metadata": {},
     "output_type": "display_data"
    }
   ],
   "source": [
    "plt.plot(temp.DSI_ratio, 'o')"
   ]
  },
  {
   "cell_type": "code",
   "execution_count": 236,
   "metadata": {},
   "outputs": [
    {
     "data": {
      "text/html": [
       "<div>\n",
       "<style scoped>\n",
       "    .dataframe tbody tr th:only-of-type {\n",
       "        vertical-align: middle;\n",
       "    }\n",
       "\n",
       "    .dataframe tbody tr th {\n",
       "        vertical-align: top;\n",
       "    }\n",
       "\n",
       "    .dataframe thead th {\n",
       "        text-align: right;\n",
       "    }\n",
       "</style>\n",
       "<table border=\"1\" class=\"dataframe\">\n",
       "  <thead>\n",
       "    <tr style=\"text-align: right;\">\n",
       "      <th></th>\n",
       "      <th>index</th>\n",
       "      <th>cell_specimen_id</th>\n",
       "      <th>cre</th>\n",
       "      <th>area</th>\n",
       "      <th>depth</th>\n",
       "      <th>pref_dir</th>\n",
       "      <th>pref_tf</th>\n",
       "      <th>pref_null_tf</th>\n",
       "      <th>pref_response</th>\n",
       "      <th>null_response</th>\n",
       "      <th>DSI_pref_tf</th>\n",
       "      <th>DSI_null_tf</th>\n",
       "      <th>DSI_tuning</th>\n",
       "      <th>tf_tuning_pref</th>\n",
       "      <th>tf_tuning_null</th>\n",
       "      <th>tf_sem_pref</th>\n",
       "      <th>tf_sem_null</th>\n",
       "      <th>DSI_ratio</th>\n",
       "    </tr>\n",
       "  </thead>\n",
       "  <tbody>\n",
       "    <tr>\n",
       "      <th>5301</th>\n",
       "      <td>8</td>\n",
       "      <td>539773178</td>\n",
       "      <td>Scnn1a-Tg3-Cre/wt</td>\n",
       "      <td>VISp</td>\n",
       "      <td>335</td>\n",
       "      <td>180</td>\n",
       "      <td>15</td>\n",
       "      <td>15</td>\n",
       "      <td>32.5997</td>\n",
       "      <td>32.428</td>\n",
       "      <td>0.0026394</td>\n",
       "      <td>0.0026394</td>\n",
       "      <td>[-1.0, 0.400853932411, 0.08843313769, 0.030701...</td>\n",
       "      <td>[-0.941105145216, 5.57227147023, 13.2616020759...</td>\n",
       "      <td>[1.81433422963, 2.38326385192, 11.1066418091, ...</td>\n",
       "      <td>[1.27382054324, 1.00580269348, 2.06698088098, ...</td>\n",
       "      <td>[0.733997107681, 1.36642296391, 2.56752580952,...</td>\n",
       "      <td>1.000000</td>\n",
       "    </tr>\n",
       "    <tr>\n",
       "      <th>5319</th>\n",
       "      <td>26</td>\n",
       "      <td>539773009</td>\n",
       "      <td>Scnn1a-Tg3-Cre/wt</td>\n",
       "      <td>VISp</td>\n",
       "      <td>335</td>\n",
       "      <td>90</td>\n",
       "      <td>15</td>\n",
       "      <td>8</td>\n",
       "      <td>13.5514</td>\n",
       "      <td>4.71987</td>\n",
       "      <td>0.748489</td>\n",
       "      <td>-0.485277</td>\n",
       "      <td>[nan, -0.154539294355, nan, -0.48527693499, 0....</td>\n",
       "      <td>[-3.87585828404, 0.733032538866, -0.8073008159...</td>\n",
       "      <td>[-3.59809341431, 1.00101029476, -0.39374880393...</td>\n",
       "      <td>[5.56181817892, 2.23579949399, 6.0729946971, 5...</td>\n",
       "      <td>[5.15553081449, 6.89375351197, 3.76362700801, ...</td>\n",
       "      <td>-0.648342</td>\n",
       "    </tr>\n",
       "    <tr>\n",
       "      <th>5336</th>\n",
       "      <td>43</td>\n",
       "      <td>539773276</td>\n",
       "      <td>Scnn1a-Tg3-Cre/wt</td>\n",
       "      <td>VISp</td>\n",
       "      <td>335</td>\n",
       "      <td>180</td>\n",
       "      <td>2</td>\n",
       "      <td>1</td>\n",
       "      <td>14.5134</td>\n",
       "      <td>6.08405</td>\n",
       "      <td>0.938457</td>\n",
       "      <td>-0.832464</td>\n",
       "      <td>[-0.83246443421, 0.938457456745, 0.89689810344...</td>\n",
       "      <td>[0.55624268204, 14.5133895953, 2.50846243302, ...</td>\n",
       "      <td>[6.08405103013, 0.460774057146, 0.136342186132...</td>\n",
       "      <td>[0.698700637051, 6.65658364106, 1.38673052516,...</td>\n",
       "      <td>[6.06505010319, 0.491558169938, 0.588934535378...</td>\n",
       "      <td>-0.887056</td>\n",
       "    </tr>\n",
       "    <tr>\n",
       "      <th>6679</th>\n",
       "      <td>14</td>\n",
       "      <td>541281363</td>\n",
       "      <td>Nr5a1-Cre/wt</td>\n",
       "      <td>VISp</td>\n",
       "      <td>335</td>\n",
       "      <td>270</td>\n",
       "      <td>15</td>\n",
       "      <td>15</td>\n",
       "      <td>5.32891</td>\n",
       "      <td>4.99755</td>\n",
       "      <td>0.0320885</td>\n",
       "      <td>0.0320885</td>\n",
       "      <td>[-1.0, nan, -1.0, 1.0, 0.0320885128212]</td>\n",
       "      <td>[-0.621756440401, -0.00428652923022, -0.687000...</td>\n",
       "      <td>[0.499405058225, -1.63294031459, 0.81130771562...</td>\n",
       "      <td>[0.893205198952, 0.418825984802, 0.71614240815...</td>\n",
       "      <td>[0.432488621588, 1.05821423606, 0.257297972834...</td>\n",
       "      <td>1.000000</td>\n",
       "    </tr>\n",
       "    <tr>\n",
       "      <th>6705</th>\n",
       "      <td>40</td>\n",
       "      <td>541281543</td>\n",
       "      <td>Nr5a1-Cre/wt</td>\n",
       "      <td>VISp</td>\n",
       "      <td>335</td>\n",
       "      <td>0</td>\n",
       "      <td>1</td>\n",
       "      <td>2</td>\n",
       "      <td>24.943</td>\n",
       "      <td>6.4008</td>\n",
       "      <td>0.685253</td>\n",
       "      <td>-0.943777</td>\n",
       "      <td>[0.685253320379, -0.943776875976, nan, nan, nan]</td>\n",
       "      <td>[24.9429576159, 0.185140986244, -1.39803754712...</td>\n",
       "      <td>[4.65847655932, 6.4007963645, -0.527628253897,...</td>\n",
       "      <td>[18.4434383864, 0.324709200453, 1.5051682535, ...</td>\n",
       "      <td>[2.15275258964, 4.0137658447, 0.531508599175, ...</td>\n",
       "      <td>-1.377267</td>\n",
       "    </tr>\n",
       "  </tbody>\n",
       "</table>\n",
       "</div>"
      ],
      "text/plain": [
       "      index cell_specimen_id                cre  area  depth  pref_dir  \\\n",
       "5301      8        539773178  Scnn1a-Tg3-Cre/wt  VISp    335       180   \n",
       "5319     26        539773009  Scnn1a-Tg3-Cre/wt  VISp    335        90   \n",
       "5336     43        539773276  Scnn1a-Tg3-Cre/wt  VISp    335       180   \n",
       "6679     14        541281363       Nr5a1-Cre/wt  VISp    335       270   \n",
       "6705     40        541281543       Nr5a1-Cre/wt  VISp    335         0   \n",
       "\n",
       "      pref_tf  pref_null_tf pref_response null_response DSI_pref_tf  \\\n",
       "5301       15            15       32.5997        32.428   0.0026394   \n",
       "5319       15             8       13.5514       4.71987    0.748489   \n",
       "5336        2             1       14.5134       6.08405    0.938457   \n",
       "6679       15            15       5.32891       4.99755   0.0320885   \n",
       "6705        1             2        24.943        6.4008    0.685253   \n",
       "\n",
       "     DSI_null_tf                                         DSI_tuning  \\\n",
       "5301   0.0026394  [-1.0, 0.400853932411, 0.08843313769, 0.030701...   \n",
       "5319   -0.485277  [nan, -0.154539294355, nan, -0.48527693499, 0....   \n",
       "5336   -0.832464  [-0.83246443421, 0.938457456745, 0.89689810344...   \n",
       "6679   0.0320885            [-1.0, nan, -1.0, 1.0, 0.0320885128212]   \n",
       "6705   -0.943777   [0.685253320379, -0.943776875976, nan, nan, nan]   \n",
       "\n",
       "                                         tf_tuning_pref  \\\n",
       "5301  [-0.941105145216, 5.57227147023, 13.2616020759...   \n",
       "5319  [-3.87585828404, 0.733032538866, -0.8073008159...   \n",
       "5336  [0.55624268204, 14.5133895953, 2.50846243302, ...   \n",
       "6679  [-0.621756440401, -0.00428652923022, -0.687000...   \n",
       "6705  [24.9429576159, 0.185140986244, -1.39803754712...   \n",
       "\n",
       "                                         tf_tuning_null  \\\n",
       "5301  [1.81433422963, 2.38326385192, 11.1066418091, ...   \n",
       "5319  [-3.59809341431, 1.00101029476, -0.39374880393...   \n",
       "5336  [6.08405103013, 0.460774057146, 0.136342186132...   \n",
       "6679  [0.499405058225, -1.63294031459, 0.81130771562...   \n",
       "6705  [4.65847655932, 6.4007963645, -0.527628253897,...   \n",
       "\n",
       "                                            tf_sem_pref  \\\n",
       "5301  [1.27382054324, 1.00580269348, 2.06698088098, ...   \n",
       "5319  [5.56181817892, 2.23579949399, 6.0729946971, 5...   \n",
       "5336  [0.698700637051, 6.65658364106, 1.38673052516,...   \n",
       "6679  [0.893205198952, 0.418825984802, 0.71614240815...   \n",
       "6705  [18.4434383864, 0.324709200453, 1.5051682535, ...   \n",
       "\n",
       "                                            tf_sem_null  DSI_ratio  \n",
       "5301  [0.733997107681, 1.36642296391, 2.56752580952,...   1.000000  \n",
       "5319  [5.15553081449, 6.89375351197, 3.76362700801, ...  -0.648342  \n",
       "5336  [6.06505010319, 0.491558169938, 0.588934535378...  -0.887056  \n",
       "6679  [0.432488621588, 1.05821423606, 0.257297972834...   1.000000  \n",
       "6705  [2.15275258964, 4.0137658447, 0.531508599175, ...  -1.377267  "
      ]
     },
     "execution_count": 236,
     "metadata": {},
     "output_type": "execute_result"
    }
   ],
   "source": [
    "temp"
   ]
  },
  {
   "cell_type": "code",
   "execution_count": 289,
   "metadata": {},
   "outputs": [
    {
     "data": {
      "text/plain": [
       "[<matplotlib.lines.Line2D at 0x7f8bd088de50>]"
      ]
     },
     "execution_count": 289,
     "metadata": {},
     "output_type": "execute_result"
    },
    {
     "data": {
      "image/png": "[encoded data removed]",
      "text/plain": [
       "<Figure size 432x288 with 1 Axes>"
      ]
     },
     "metadata": {},
     "output_type": "display_data"
    }
   ],
   "source": [
    "plt.plot(subset[(np.abs(subset.DSI_ratio<20))&(subset.depth==275)].tf_tuning_pref.iloc[1])\n",
    "plt.plot(subset[(np.abs(subset.DSI_ratio<20))&(subset.depth==275)].tf_tuning_null.iloc[1])\n",
    "print subset"
   ]
  },
  {
   "cell_type": "code",
   "execution_count": 321,
   "metadata": {
    "collapsed": true
   },
   "outputs": [],
   "source": [
    "dgtf_all.to_csv('dgtf_all.csv')"
   ]
  },
  {
   "cell_type": "code",
   "execution_count": 322,
   "metadata": {},
   "outputs": [
    {
     "data": {
      "text/plain": [
       "2045"
      ]
     },
     "execution_count": 322,
     "metadata": {},
     "output_type": "execute_result"
    }
   ],
   "source": [
    "len(subset)"
   ]
  },
  {
   "cell_type": "code",
   "execution_count": 341,
   "metadata": {
    "collapsed": true
   },
   "outputs": [],
   "source": [
    "subset[subset.DSI_ratio<0.3].cell_specimen_id.values;"
   ]
  },
  {
   "cell_type": "code",
   "execution_count": 339,
   "metadata": {
    "collapsed": true
   },
   "outputs": [],
   "source": [
    "subset[subset.DSI_ratio>0.6].cell_specimen_id.values;"
   ]
  },
  {
   "cell_type": "code",
   "execution_count": 96,
   "metadata": {},
   "outputs": [
    {
     "data": {
      "text/html": [
       "<div>\n",
       "<style>\n",
       "    .dataframe thead tr:only-child th {\n",
       "        text-align: right;\n",
       "    }\n",
       "\n",
       "    .dataframe thead th {\n",
       "        text-align: left;\n",
       "    }\n",
       "\n",
       "    .dataframe tbody tr th {\n",
       "        vertical-align: top;\n",
       "    }\n",
       "</style>\n",
       "<table border=\"1\" class=\"dataframe\">\n",
       "  <thead>\n",
       "    <tr style=\"text-align: right;\">\n",
       "      <th></th>\n",
       "      <th>cell_specimen_id</th>\n",
       "      <th>pref_ori_dg</th>\n",
       "      <th>pref_tf_dg</th>\n",
       "      <th>num_pref_trials_dg</th>\n",
       "      <th>responsive_dg</th>\n",
       "      <th>g_osi_dg</th>\n",
       "      <th>g_dsi_dg</th>\n",
       "      <th>tfdi_dg</th>\n",
       "      <th>reliability_dg</th>\n",
       "      <th>lifetime_sparseness_dg</th>\n",
       "      <th>fit_tf_dg</th>\n",
       "      <th>fit_tf_ind_dg</th>\n",
       "      <th>tf_low_cutoff_dg</th>\n",
       "      <th>tf_high_cutoff_dg</th>\n",
       "      <th>run_pval_dg</th>\n",
       "      <th>run_resp_dg</th>\n",
       "      <th>stat_resp_dg</th>\n",
       "      <th>run_mod_dg</th>\n",
       "      <th>peak_blank_dg</th>\n",
       "      <th>all_blank_dg</th>\n",
       "    </tr>\n",
       "  </thead>\n",
       "  <tbody>\n",
       "    <tr>\n",
       "      <th>0</th>\n",
       "      <td>670050036</td>\n",
       "      <td>270</td>\n",
       "      <td>4</td>\n",
       "      <td>2</td>\n",
       "      <td>False</td>\n",
       "      <td>0.144064</td>\n",
       "      <td>0.116159</td>\n",
       "      <td>0.264099</td>\n",
       "      <td>-0.0213555</td>\n",
       "      <td>0.346501</td>\n",
       "      <td>NaN</td>\n",
       "      <td>NaN</td>\n",
       "      <td>NaN</td>\n",
       "      <td>NaN</td>\n",
       "      <td>0.296473</td>\n",
       "      <td>0.000325043</td>\n",
       "      <td>0.00158386</td>\n",
       "      <td>-0.794778</td>\n",
       "      <td>0.000220041</td>\n",
       "      <td>-0.00045962</td>\n",
       "    </tr>\n",
       "    <tr>\n",
       "      <th>1</th>\n",
       "      <td>670050098</td>\n",
       "      <td>180</td>\n",
       "      <td>1</td>\n",
       "      <td>1</td>\n",
       "      <td>False</td>\n",
       "      <td>0.401658</td>\n",
       "      <td>0.216572</td>\n",
       "      <td>0.328234</td>\n",
       "      <td>-0.0189113</td>\n",
       "      <td>0.668243</td>\n",
       "      <td>NaN</td>\n",
       "      <td>NaN</td>\n",
       "      <td>NaN</td>\n",
       "      <td>NaN</td>\n",
       "      <td>0.66334</td>\n",
       "      <td>0.00145675</td>\n",
       "      <td>0.00218924</td>\n",
       "      <td>-0.334585</td>\n",
       "      <td>-2.32791e-05</td>\n",
       "      <td>-0.00164077</td>\n",
       "    </tr>\n",
       "    <tr>\n",
       "      <th>2</th>\n",
       "      <td>670050073</td>\n",
       "      <td>180</td>\n",
       "      <td>1</td>\n",
       "      <td>0</td>\n",
       "      <td>False</td>\n",
       "      <td>0.351182</td>\n",
       "      <td>0.13115</td>\n",
       "      <td>0.353991</td>\n",
       "      <td>0.0409238</td>\n",
       "      <td>0.627547</td>\n",
       "      <td>NaN</td>\n",
       "      <td>NaN</td>\n",
       "      <td>NaN</td>\n",
       "      <td>NaN</td>\n",
       "      <td>0.823513</td>\n",
       "      <td>0.00164571</td>\n",
       "      <td>0.00136018</td>\n",
       "      <td>0.1735</td>\n",
       "      <td>-0.000460046</td>\n",
       "      <td>-0.00163479</td>\n",
       "    </tr>\n",
       "    <tr>\n",
       "      <th>3</th>\n",
       "      <td>670050087</td>\n",
       "      <td>315</td>\n",
       "      <td>1</td>\n",
       "      <td>1</td>\n",
       "      <td>False</td>\n",
       "      <td>0.476703</td>\n",
       "      <td>0.445172</td>\n",
       "      <td>0.233235</td>\n",
       "      <td>-0.0413054</td>\n",
       "      <td>0.583641</td>\n",
       "      <td>NaN</td>\n",
       "      <td>NaN</td>\n",
       "      <td>NaN</td>\n",
       "      <td>NaN</td>\n",
       "      <td>0.391966</td>\n",
       "      <td>0.004199</td>\n",
       "      <td>0.000261455</td>\n",
       "      <td>0.937734</td>\n",
       "      <td>0.000813232</td>\n",
       "      <td>-0.00073382</td>\n",
       "    </tr>\n",
       "    <tr>\n",
       "      <th>4</th>\n",
       "      <td>670050143</td>\n",
       "      <td>180</td>\n",
       "      <td>1</td>\n",
       "      <td>1</td>\n",
       "      <td>False</td>\n",
       "      <td>0.565705</td>\n",
       "      <td>0.136085</td>\n",
       "      <td>0.281874</td>\n",
       "      <td>-0.0242517</td>\n",
       "      <td>0.588047</td>\n",
       "      <td>NaN</td>\n",
       "      <td>NaN</td>\n",
       "      <td>NaN</td>\n",
       "      <td>NaN</td>\n",
       "      <td>0.38456</td>\n",
       "      <td>0.0039509</td>\n",
       "      <td>0.000555048</td>\n",
       "      <td>0.859513</td>\n",
       "      <td>-0.00020442</td>\n",
       "      <td>-0.0016277</td>\n",
       "    </tr>\n",
       "    <tr>\n",
       "      <th>5</th>\n",
       "      <td>670049985</td>\n",
       "      <td>180</td>\n",
       "      <td>1</td>\n",
       "      <td>2</td>\n",
       "      <td>False</td>\n",
       "      <td>0.313226</td>\n",
       "      <td>0.0405329</td>\n",
       "      <td>0.293663</td>\n",
       "      <td>-0.0169492</td>\n",
       "      <td>0.343037</td>\n",
       "      <td>NaN</td>\n",
       "      <td>NaN</td>\n",
       "      <td>NaN</td>\n",
       "      <td>NaN</td>\n",
       "      <td>0.159014</td>\n",
       "      <td>0.00211329</td>\n",
       "      <td>0.000735425</td>\n",
       "      <td>0.652</td>\n",
       "      <td>0.000622585</td>\n",
       "      <td>-0.000164646</td>\n",
       "    </tr>\n",
       "    <tr>\n",
       "      <th>6</th>\n",
       "      <td>670049965</td>\n",
       "      <td>0</td>\n",
       "      <td>1</td>\n",
       "      <td>2</td>\n",
       "      <td>False</td>\n",
       "      <td>0.715624</td>\n",
       "      <td>0.099611</td>\n",
       "      <td>0.348002</td>\n",
       "      <td>0.0476332</td>\n",
       "      <td>0.762640</td>\n",
       "      <td>NaN</td>\n",
       "      <td>NaN</td>\n",
       "      <td>NaN</td>\n",
       "      <td>NaN</td>\n",
       "      <td>0.201028</td>\n",
       "      <td>0.0104477</td>\n",
       "      <td>0.00126846</td>\n",
       "      <td>0.878589</td>\n",
       "      <td>0.00277226</td>\n",
       "      <td>-0.000528328</td>\n",
       "    </tr>\n",
       "    <tr>\n",
       "      <th>7</th>\n",
       "      <td>670049916</td>\n",
       "      <td>0</td>\n",
       "      <td>1</td>\n",
       "      <td>2</td>\n",
       "      <td>False</td>\n",
       "      <td>0.520003</td>\n",
       "      <td>0.102366</td>\n",
       "      <td>0.281878</td>\n",
       "      <td>-0.0263909</td>\n",
       "      <td>0.643982</td>\n",
       "      <td>NaN</td>\n",
       "      <td>NaN</td>\n",
       "      <td>NaN</td>\n",
       "      <td>NaN</td>\n",
       "      <td>0.523901</td>\n",
       "      <td>0.00458815</td>\n",
       "      <td>0.00174802</td>\n",
       "      <td>0.619015</td>\n",
       "      <td>0.00015544</td>\n",
       "      <td>-0.00191658</td>\n",
       "    </tr>\n",
       "    <tr>\n",
       "      <th>8</th>\n",
       "      <td>670050110</td>\n",
       "      <td>0</td>\n",
       "      <td>1</td>\n",
       "      <td>1</td>\n",
       "      <td>False</td>\n",
       "      <td>0.580484</td>\n",
       "      <td>0.0506534</td>\n",
       "      <td>0.275485</td>\n",
       "      <td>0.0669137</td>\n",
       "      <td>0.700305</td>\n",
       "      <td>NaN</td>\n",
       "      <td>NaN</td>\n",
       "      <td>NaN</td>\n",
       "      <td>NaN</td>\n",
       "      <td>0.310185</td>\n",
       "      <td>0.0197272</td>\n",
       "      <td>0.00126272</td>\n",
       "      <td>0.935991</td>\n",
       "      <td>-0.000144696</td>\n",
       "      <td>-0.00536992</td>\n",
       "    </tr>\n",
       "    <tr>\n",
       "      <th>9</th>\n",
       "      <td>670050121</td>\n",
       "      <td>180</td>\n",
       "      <td>1</td>\n",
       "      <td>1</td>\n",
       "      <td>False</td>\n",
       "      <td>0.540381</td>\n",
       "      <td>0.201476</td>\n",
       "      <td>0.346861</td>\n",
       "      <td>0.0337769</td>\n",
       "      <td>0.738543</td>\n",
       "      <td>NaN</td>\n",
       "      <td>NaN</td>\n",
       "      <td>NaN</td>\n",
       "      <td>NaN</td>\n",
       "      <td>0.168481</td>\n",
       "      <td>0.0133157</td>\n",
       "      <td>0.00149458</td>\n",
       "      <td>0.887758</td>\n",
       "      <td>-0.000717347</td>\n",
       "      <td>-0.00578718</td>\n",
       "    </tr>\n",
       "  </tbody>\n",
       "</table>\n",
       "</div>"
      ],
      "text/plain": [
       "  cell_specimen_id pref_ori_dg pref_tf_dg num_pref_trials_dg responsive_dg  \\\n",
       "0        670050036         270          4                  2         False   \n",
       "1        670050098         180          1                  1         False   \n",
       "2        670050073         180          1                  0         False   \n",
       "3        670050087         315          1                  1         False   \n",
       "4        670050143         180          1                  1         False   \n",
       "5        670049985         180          1                  2         False   \n",
       "6        670049965           0          1                  2         False   \n",
       "7        670049916           0          1                  2         False   \n",
       "8        670050110           0          1                  1         False   \n",
       "9        670050121         180          1                  1         False   \n",
       "\n",
       "   g_osi_dg   g_dsi_dg   tfdi_dg reliability_dg  lifetime_sparseness_dg  \\\n",
       "0  0.144064   0.116159  0.264099     -0.0213555                0.346501   \n",
       "1  0.401658   0.216572  0.328234     -0.0189113                0.668243   \n",
       "2  0.351182    0.13115  0.353991      0.0409238                0.627547   \n",
       "3  0.476703   0.445172  0.233235     -0.0413054                0.583641   \n",
       "4  0.565705   0.136085  0.281874     -0.0242517                0.588047   \n",
       "5  0.313226  0.0405329  0.293663     -0.0169492                0.343037   \n",
       "6  0.715624   0.099611  0.348002      0.0476332                0.762640   \n",
       "7  0.520003   0.102366  0.281878     -0.0263909                0.643982   \n",
       "8  0.580484  0.0506534  0.275485      0.0669137                0.700305   \n",
       "9  0.540381   0.201476  0.346861      0.0337769                0.738543   \n",
       "\n",
       "  fit_tf_dg fit_tf_ind_dg tf_low_cutoff_dg tf_high_cutoff_dg run_pval_dg  \\\n",
       "0       NaN           NaN              NaN               NaN    0.296473   \n",
       "1       NaN           NaN              NaN               NaN     0.66334   \n",
       "2       NaN           NaN              NaN               NaN    0.823513   \n",
       "3       NaN           NaN              NaN               NaN    0.391966   \n",
       "4       NaN           NaN              NaN               NaN     0.38456   \n",
       "5       NaN           NaN              NaN               NaN    0.159014   \n",
       "6       NaN           NaN              NaN               NaN    0.201028   \n",
       "7       NaN           NaN              NaN               NaN    0.523901   \n",
       "8       NaN           NaN              NaN               NaN    0.310185   \n",
       "9       NaN           NaN              NaN               NaN    0.168481   \n",
       "\n",
       "   run_resp_dg stat_resp_dg run_mod_dg peak_blank_dg all_blank_dg  \n",
       "0  0.000325043   0.00158386  -0.794778   0.000220041  -0.00045962  \n",
       "1   0.00145675   0.00218924  -0.334585  -2.32791e-05  -0.00164077  \n",
       "2   0.00164571   0.00136018     0.1735  -0.000460046  -0.00163479  \n",
       "3     0.004199  0.000261455   0.937734   0.000813232  -0.00073382  \n",
       "4    0.0039509  0.000555048   0.859513   -0.00020442   -0.0016277  \n",
       "5   0.00211329  0.000735425      0.652   0.000622585 -0.000164646  \n",
       "6    0.0104477   0.00126846   0.878589    0.00277226 -0.000528328  \n",
       "7   0.00458815   0.00174802   0.619015    0.00015544  -0.00191658  \n",
       "8    0.0197272   0.00126272   0.935991  -0.000144696  -0.00536992  \n",
       "9    0.0133157   0.00149458   0.887758  -0.000717347  -0.00578718  "
      ]
     },
     "execution_count": 96,
     "metadata": {},
     "output_type": "execute_result"
    }
   ],
   "source": [
    "peak"
   ]
  },
  {
   "cell_type": "code",
   "execution_count": 132,
   "metadata": {},
   "outputs": [
    {
     "data": {
      "text/plain": [
       "Text(0.5,1,u'587178397')"
      ]
     },
     "execution_count": 132,
     "metadata": {},
     "output_type": "execute_result"
    },
    {
     "data": {
      "image/png": "[encoded data removed]",
      "text/plain": [
       "<matplotlib.figure.Figure at 0x125d9fe50>"
      ]
     },
     "metadata": {},
     "output_type": "display_data"
    }
   ],
   "source": [
    "i=26\n",
    "plt.figure(figsize=(8,6))\n",
    "plt.errorbar(range(5), subset.tf_tuning_pref.iloc[i], yerr=subset.tf_sem_pref.iloc[i], fmt='o-', label=np.round(subset.DSI_pref_tf.iloc[i],2))\n",
    "plt.errorbar(range(5), subset.tf_tuning_null.iloc[i], yerr=subset.tf_sem_null.iloc[i], fmt='o-', label=np.round(subset.DSI_null_tf.iloc[i],2))\n",
    "plt.xticks(range(5), tfvals[1:])\n",
    "plt.xlabel(\"Temporal frequency\", fontsize=18)\n",
    "plt.ylabel(\"Event mangitude\", fontsize=18)\n",
    "plt.tick_params(labelsize=16)\n",
    "plt.legend()\n",
    "plt.title(str(subset.cell_specimen_id.iloc[i]), fontsize=18)"
   ]
  },
  {
   "cell_type": "code",
   "execution_count": null,
   "metadata": {
    "collapsed": true
   },
   "outputs": [],
   "source": []
  }
 ],
 "metadata": {
  "kernelspec": {
   "display_name": "Python [default]",
   "language": "python",
   "name": "python2"
  },
  "language_info": {
   "codemirror_mode": {
    "name": "ipython",
    "version": 2
   },
   "file_extension": ".py",
   "mimetype": "text/x-python",
   "name": "python",
   "nbconvert_exporter": "python",
   "pygments_lexer": "ipython2",
   "version": "2.7.14"
  }
 },
 "nbformat": 4,
 "nbformat_minor": 2
}
